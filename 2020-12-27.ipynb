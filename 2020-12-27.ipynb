{
 "cells": [
  {
   "cell_type": "code",
   "execution_count": 145,
   "metadata": {},
   "outputs": [],
   "source": [
    "import requests\n",
    "import pandas as pd\n",
    "from datetime import datetime\n",
    "import matplotlib.pyplot as plt\n",
    "import time"
   ]
  },
  {
   "cell_type": "code",
   "execution_count": 16,
   "metadata": {},
   "outputs": [],
   "source": [
    "def get_odds():\n",
    "    url = \"https://odds.p.rapidapi.com/v1/odds\"\n",
    "\n",
    "    querystring = {\"sport\":\"americanfootball_nfl\",\"region\":\"us\",\"mkt\":\"h2h\",\"dateFormat\":\"iso\",\"oddsFormat\":\"decimal\"}\n",
    "\n",
    "    headers = {\n",
    "        'x-rapidapi-key': \"950d6f46c7mshd207314ef9e55b3p13a24ejsn2773fa5b78fd\",\n",
    "        'x-rapidapi-host': \"odds.p.rapidapi.com\"\n",
    "        }\n",
    "\n",
    "    response = requests.request(\"GET\", url, headers=headers, params=querystring)\n",
    "\n",
    "    return response.json()['data']"
   ]
  },
  {
   "cell_type": "code",
   "execution_count": 17,
   "metadata": {},
   "outputs": [],
   "source": [
    "odds = get_odds()"
   ]
  },
  {
   "cell_type": "markdown",
   "metadata": {},
   "source": [
    "Odds that look like 1.21/4.7 represents odds 2/9 7/2.\n",
    "\n",
    "So if Chicago Bears are 1.2 that means they are listed as 2/9. 1.2 is the payout multiplier\n",
    "\n",
    "Betting 10 will payout 12. The original 10 + 2 profit."
   ]
  },
  {
   "cell_type": "code",
   "execution_count": 168,
   "metadata": {},
   "outputs": [],
   "source": [
    "matchups = [o['teams'] for o in odds]"
   ]
  },
  {
   "cell_type": "code",
   "execution_count": 18,
   "metadata": {},
   "outputs": [
    {
     "name": "stdout",
     "output_type": "stream",
     "text": [
      "['Chicago Bears', 'Jacksonville Jaguars']\n",
      "betonlineag {'h2h': [1.21, 4.7]}\n",
      "fanduel {'h2h': [1.23, 4.4]}\n",
      "lowvig {'h2h': [1.22, 4.7]}\n",
      "williamhill_us {'h2h': [1.22, 4.7]}\n",
      "bookmaker {'h2h': [1.22, 4.52]}\n",
      "caesars {'h2h': [1.23, 4.5]}\n",
      "betfair {'h2h': [1.25, 4.9], 'h2h_lay': [1.26, 5.0]}\n",
      "unibet {'h2h': [1.24, 4.4]}\n",
      "sugarhouse {'h2h': [1.24, 4.4]}\n",
      "betrivers {'h2h': [1.24, 4.4]}\n",
      "draftkings {'h2h': [1.24, 4.4]}\n",
      "gtbets {'h2h': [1.22, 4.5]}\n",
      "betmgm {'h2h': [1.22, 4.5]}\n",
      "mybookieag {'h2h': [1.22, 4.55]}\n",
      "bovada {'h2h': [1.2, 4.5]}\n",
      "pointsbetus {'h2h': [1.22, 4.4]}\n",
      "intertops {'h2h': [1.22, 4.5]}\n"
     ]
    }
   ],
   "source": [
    "print(odds[0]['teams'])\n",
    "for s in odds[0]['sites']:\n",
    "    print(s['site_key'], s['odds'])"
   ]
  },
  {
   "cell_type": "code",
   "execution_count": 134,
   "metadata": {},
   "outputs": [
    {
     "name": "stdout",
     "output_type": "stream",
     "text": [
      "['Chicago Bears', 'Jacksonville Jaguars']\n",
      "['Atlanta Falcons', 'Kansas City Chiefs']\n",
      "['Baltimore Ravens', 'New York Giants']\n",
      "['Cleveland Browns', 'New York Jets']\n",
      "['Cincinnati Bengals', 'Houston Texans']\n",
      "['Indianapolis Colts', 'Pittsburgh Steelers']\n",
      "['Denver Broncos', 'Los Angeles Chargers']\n",
      "['Carolina Panthers', 'Washington Football Team']\n",
      "['Los Angeles Rams', 'Seattle Seahawks']\n",
      "['Dallas Cowboys', 'Philadelphia Eagles']\n",
      "['Green Bay Packers', 'Tennessee Titans']\n",
      "['Buffalo Bills', 'New England Patriots']\n"
     ]
    }
   ],
   "source": [
    "for game in odds:\n",
    "    print(game['teams'])"
   ]
  },
  {
   "cell_type": "markdown",
   "metadata": {},
   "source": [
    "Will watch fanduel and draft kings today"
   ]
  },
  {
   "cell_type": "code",
   "execution_count": 74,
   "metadata": {},
   "outputs": [],
   "source": [
    "def odds_to_frame(odds):\n",
    "    frames = []\n",
    "    for game in odds:\n",
    "        for i, team in enumerate(game['teams']):\n",
    "            for site in game['sites']:\n",
    "                frame = {\n",
    "                    'team': team,\n",
    "                    'site': site['site_key'],\n",
    "                    'odds': site['odds']['h2h'][i],\n",
    "                    'time': datetime.now()\n",
    "                }\n",
    "                frames.append(frame)\n",
    "    df = pd.DataFrame(frames)\n",
    "    df = df.set_index('time')\n",
    "    return df"
   ]
  },
  {
   "cell_type": "code",
   "execution_count": 75,
   "metadata": {},
   "outputs": [],
   "source": [
    "df = odds_to_frame(odds)"
   ]
  },
  {
   "cell_type": "code",
   "execution_count": 56,
   "metadata": {},
   "outputs": [
    {
     "data": {
      "text/html": [
       "<div>\n",
       "<style scoped>\n",
       "    .dataframe tbody tr th:only-of-type {\n",
       "        vertical-align: middle;\n",
       "    }\n",
       "\n",
       "    .dataframe tbody tr th {\n",
       "        vertical-align: top;\n",
       "    }\n",
       "\n",
       "    .dataframe thead th {\n",
       "        text-align: right;\n",
       "    }\n",
       "</style>\n",
       "<table border=\"1\" class=\"dataframe\">\n",
       "  <thead>\n",
       "    <tr style=\"text-align: right;\">\n",
       "      <th></th>\n",
       "      <th>odds</th>\n",
       "    </tr>\n",
       "    <tr>\n",
       "      <th>team</th>\n",
       "      <th></th>\n",
       "    </tr>\n",
       "  </thead>\n",
       "  <tbody>\n",
       "    <tr>\n",
       "      <th>Chicago Bears</th>\n",
       "      <td>1.225882</td>\n",
       "    </tr>\n",
       "    <tr>\n",
       "      <th>Jacksonville Jaguars</th>\n",
       "      <td>4.527647</td>\n",
       "    </tr>\n",
       "  </tbody>\n",
       "</table>\n",
       "</div>"
      ],
      "text/plain": [
       "                          odds\n",
       "team                          \n",
       "Chicago Bears         1.225882\n",
       "Jacksonville Jaguars  4.527647"
      ]
     },
     "execution_count": 56,
     "metadata": {},
     "output_type": "execute_result"
    }
   ],
   "source": [
    "df[df['team'].isin(['Chicago Bears', 'Jacksonville Jaguars'])].groupby('team').mean()"
   ]
  },
  {
   "cell_type": "code",
   "execution_count": 72,
   "metadata": {},
   "outputs": [
    {
     "data": {
      "text/html": [
       "<div>\n",
       "<style scoped>\n",
       "    .dataframe tbody tr th:only-of-type {\n",
       "        vertical-align: middle;\n",
       "    }\n",
       "\n",
       "    .dataframe tbody tr th {\n",
       "        vertical-align: top;\n",
       "    }\n",
       "\n",
       "    .dataframe thead th {\n",
       "        text-align: right;\n",
       "    }\n",
       "</style>\n",
       "<table border=\"1\" class=\"dataframe\">\n",
       "  <thead>\n",
       "    <tr style=\"text-align: right;\">\n",
       "      <th></th>\n",
       "      <th>odds</th>\n",
       "      <th>team</th>\n",
       "    </tr>\n",
       "    <tr>\n",
       "      <th>time</th>\n",
       "      <th></th>\n",
       "      <th></th>\n",
       "    </tr>\n",
       "  </thead>\n",
       "  <tbody>\n",
       "    <tr>\n",
       "      <th>2020-12-27 12:58:36.561108</th>\n",
       "      <td>5.100</td>\n",
       "      <td>Atlanta Falcons</td>\n",
       "    </tr>\n",
       "    <tr>\n",
       "      <th>2020-12-27 12:58:36.561108</th>\n",
       "      <td>1.240</td>\n",
       "      <td>Baltimore Ravens</td>\n",
       "    </tr>\n",
       "    <tr>\n",
       "      <th>2020-12-27 12:58:36.561108</th>\n",
       "      <td>1.320</td>\n",
       "      <td>Buffalo Bills</td>\n",
       "    </tr>\n",
       "    <tr>\n",
       "      <th>2020-12-27 12:58:36.561108</th>\n",
       "      <td>1.855</td>\n",
       "      <td>Carolina Panthers</td>\n",
       "    </tr>\n",
       "    <tr>\n",
       "      <th>2020-12-27 12:58:36.561108</th>\n",
       "      <td>1.215</td>\n",
       "      <td>Chicago Bears</td>\n",
       "    </tr>\n",
       "  </tbody>\n",
       "</table>\n",
       "</div>"
      ],
      "text/plain": [
       "                             odds               team\n",
       "time                                                \n",
       "2020-12-27 12:58:36.561108  5.100    Atlanta Falcons\n",
       "2020-12-27 12:58:36.561108  1.240   Baltimore Ravens\n",
       "2020-12-27 12:58:36.561108  1.320      Buffalo Bills\n",
       "2020-12-27 12:58:36.561108  1.855  Carolina Panthers\n",
       "2020-12-27 12:58:36.561108  1.215      Chicago Bears"
      ]
     },
     "execution_count": 72,
     "metadata": {},
     "output_type": "execute_result"
    }
   ],
   "source": [
    "def avg_odds():\n",
    "    df = odds_to_frame(get_odds())\n",
    "    avg = df[df['site'].isin(['fanduel', 'draftkings'])].groupby('team').mean()\n",
    "    avg['time'] = datetime.now()\n",
    "    avg['team'] = avg.index\n",
    "    avg = avg.set_index('time')\n",
    "    return avg\n",
    "\n",
    "avg_odds().head()"
   ]
  },
  {
   "cell_type": "code",
   "execution_count": 78,
   "metadata": {},
   "outputs": [],
   "source": [
    "def latest():\n",
    "    return odds_to_frame(get_odds())"
   ]
  },
  {
   "cell_type": "code",
   "execution_count": 80,
   "metadata": {},
   "outputs": [],
   "source": [
    "df = pd.DataFrame()"
   ]
  },
  {
   "cell_type": "code",
   "execution_count": null,
   "metadata": {},
   "outputs": [],
   "source": []
  },
  {
   "cell_type": "code",
   "execution_count": 151,
   "metadata": {},
   "outputs": [
    {
     "name": "stdout",
     "output_type": "stream",
     "text": [
      "                      odds                \n",
      "team      Baltimore Ravens New York Giants\n",
      "time time                                 \n",
      "13   35              1.020            14.0\n",
      "     38              1.015            14.5\n",
      "     40              1.015            14.5\n",
      "     42              1.010            19.0\n",
      "     44              1.010            19.0\n"
     ]
    },
    {
     "data": {
      "image/png": "[encoded data removed]",
      "text/plain": [
       "<Figure size 432x288 with 1 Axes>"
      ]
     },
     "metadata": {
      "needs_background": "light"
     },
     "output_type": "display_data"
    }
   ],
   "source": [
    "df = pd.concat([df, latest()])\n",
    "def game_info(df, teams):\n",
    "    sites = df['site'].isin(['fanduel', 'draftkings'])\n",
    "    teams = df['team'].isin(teams)\n",
    "    df = df[sites & teams]\n",
    "    return df.groupby([df.index.hour, df.index.minute, 'team']).mean().unstack()\n",
    "    \n",
    "info = game_info(df, ['Baltimore Ravens', 'New York Giants'])\n",
    "info.plot()\n",
    "print(info.tail())\n",
    "df.to_csv('2020-12-27.csv')"
   ]
  },
  {
   "cell_type": "code",
   "execution_count": 156,
   "metadata": {},
   "outputs": [],
   "source": [
    "# while True:\n",
    "#     print('Running at: ', datetime.now())\n",
    "#     df = pd.concat([df, latest()])\n",
    "#     info = game_info(df, ['Baltimore Ravens', 'New York Giants'])\n",
    "#     info.plot()\n",
    "#     df.to_csv('2020-12-27.csv')\n",
    "#     time.sleep(60 * 5)"
   ]
  },
  {
   "cell_type": "code",
   "execution_count": 172,
   "metadata": {},
   "outputs": [],
   "source": [
    "def final_results(df, matchup):\n",
    "    info = game_info(df, matchup)\n",
    "    info.plot(grid=True)\n",
    "    print(info)"
   ]
  },
  {
   "cell_type": "code",
   "execution_count": 173,
   "metadata": {},
   "outputs": [
    {
     "name": "stdout",
     "output_type": "stream",
     "text": [
      "                   odds                     \n",
      "team      Chicago Bears Jacksonville Jaguars\n",
      "time time                                   \n",
      "13   5           1.2300               4.1500\n",
      "     6           1.2575               3.9250\n",
      "     7           1.2900               3.6000\n",
      "     8           1.3550               3.2250\n",
      "     10          1.2900               3.5750\n",
      "     13          1.2900               3.6000\n",
      "     17          1.2525               3.9375\n",
      "     19          1.2200               4.3875\n",
      "     21          1.1650               5.1500\n",
      "     22          1.1550               5.4500\n",
      "     23          1.1550               5.4500\n",
      "     31          1.0750               8.2500\n",
      "     35          1.0575               9.4250\n",
      "     38          1.0500              10.1500\n",
      "     40          1.0800               8.0500\n",
      "     42          1.0800               7.7500\n",
      "     44          1.0950               7.2000\n",
      "     45          1.1050               6.8500\n",
      "     50          1.1450               5.6000\n",
      "     55          1.3050               3.5000\n",
      "14   0           1.3000               3.5500\n",
      "     5           1.2700               3.7750\n",
      "     10          1.2050               4.5000\n",
      "     15          1.1800               4.8500\n",
      "     20          1.2900               3.6500\n",
      "     25          1.2000               4.6000\n",
      "     30          1.1950               4.6500\n",
      "     35          1.1950               4.6500\n",
      "     40          1.1350               5.8500\n",
      "     45          1.0400              11.6000\n",
      "     51          1.0400              11.3500\n",
      "     56          1.0150              14.8000\n",
      "15   1           1.0200              14.0000\n",
      "     6           1.0000              27.0000\n",
      "     11          1.0000              27.0000\n",
      "     16          1.0000              27.0000\n",
      "     21          1.0000              27.0000\n",
      "     26          1.0000              27.0000\n"
     ]
    },
    {
     "data": {
      "image/png": "[encoded data removed]",
      "text/plain": [
       "<Figure size 432x288 with 1 Axes>"
      ]
     },
     "metadata": {
      "needs_background": "light"
     },
     "output_type": "display_data"
    }
   ],
   "source": [
    "final_results(df, matchups[0])"
   ]
  },
  {
   "cell_type": "markdown",
   "metadata": {},
   "source": [
    "At 13:38 Bet 10 on Jaguars with odds 10.0 Expected Value: 100\n",
    "\n",
    "At 14:00 Bet 50 on Bears with odds 1.3 (hedge) Expected Value: 65\n",
    "\n",
    "If jaguars win, take home 100 - 50 = 50\n",
    "\n",
    "If bears win, take home 65 - 10 = 55"
   ]
  },
  {
   "cell_type": "code",
   "execution_count": null,
   "metadata": {},
   "outputs": [],
   "source": []
  },
  {
   "cell_type": "code",
   "execution_count": null,
   "metadata": {},
   "outputs": [],
   "source": []
  },
  {
   "cell_type": "code",
   "execution_count": null,
   "metadata": {},
   "outputs": [],
   "source": []
  },
  {
   "cell_type": "code",
   "execution_count": null,
   "metadata": {},
   "outputs": [],
   "source": []
  },
  {
   "cell_type": "code",
   "execution_count": null,
   "metadata": {},
   "outputs": [],
   "source": []
  },
  {
   "cell_type": "code",
   "execution_count": null,
   "metadata": {},
   "outputs": [],
   "source": []
  },
  {
   "cell_type": "code",
   "execution_count": 174,
   "metadata": {},
   "outputs": [
    {
     "name": "stdout",
     "output_type": "stream",
     "text": [
      "                     odds                   \n",
      "team      Atlanta Falcons Kansas City Chiefs\n",
      "time time                                   \n",
      "13   5             4.9250             1.1750\n",
      "     6             4.9000             1.1750\n",
      "     7             4.9000             1.1750\n",
      "     8             4.9000             1.1750\n",
      "     10            5.3500             1.1500\n",
      "     13            5.9000             1.1250\n",
      "     17            4.7000             1.1875\n",
      "     19            4.3250             1.2125\n",
      "     21            4.2000             1.2200\n",
      "     22            4.2000             1.2250\n",
      "     23            4.2000             1.2250\n",
      "     31            4.8500             1.1750\n",
      "     35            4.8500             1.1800\n",
      "     38            6.0250             1.1250\n",
      "     40            5.7000             1.1350\n",
      "     42            5.3000             1.1550\n",
      "     44            6.1500             1.1150\n",
      "     45            6.2125             1.1175\n",
      "     50            5.2500             1.1500\n",
      "     55            2.8800             1.4050\n",
      "14   0             3.1250             1.3550\n",
      "     5             3.4500             1.3000\n",
      "     10            3.8500             1.2550\n",
      "     15            4.5500             1.1950\n",
      "     20            4.1750             1.2250\n",
      "     25            4.0750             1.2350\n",
      "     30            4.2500             1.2200\n",
      "     35            6.2250             1.1150\n",
      "     40            3.6000             1.2850\n",
      "     45            3.6000             1.2800\n",
      "     51            3.8500             1.2550\n",
      "     56            4.1000             1.2300\n",
      "15   1             4.6500             1.1900\n",
      "     6             5.9000             1.1300\n",
      "     11            5.1500             1.1600\n",
      "     16            5.3750             1.2100\n",
      "     21            6.9500             1.0950\n",
      "     26            5.6000             1.1350\n",
      "     31            2.0500             1.8300\n",
      "     36            1.9600             1.8500\n",
      "     41            2.8950             1.4200\n",
      "     46            4.6000             1.1900\n",
      "     51            2.4300             1.6150\n",
      "     56           14.4650             1.4100\n",
      "16   1            14.4650             1.4100\n"
     ]
    },
    {
     "data": {
      "image/png": "[encoded data removed]",
      "text/plain": [
       "<Figure size 432x288 with 1 Axes>"
      ]
     },
     "metadata": {
      "needs_background": "light"
     },
     "output_type": "display_data"
    }
   ],
   "source": [
    "final_results(df, matchups[1])"
   ]
  },
  {
   "cell_type": "markdown",
   "metadata": {},
   "source": [
    "At 13:38 Bet 10 on Falcons with odds 6.0\n",
    "\n",
    "At 13:55 Bet 25 on Chiefs with odds 1.4\n",
    "\n",
    "Falcons win, profit 35 (60 - 25 hedge)\n",
    "\n",
    "Chiefs win, break even"
   ]
  },
  {
   "cell_type": "code",
   "execution_count": 176,
   "metadata": {},
   "outputs": [
    {
     "name": "stdout",
     "output_type": "stream",
     "text": [
      "                      odds                \n",
      "team      Baltimore Ravens New York Giants\n",
      "time time                                 \n",
      "13   5               1.205          4.4500\n",
      "     6               1.185          4.7375\n",
      "     7               1.185          4.7500\n",
      "     8               1.150          5.5500\n",
      "     10              1.130          5.8500\n",
      "     13              1.080          7.9000\n",
      "     17              1.090          7.4500\n",
      "     19              1.075          8.2500\n",
      "     21              1.060          8.7000\n",
      "     22              1.065          8.7000\n",
      "     23              1.065          8.7000\n",
      "     31              1.020         14.0000\n",
      "     35              1.020         14.0000\n",
      "     38              1.015         14.5000\n",
      "     40              1.015         14.5000\n",
      "     42              1.010         19.0000\n",
      "     44              1.010         19.0000\n",
      "     45              1.020         17.0000\n",
      "     50              1.010         23.0000\n",
      "     55              1.010         19.0000\n",
      "14   0               1.010         19.0000\n",
      "     5               1.020         14.0000\n",
      "     10              1.010         19.0000\n",
      "     15              1.010         23.0000\n",
      "     20              1.010         26.0000\n",
      "     25              1.010         26.0000\n",
      "     30              1.010         23.0000\n",
      "     35              1.010         23.0000\n",
      "     40              1.010         23.0000\n",
      "     45              1.010         23.0000\n",
      "     51              1.010         19.0000\n",
      "     56              1.020         17.0000\n",
      "15   1               1.020         15.0000\n",
      "     6               1.010         19.0000\n",
      "     11              1.010         26.0000\n",
      "     21              1.000         27.0000\n",
      "     26              1.000         27.0000\n",
      "     31              1.000         27.0000\n",
      "     36              1.000         27.0000\n",
      "     41              1.000         27.0000\n",
      "     46              1.010         19.0000\n",
      "     51              1.010         26.0000\n",
      "     56              1.000         27.0000\n",
      "16   1               1.000         27.0000\n",
      "     6               1.000         27.0000\n",
      "     11              1.000         27.0000\n"
     ]
    },
    {
     "data": {
      "image/png": "[encoded data removed]",
      "text/plain": [
       "<Figure size 432x288 with 1 Axes>"
      ]
     },
     "metadata": {
      "needs_background": "light"
     },
     "output_type": "display_data"
    }
   ],
   "source": [
    "final_results(df, matchups[2])"
   ]
  },
  {
   "cell_type": "code",
   "execution_count": 183,
   "metadata": {},
   "outputs": [
    {
     "ename": "ValueError",
     "evalue": "Invalid isoformat string: '2020-12-29T01:15:00Z'",
     "output_type": "error",
     "traceback": [
      "\u001b[0;31m---------------------------------------------------------------------------\u001b[0m",
      "\u001b[0;31mValueError\u001b[0m                                Traceback (most recent call last)",
      "\u001b[0;32m<ipython-input-183-577c769f0ad3>\u001b[0m in \u001b[0;36m<module>\u001b[0;34m\u001b[0m\n\u001b[0;32m----> 1\u001b[0;31m \u001b[0mdatetime\u001b[0m\u001b[0;34m.\u001b[0m\u001b[0mfromisoformat\u001b[0m\u001b[0;34m(\u001b[0m\u001b[0;34m\"2020-12-29T01:15:00Z\"\u001b[0m\u001b[0;34m)\u001b[0m\u001b[0;34m\u001b[0m\u001b[0;34m\u001b[0m\u001b[0m\n\u001b[0m",
      "\u001b[0;31mValueError\u001b[0m: Invalid isoformat string: '2020-12-29T01:15:00Z'"
     ]
    }
   ],
   "source": [
    "datetime."
   ]
  },
  {
   "cell_type": "code",
   "execution_count": null,
   "metadata": {},
   "outputs": [],
   "source": [
    "datetime\"2020-12-29T01:15:00Z\""
   ]
  },
  {
   "cell_type": "code",
   "execution_count": 191,
   "metadata": {},
   "outputs": [
    {
     "data": {
      "text/plain": [
       "datetime.datetime(2020, 12, 29, 1, 15)"
      ]
     },
     "execution_count": 191,
     "metadata": {},
     "output_type": "execute_result"
    }
   ],
   "source": [
    "datetime.strptime(\"2020-12-29T01:15:00Z\", \"%Y-%m-%dT%H:%M:%SZ\")"
   ]
  },
  {
   "cell_type": "code",
   "execution_count": 192,
   "metadata": {},
   "outputs": [
    {
     "data": {
      "text/html": [
       "<div>\n",
       "<style scoped>\n",
       "    .dataframe tbody tr th:only-of-type {\n",
       "        vertical-align: middle;\n",
       "    }\n",
       "\n",
       "    .dataframe tbody tr th {\n",
       "        vertical-align: top;\n",
       "    }\n",
       "\n",
       "    .dataframe thead th {\n",
       "        text-align: right;\n",
       "    }\n",
       "</style>\n",
       "<table border=\"1\" class=\"dataframe\">\n",
       "  <thead>\n",
       "    <tr style=\"text-align: right;\">\n",
       "      <th></th>\n",
       "      <th>team</th>\n",
       "      <th>site</th>\n",
       "      <th>odds</th>\n",
       "    </tr>\n",
       "    <tr>\n",
       "      <th>time</th>\n",
       "      <th></th>\n",
       "      <th></th>\n",
       "      <th></th>\n",
       "    </tr>\n",
       "  </thead>\n",
       "  <tbody>\n",
       "    <tr>\n",
       "      <th>2020-12-27 13:05:19.581906</th>\n",
       "      <td>Chicago Bears</td>\n",
       "      <td>betonlineag</td>\n",
       "      <td>1.21</td>\n",
       "    </tr>\n",
       "    <tr>\n",
       "      <th>2020-12-27 13:05:19.581915</th>\n",
       "      <td>Chicago Bears</td>\n",
       "      <td>fanduel</td>\n",
       "      <td>1.26</td>\n",
       "    </tr>\n",
       "    <tr>\n",
       "      <th>2020-12-27 13:05:19.581917</th>\n",
       "      <td>Chicago Bears</td>\n",
       "      <td>lowvig</td>\n",
       "      <td>1.22</td>\n",
       "    </tr>\n",
       "    <tr>\n",
       "      <th>2020-12-27 13:05:19.581919</th>\n",
       "      <td>Chicago Bears</td>\n",
       "      <td>williamhill_us</td>\n",
       "      <td>1.20</td>\n",
       "    </tr>\n",
       "    <tr>\n",
       "      <th>2020-12-27 13:05:19.581920</th>\n",
       "      <td>Chicago Bears</td>\n",
       "      <td>bookmaker</td>\n",
       "      <td>1.22</td>\n",
       "    </tr>\n",
       "  </tbody>\n",
       "</table>\n",
       "</div>"
      ],
      "text/plain": [
       "                                     team            site  odds\n",
       "time                                                           \n",
       "2020-12-27 13:05:19.581906  Chicago Bears     betonlineag  1.21\n",
       "2020-12-27 13:05:19.581915  Chicago Bears         fanduel  1.26\n",
       "2020-12-27 13:05:19.581917  Chicago Bears          lowvig  1.22\n",
       "2020-12-27 13:05:19.581919  Chicago Bears  williamhill_us  1.20\n",
       "2020-12-27 13:05:19.581920  Chicago Bears       bookmaker  1.22"
      ]
     },
     "execution_count": 192,
     "metadata": {},
     "output_type": "execute_result"
    }
   ],
   "source": [
    "df.head()"
   ]
  },
  {
   "cell_type": "code",
   "execution_count": 193,
   "metadata": {},
   "outputs": [],
   "source": [
    "d = datetime.now()"
   ]
  },
  {
   "cell_type": "code",
   "execution_count": null,
   "metadata": {},
   "outputs": [],
   "source": []
  },
  {
   "cell_type": "code",
   "execution_count": 195,
   "metadata": {},
   "outputs": [
    {
     "data": {
      "text/html": [
       "<div>\n",
       "<style scoped>\n",
       "    .dataframe tbody tr th:only-of-type {\n",
       "        vertical-align: middle;\n",
       "    }\n",
       "\n",
       "    .dataframe tbody tr th {\n",
       "        vertical-align: top;\n",
       "    }\n",
       "\n",
       "    .dataframe thead th {\n",
       "        text-align: right;\n",
       "    }\n",
       "</style>\n",
       "<table border=\"1\" class=\"dataframe\">\n",
       "  <thead>\n",
       "    <tr style=\"text-align: right;\">\n",
       "      <th></th>\n",
       "      <th>team</th>\n",
       "      <th>site</th>\n",
       "      <th>odds</th>\n",
       "    </tr>\n",
       "    <tr>\n",
       "      <th>time</th>\n",
       "      <th></th>\n",
       "      <th></th>\n",
       "      <th></th>\n",
       "    </tr>\n",
       "  </thead>\n",
       "  <tbody>\n",
       "    <tr>\n",
       "      <th>2020-12-27 13:05:19.581906</th>\n",
       "      <td>Chicago Bears</td>\n",
       "      <td>betonlineag</td>\n",
       "      <td>1.21</td>\n",
       "    </tr>\n",
       "    <tr>\n",
       "      <th>2020-12-27 13:05:19.581915</th>\n",
       "      <td>Chicago Bears</td>\n",
       "      <td>fanduel</td>\n",
       "      <td>1.26</td>\n",
       "    </tr>\n",
       "    <tr>\n",
       "      <th>2020-12-27 13:05:19.581917</th>\n",
       "      <td>Chicago Bears</td>\n",
       "      <td>lowvig</td>\n",
       "      <td>1.22</td>\n",
       "    </tr>\n",
       "    <tr>\n",
       "      <th>2020-12-27 13:05:19.581919</th>\n",
       "      <td>Chicago Bears</td>\n",
       "      <td>williamhill_us</td>\n",
       "      <td>1.20</td>\n",
       "    </tr>\n",
       "    <tr>\n",
       "      <th>2020-12-27 13:05:19.581920</th>\n",
       "      <td>Chicago Bears</td>\n",
       "      <td>bookmaker</td>\n",
       "      <td>1.22</td>\n",
       "    </tr>\n",
       "    <tr>\n",
       "      <th>...</th>\n",
       "      <td>...</td>\n",
       "      <td>...</td>\n",
       "      <td>...</td>\n",
       "    </tr>\n",
       "    <tr>\n",
       "      <th>2020-12-27 17:01:28.728781</th>\n",
       "      <td>New England Patriots</td>\n",
       "      <td>mybookieag</td>\n",
       "      <td>3.70</td>\n",
       "    </tr>\n",
       "    <tr>\n",
       "      <th>2020-12-27 17:01:28.728782</th>\n",
       "      <td>New England Patriots</td>\n",
       "      <td>betmgm</td>\n",
       "      <td>3.70</td>\n",
       "    </tr>\n",
       "    <tr>\n",
       "      <th>2020-12-27 17:01:28.728784</th>\n",
       "      <td>New England Patriots</td>\n",
       "      <td>pointsbetus</td>\n",
       "      <td>3.50</td>\n",
       "    </tr>\n",
       "    <tr>\n",
       "      <th>2020-12-27 17:01:28.728785</th>\n",
       "      <td>New England Patriots</td>\n",
       "      <td>fanduel</td>\n",
       "      <td>3.60</td>\n",
       "    </tr>\n",
       "    <tr>\n",
       "      <th>2020-12-27 17:01:28.728787</th>\n",
       "      <td>New England Patriots</td>\n",
       "      <td>intertops</td>\n",
       "      <td>3.60</td>\n",
       "    </tr>\n",
       "  </tbody>\n",
       "</table>\n",
       "<p>20664 rows × 3 columns</p>\n",
       "</div>"
      ],
      "text/plain": [
       "                                            team            site  odds\n",
       "time                                                                  \n",
       "2020-12-27 13:05:19.581906         Chicago Bears     betonlineag  1.21\n",
       "2020-12-27 13:05:19.581915         Chicago Bears         fanduel  1.26\n",
       "2020-12-27 13:05:19.581917         Chicago Bears          lowvig  1.22\n",
       "2020-12-27 13:05:19.581919         Chicago Bears  williamhill_us  1.20\n",
       "2020-12-27 13:05:19.581920         Chicago Bears       bookmaker  1.22\n",
       "...                                          ...             ...   ...\n",
       "2020-12-27 17:01:28.728781  New England Patriots      mybookieag  3.70\n",
       "2020-12-27 17:01:28.728782  New England Patriots          betmgm  3.70\n",
       "2020-12-27 17:01:28.728784  New England Patriots     pointsbetus  3.50\n",
       "2020-12-27 17:01:28.728785  New England Patriots         fanduel  3.60\n",
       "2020-12-27 17:01:28.728787  New England Patriots       intertops  3.60\n",
       "\n",
       "[20664 rows x 3 columns]"
      ]
     },
     "execution_count": 195,
     "metadata": {},
     "output_type": "execute_result"
    }
   ],
   "source": [
    "df[\"2020-12-27\":]"
   ]
  },
  {
   "cell_type": "code",
   "execution_count": 201,
   "metadata": {},
   "outputs": [
    {
     "data": {
      "text/plain": [
       "'a b'"
      ]
     },
     "execution_count": 201,
     "metadata": {},
     "output_type": "execute_result"
    }
   ],
   "source": [
    "\" \".join([\"a\", \"b\"])"
   ]
  },
  {
   "cell_type": "code",
   "execution_count": 212,
   "metadata": {},
   "outputs": [
    {
     "data": {
      "text/plain": [
       "MultiIndex([(13,  5),\n",
       "            (13,  6),\n",
       "            (13,  7),\n",
       "            (13,  8),\n",
       "            (13, 10),\n",
       "            (13, 13),\n",
       "            (13, 17),\n",
       "            (13, 19),\n",
       "            (13, 21),\n",
       "            (13, 22),\n",
       "            (13, 23),\n",
       "            (13, 31),\n",
       "            (13, 35),\n",
       "            (13, 38),\n",
       "            (13, 40),\n",
       "            (13, 42),\n",
       "            (13, 44),\n",
       "            (13, 45),\n",
       "            (13, 50),\n",
       "            (13, 55),\n",
       "            (14,  0),\n",
       "            (14,  5),\n",
       "            (14, 10),\n",
       "            (14, 15),\n",
       "            (14, 20),\n",
       "            (14, 25),\n",
       "            (14, 30),\n",
       "            (14, 35),\n",
       "            (14, 40),\n",
       "            (14, 45),\n",
       "            (14, 51),\n",
       "            (14, 56),\n",
       "            (15,  1),\n",
       "            (15,  6),\n",
       "            (15, 11),\n",
       "            (15, 16),\n",
       "            (15, 21),\n",
       "            (15, 26),\n",
       "            (15, 31),\n",
       "            (15, 36),\n",
       "            (15, 41),\n",
       "            (15, 46),\n",
       "            (15, 51),\n",
       "            (15, 56),\n",
       "            (16,  1),\n",
       "            (16,  6),\n",
       "            (16, 11),\n",
       "            (16, 16),\n",
       "            (16, 21),\n",
       "            (16, 26),\n",
       "            (16, 31),\n",
       "            (16, 36),\n",
       "            (16, 41),\n",
       "            (16, 46),\n",
       "            (16, 51),\n",
       "            (16, 56),\n",
       "            (17,  1)],\n",
       "           names=['hour', 'minute'])"
      ]
     },
     "execution_count": 212,
     "metadata": {},
     "output_type": "execute_result"
    }
   ],
   "source": [
    "df.groupby([df.index.hour, df.index.minute, 'team']).mean().unstack().index.rename(['hour', 'minute'])"
   ]
  },
  {
   "cell_type": "code",
   "execution_count": 217,
   "metadata": {},
   "outputs": [
    {
     "data": {
      "image/png": "[encoded data removed]",
      "text/plain": [
       "<Figure size 432x288 with 1 Axes>"
      ]
     },
     "metadata": {
      "needs_background": "light"
     },
     "output_type": "display_data"
    }
   ],
   "source": [
    "ax = info.plot()"
   ]
  },
  {
   "cell_type": "code",
   "execution_count": 219,
   "metadata": {},
   "outputs": [
    {
     "data": {
      "text/plain": [
       "<bound method Artist.get_figure of <matplotlib.axes._subplots.AxesSubplot object at 0x7ffd68668b38>>"
      ]
     },
     "execution_count": 219,
     "metadata": {},
     "output_type": "execute_result"
    }
   ],
   "source": [
    "ax.get_figure"
   ]
  },
  {
   "cell_type": "code",
   "execution_count": 220,
   "metadata": {},
   "outputs": [
    {
     "data": {
      "text/html": [
       "<div>\n",
       "<style scoped>\n",
       "    .dataframe tbody tr th:only-of-type {\n",
       "        vertical-align: middle;\n",
       "    }\n",
       "\n",
       "    .dataframe tbody tr th {\n",
       "        vertical-align: top;\n",
       "    }\n",
       "\n",
       "    .dataframe thead tr th {\n",
       "        text-align: left;\n",
       "    }\n",
       "\n",
       "    .dataframe thead tr:last-of-type th {\n",
       "        text-align: right;\n",
       "    }\n",
       "</style>\n",
       "<table border=\"1\" class=\"dataframe\">\n",
       "  <thead>\n",
       "    <tr>\n",
       "      <th></th>\n",
       "      <th></th>\n",
       "      <th colspan=\"2\" halign=\"left\">odds</th>\n",
       "    </tr>\n",
       "    <tr>\n",
       "      <th></th>\n",
       "      <th>team</th>\n",
       "      <th>Chicago Bears</th>\n",
       "      <th>Jacksonville Jaguars</th>\n",
       "    </tr>\n",
       "    <tr>\n",
       "      <th>time</th>\n",
       "      <th>time</th>\n",
       "      <th></th>\n",
       "      <th></th>\n",
       "    </tr>\n",
       "  </thead>\n",
       "  <tbody>\n",
       "    <tr>\n",
       "      <th rowspan=\"5\" valign=\"top\">13</th>\n",
       "      <th>5</th>\n",
       "      <td>1.2300</td>\n",
       "      <td>4.150</td>\n",
       "    </tr>\n",
       "    <tr>\n",
       "      <th>6</th>\n",
       "      <td>1.2575</td>\n",
       "      <td>3.925</td>\n",
       "    </tr>\n",
       "    <tr>\n",
       "      <th>7</th>\n",
       "      <td>1.2900</td>\n",
       "      <td>3.600</td>\n",
       "    </tr>\n",
       "    <tr>\n",
       "      <th>8</th>\n",
       "      <td>1.3550</td>\n",
       "      <td>3.225</td>\n",
       "    </tr>\n",
       "    <tr>\n",
       "      <th>10</th>\n",
       "      <td>1.2900</td>\n",
       "      <td>3.575</td>\n",
       "    </tr>\n",
       "  </tbody>\n",
       "</table>\n",
       "</div>"
      ],
      "text/plain": [
       "                   odds                     \n",
       "team      Chicago Bears Jacksonville Jaguars\n",
       "time time                                   \n",
       "13   5           1.2300                4.150\n",
       "     6           1.2575                3.925\n",
       "     7           1.2900                3.600\n",
       "     8           1.3550                3.225\n",
       "     10          1.2900                3.575"
      ]
     },
     "execution_count": 220,
     "metadata": {},
     "output_type": "execute_result"
    }
   ],
   "source": [
    "info.head()"
   ]
  },
  {
   "cell_type": "code",
   "execution_count": 221,
   "metadata": {},
   "outputs": [],
   "source": [
    "import seaborn as sns"
   ]
  },
  {
   "cell_type": "code",
   "execution_count": 233,
   "metadata": {},
   "outputs": [
    {
     "data": {
      "text/html": [
       "<div>\n",
       "<style scoped>\n",
       "    .dataframe tbody tr th:only-of-type {\n",
       "        vertical-align: middle;\n",
       "    }\n",
       "\n",
       "    .dataframe tbody tr th {\n",
       "        vertical-align: top;\n",
       "    }\n",
       "\n",
       "    .dataframe thead tr th {\n",
       "        text-align: left;\n",
       "    }\n",
       "\n",
       "    .dataframe thead tr:last-of-type th {\n",
       "        text-align: right;\n",
       "    }\n",
       "</style>\n",
       "<table border=\"1\" class=\"dataframe\">\n",
       "  <thead>\n",
       "    <tr>\n",
       "      <th></th>\n",
       "      <th></th>\n",
       "      <th colspan=\"2\" halign=\"left\">odds</th>\n",
       "    </tr>\n",
       "    <tr>\n",
       "      <th></th>\n",
       "      <th>team</th>\n",
       "      <th>Baltimore Ravens</th>\n",
       "      <th>New York Giants</th>\n",
       "    </tr>\n",
       "    <tr>\n",
       "      <th>hour</th>\n",
       "      <th>minute</th>\n",
       "      <th></th>\n",
       "      <th></th>\n",
       "    </tr>\n",
       "  </thead>\n",
       "  <tbody>\n",
       "    <tr>\n",
       "      <th rowspan=\"5\" valign=\"top\">13</th>\n",
       "      <th>5</th>\n",
       "      <td>1.205</td>\n",
       "      <td>4.4500</td>\n",
       "    </tr>\n",
       "    <tr>\n",
       "      <th>6</th>\n",
       "      <td>1.185</td>\n",
       "      <td>4.7375</td>\n",
       "    </tr>\n",
       "    <tr>\n",
       "      <th>7</th>\n",
       "      <td>1.185</td>\n",
       "      <td>4.7500</td>\n",
       "    </tr>\n",
       "    <tr>\n",
       "      <th>8</th>\n",
       "      <td>1.150</td>\n",
       "      <td>5.5500</td>\n",
       "    </tr>\n",
       "    <tr>\n",
       "      <th>10</th>\n",
       "      <td>1.130</td>\n",
       "      <td>5.8500</td>\n",
       "    </tr>\n",
       "  </tbody>\n",
       "</table>\n",
       "</div>"
      ],
      "text/plain": [
       "                        odds                \n",
       "team        Baltimore Ravens New York Giants\n",
       "hour minute                                 \n",
       "13   5                 1.205          4.4500\n",
       "     6                 1.185          4.7375\n",
       "     7                 1.185          4.7500\n",
       "     8                 1.150          5.5500\n",
       "     10                1.130          5.8500"
      ]
     },
     "execution_count": 233,
     "metadata": {},
     "output_type": "execute_result"
    }
   ],
   "source": [
    "info = game_info(df, ['Baltimore Ravens', 'New York Giants'])\n",
    "info.index.rename(['hour', 'minute'], inplace=True)\n",
    "info.head()"
   ]
  },
  {
   "cell_type": "code",
   "execution_count": 248,
   "metadata": {},
   "outputs": [
    {
     "data": {
      "text/plain": [
       "hour  minute\n",
       "13    5         1.205\n",
       "      6         1.185\n",
       "      7         1.185\n",
       "      8         1.150\n",
       "      10        1.130\n",
       "      13        1.080\n",
       "      17        1.090\n",
       "      19        1.075\n",
       "      21        1.060\n",
       "      22        1.065\n",
       "      23        1.065\n",
       "      31        1.020\n",
       "      35        1.020\n",
       "      38        1.015\n",
       "      40        1.015\n",
       "      42        1.010\n",
       "      44        1.010\n",
       "      45        1.020\n",
       "      50        1.010\n",
       "      55        1.010\n",
       "14    0         1.010\n",
       "      5         1.020\n",
       "      10        1.010\n",
       "      15        1.010\n",
       "      20        1.010\n",
       "      25        1.010\n",
       "      30        1.010\n",
       "      35        1.010\n",
       "      40        1.010\n",
       "      45        1.010\n",
       "      51        1.010\n",
       "      56        1.020\n",
       "15    1         1.020\n",
       "      6         1.010\n",
       "      11        1.010\n",
       "      21        1.000\n",
       "      26        1.000\n",
       "      31        1.000\n",
       "      36        1.000\n",
       "      41        1.000\n",
       "      46        1.010\n",
       "      51        1.010\n",
       "      56        1.000\n",
       "16    1         1.000\n",
       "      6         1.000\n",
       "      11        1.000\n",
       "Name: Baltimore Ravens, dtype: float64"
      ]
     },
     "execution_count": 248,
     "metadata": {},
     "output_type": "execute_result"
    }
   ],
   "source": [
    "info['odds']['Baltimore Ravens']"
   ]
  },
  {
   "cell_type": "code",
   "execution_count": 268,
   "metadata": {},
   "outputs": [
    {
     "data": {
      "text/html": [
       "<div>\n",
       "<style scoped>\n",
       "    .dataframe tbody tr th:only-of-type {\n",
       "        vertical-align: middle;\n",
       "    }\n",
       "\n",
       "    .dataframe tbody tr th {\n",
       "        vertical-align: top;\n",
       "    }\n",
       "\n",
       "    .dataframe thead th {\n",
       "        text-align: right;\n",
       "    }\n",
       "</style>\n",
       "<table border=\"1\" class=\"dataframe\">\n",
       "  <thead>\n",
       "    <tr style=\"text-align: right;\">\n",
       "      <th>team</th>\n",
       "      <th>hour</th>\n",
       "      <th>minute</th>\n",
       "      <th>Baltimore Ravens</th>\n",
       "      <th>New York Giants</th>\n",
       "    </tr>\n",
       "  </thead>\n",
       "  <tbody>\n",
       "    <tr>\n",
       "      <th>0</th>\n",
       "      <td>13</td>\n",
       "      <td>5</td>\n",
       "      <td>1.205</td>\n",
       "      <td>4.4500</td>\n",
       "    </tr>\n",
       "    <tr>\n",
       "      <th>1</th>\n",
       "      <td>13</td>\n",
       "      <td>6</td>\n",
       "      <td>1.185</td>\n",
       "      <td>4.7375</td>\n",
       "    </tr>\n",
       "    <tr>\n",
       "      <th>2</th>\n",
       "      <td>13</td>\n",
       "      <td>7</td>\n",
       "      <td>1.185</td>\n",
       "      <td>4.7500</td>\n",
       "    </tr>\n",
       "    <tr>\n",
       "      <th>3</th>\n",
       "      <td>13</td>\n",
       "      <td>8</td>\n",
       "      <td>1.150</td>\n",
       "      <td>5.5500</td>\n",
       "    </tr>\n",
       "    <tr>\n",
       "      <th>4</th>\n",
       "      <td>13</td>\n",
       "      <td>10</td>\n",
       "      <td>1.130</td>\n",
       "      <td>5.8500</td>\n",
       "    </tr>\n",
       "  </tbody>\n",
       "</table>\n",
       "</div>"
      ],
      "text/plain": [
       "team  hour  minute  Baltimore Ravens  New York Giants\n",
       "0       13       5             1.205           4.4500\n",
       "1       13       6             1.185           4.7375\n",
       "2       13       7             1.185           4.7500\n",
       "3       13       8             1.150           5.5500\n",
       "4       13      10             1.130           5.8500"
      ]
     },
     "execution_count": 268,
     "metadata": {},
     "output_type": "execute_result"
    }
   ],
   "source": [
    "import altair as alt\n",
    "info['odds'].reset_index().head()"
   ]
  },
  {
   "cell_type": "code",
   "execution_count": 271,
   "metadata": {},
   "outputs": [
    {
     "data": {
      "text/html": [
       "\n",
       "<div id=\"altair-viz-fc0550b503df4937b5a7691fa06cab4e\"></div>\n",
       "<script type=\"text/javascript\">\n",
       "  (function(spec, embedOpt){\n",
       "    let outputDiv = document.currentScript.previousElementSibling;\n",
       "    if (outputDiv.id !== \"altair-viz-fc0550b503df4937b5a7691fa06cab4e\") {\n",
       "      outputDiv = document.getElementById(\"altair-viz-fc0550b503df4937b5a7691fa06cab4e\");\n",
       "    }\n",
       "    const paths = {\n",
       "      \"vega\": \"https://cdn.jsdelivr.net/npm//vega@5?noext\",\n",
       "      \"vega-lib\": \"https://cdn.jsdelivr.net/npm//vega-lib?noext\",\n",
       "      \"vega-lite\": \"https://cdn.jsdelivr.net/npm//vega-lite@4.8.1?noext\",\n",
       "      \"vega-embed\": \"https://cdn.jsdelivr.net/npm//vega-embed@6?noext\",\n",
       "    };\n",
       "\n",
       "    function loadScript(lib) {\n",
       "      return new Promise(function(resolve, reject) {\n",
       "        var s = document.createElement('script');\n",
       "        s.src = paths[lib];\n",
       "        s.async = true;\n",
       "        s.onload = () => resolve(paths[lib]);\n",
       "        s.onerror = () => reject(`Error loading script: ${paths[lib]}`);\n",
       "        document.getElementsByTagName(\"head\")[0].appendChild(s);\n",
       "      });\n",
       "    }\n",
       "\n",
       "    function showError(err) {\n",
       "      outputDiv.innerHTML = `<div class=\"error\" style=\"color:red;\">${err}</div>`;\n",
       "      throw err;\n",
       "    }\n",
       "\n",
       "    function displayChart(vegaEmbed) {\n",
       "      vegaEmbed(outputDiv, spec, embedOpt)\n",
       "        .catch(err => showError(`Javascript Error: ${err.message}<br>This usually means there's a typo in your chart specification. See the javascript console for the full traceback.`));\n",
       "    }\n",
       "\n",
       "    if(typeof define === \"function\" && define.amd) {\n",
       "      requirejs.config({paths});\n",
       "      require([\"vega-embed\"], displayChart, err => showError(`Error loading script: ${err.message}`));\n",
       "    } else if (typeof vegaEmbed === \"function\") {\n",
       "      displayChart(vegaEmbed);\n",
       "    } else {\n",
       "      loadScript(\"vega\")\n",
       "        .then(() => loadScript(\"vega-lite\"))\n",
       "        .then(() => loadScript(\"vega-embed\"))\n",
       "        .catch(showError)\n",
       "        .then(() => displayChart(vegaEmbed));\n",
       "    }\n",
       "  })({\"config\": {\"view\": {\"continuousWidth\": 400, \"continuousHeight\": 300}}, \"data\": {\"name\": \"data-d24fd670cf74b1b4001e098a246eb02c\"}, \"mark\": \"line\", \"encoding\": {\"x\": {\"type\": \"quantitative\", \"field\": \"minute\"}, \"y\": {\"type\": \"quantitative\", \"field\": \"Baltimore Ravens\"}}, \"$schema\": \"https://vega.github.io/schema/vega-lite/v4.8.1.json\", \"datasets\": {\"data-d24fd670cf74b1b4001e098a246eb02c\": [{\"hour\": 13, \"minute\": 5, \"Baltimore Ravens\": 1.205, \"New York Giants\": 4.45}, {\"hour\": 13, \"minute\": 6, \"Baltimore Ravens\": 1.185, \"New York Giants\": 4.7375}, {\"hour\": 13, \"minute\": 7, \"Baltimore Ravens\": 1.185, \"New York Giants\": 4.75}, {\"hour\": 13, \"minute\": 8, \"Baltimore Ravens\": 1.15, \"New York Giants\": 5.55}, {\"hour\": 13, \"minute\": 10, \"Baltimore Ravens\": 1.13, \"New York Giants\": 5.85}, {\"hour\": 13, \"minute\": 13, \"Baltimore Ravens\": 1.08, \"New York Giants\": 7.9}, {\"hour\": 13, \"minute\": 17, \"Baltimore Ravens\": 1.09, \"New York Giants\": 7.45}, {\"hour\": 13, \"minute\": 19, \"Baltimore Ravens\": 1.0750000000000002, \"New York Giants\": 8.25}, {\"hour\": 13, \"minute\": 21, \"Baltimore Ravens\": 1.06, \"New York Giants\": 8.7}, {\"hour\": 13, \"minute\": 22, \"Baltimore Ravens\": 1.065, \"New York Giants\": 8.7}, {\"hour\": 13, \"minute\": 23, \"Baltimore Ravens\": 1.065, \"New York Giants\": 8.7}, {\"hour\": 13, \"minute\": 31, \"Baltimore Ravens\": 1.02, \"New York Giants\": 14.0}, {\"hour\": 13, \"minute\": 35, \"Baltimore Ravens\": 1.02, \"New York Giants\": 14.0}, {\"hour\": 13, \"minute\": 38, \"Baltimore Ravens\": 1.0150000000000001, \"New York Giants\": 14.5}, {\"hour\": 13, \"minute\": 40, \"Baltimore Ravens\": 1.0150000000000001, \"New York Giants\": 14.5}, {\"hour\": 13, \"minute\": 42, \"Baltimore Ravens\": 1.01, \"New York Giants\": 19.0}, {\"hour\": 13, \"minute\": 44, \"Baltimore Ravens\": 1.01, \"New York Giants\": 19.0}, {\"hour\": 13, \"minute\": 45, \"Baltimore Ravens\": 1.02, \"New York Giants\": 17.0}, {\"hour\": 13, \"minute\": 50, \"Baltimore Ravens\": 1.01, \"New York Giants\": 23.0}, {\"hour\": 13, \"minute\": 55, \"Baltimore Ravens\": 1.01, \"New York Giants\": 19.0}, {\"hour\": 14, \"minute\": 0, \"Baltimore Ravens\": 1.01, \"New York Giants\": 19.0}, {\"hour\": 14, \"minute\": 5, \"Baltimore Ravens\": 1.02, \"New York Giants\": 14.0}, {\"hour\": 14, \"minute\": 10, \"Baltimore Ravens\": 1.01, \"New York Giants\": 19.0}, {\"hour\": 14, \"minute\": 15, \"Baltimore Ravens\": 1.01, \"New York Giants\": 23.0}, {\"hour\": 14, \"minute\": 20, \"Baltimore Ravens\": 1.01, \"New York Giants\": 26.0}, {\"hour\": 14, \"minute\": 25, \"Baltimore Ravens\": 1.01, \"New York Giants\": 26.0}, {\"hour\": 14, \"minute\": 30, \"Baltimore Ravens\": 1.01, \"New York Giants\": 23.0}, {\"hour\": 14, \"minute\": 35, \"Baltimore Ravens\": 1.01, \"New York Giants\": 23.0}, {\"hour\": 14, \"minute\": 40, \"Baltimore Ravens\": 1.01, \"New York Giants\": 23.0}, {\"hour\": 14, \"minute\": 45, \"Baltimore Ravens\": 1.01, \"New York Giants\": 23.0}, {\"hour\": 14, \"minute\": 51, \"Baltimore Ravens\": 1.01, \"New York Giants\": 19.0}, {\"hour\": 14, \"minute\": 56, \"Baltimore Ravens\": 1.02, \"New York Giants\": 17.0}, {\"hour\": 15, \"minute\": 1, \"Baltimore Ravens\": 1.02, \"New York Giants\": 15.0}, {\"hour\": 15, \"minute\": 6, \"Baltimore Ravens\": 1.01, \"New York Giants\": 19.0}, {\"hour\": 15, \"minute\": 11, \"Baltimore Ravens\": 1.01, \"New York Giants\": 26.0}, {\"hour\": 15, \"minute\": 21, \"Baltimore Ravens\": 1.0, \"New York Giants\": 27.0}, {\"hour\": 15, \"minute\": 26, \"Baltimore Ravens\": 1.0, \"New York Giants\": 27.0}, {\"hour\": 15, \"minute\": 31, \"Baltimore Ravens\": 1.0, \"New York Giants\": 27.0}, {\"hour\": 15, \"minute\": 36, \"Baltimore Ravens\": 1.0, \"New York Giants\": 27.0}, {\"hour\": 15, \"minute\": 41, \"Baltimore Ravens\": 1.0, \"New York Giants\": 27.0}, {\"hour\": 15, \"minute\": 46, \"Baltimore Ravens\": 1.01, \"New York Giants\": 19.0}, {\"hour\": 15, \"minute\": 51, \"Baltimore Ravens\": 1.01, \"New York Giants\": 26.0}, {\"hour\": 15, \"minute\": 56, \"Baltimore Ravens\": 1.0, \"New York Giants\": 27.0}, {\"hour\": 16, \"minute\": 1, \"Baltimore Ravens\": 1.0, \"New York Giants\": 27.0}, {\"hour\": 16, \"minute\": 6, \"Baltimore Ravens\": 1.0, \"New York Giants\": 27.0}, {\"hour\": 16, \"minute\": 11, \"Baltimore Ravens\": 1.0, \"New York Giants\": 27.0}]}}, {\"mode\": \"vega-lite\"});\n",
       "</script>"
      ],
      "text/plain": [
       "alt.Chart(...)"
      ]
     },
     "execution_count": 271,
     "metadata": {},
     "output_type": "execute_result"
    }
   ],
   "source": [
    "alt.Chart(info['odds'].reset_index()).mark_line().encode(x='minute', y='Baltimore Ravens')"
   ]
  },
  {
   "cell_type": "code",
   "execution_count": 276,
   "metadata": {},
   "outputs": [
    {
     "ename": "ImportError",
     "evalue": "cannot import name 'bokeh_notebook' from 'bokeh.io' (/Users/david/anaconda3/lib/python3.7/site-packages/bokeh/io/__init__.py)",
     "output_type": "error",
     "traceback": [
      "\u001b[0;31m---------------------------------------------------------------------------\u001b[0m",
      "\u001b[0;31mImportError\u001b[0m                               Traceback (most recent call last)",
      "\u001b[0;32m<ipython-input-276-88e0823f55d8>\u001b[0m in \u001b[0;36m<module>\u001b[0;34m\u001b[0m\n\u001b[1;32m      1\u001b[0m \u001b[0;32mfrom\u001b[0m \u001b[0mbokeh\u001b[0m\u001b[0;34m.\u001b[0m\u001b[0mplotting\u001b[0m \u001b[0;32mimport\u001b[0m \u001b[0mfigure\u001b[0m\u001b[0;34m,\u001b[0m \u001b[0mshow\u001b[0m\u001b[0;34m\u001b[0m\u001b[0;34m\u001b[0m\u001b[0m\n\u001b[0;32m----> 2\u001b[0;31m \u001b[0;32mfrom\u001b[0m \u001b[0mbokeh\u001b[0m\u001b[0;34m.\u001b[0m\u001b[0mio\u001b[0m \u001b[0;32mimport\u001b[0m \u001b[0mbokeh_notebook\u001b[0m\u001b[0;34m\u001b[0m\u001b[0;34m\u001b[0m\u001b[0m\n\u001b[0m",
      "\u001b[0;31mImportError\u001b[0m: cannot import name 'bokeh_notebook' from 'bokeh.io' (/Users/david/anaconda3/lib/python3.7/site-packages/bokeh/io/__init__.py)"
     ]
    }
   ],
   "source": [
    "from bokeh.plotting import figure, show \n",
    "from bokeh.io import bokeh_notebook"
   ]
  },
  {
   "cell_type": "code",
   "execution_count": 273,
   "metadata": {},
   "outputs": [],
   "source": [
    "graph = figure(title = \"Bokeh Multi Line Graph\")  "
   ]
  },
  {
   "cell_type": "code",
   "execution_count": 275,
   "metadata": {},
   "outputs": [
    {
     "data": {
      "text/html": [
       "<div style=\"display: table;\"><div style=\"display: table-row;\"><div style=\"display: table-cell;\"><b title=\"bokeh.models.renderers.GlyphRenderer\">GlyphRenderer</b>(</div><div style=\"display: table-cell;\">id&nbsp;=&nbsp;'1110', <span id=\"1123\" style=\"cursor: pointer;\">&hellip;)</span></div></div><div class=\"1122\" style=\"display: none;\"><div style=\"display: table-cell;\"></div><div style=\"display: table-cell;\">data_source&nbsp;=&nbsp;ColumnDataSource(id='1107', ...),</div></div><div class=\"1122\" style=\"display: none;\"><div style=\"display: table-cell;\"></div><div style=\"display: table-cell;\">glyph&nbsp;=&nbsp;MultiLine(id='1108', ...),</div></div><div class=\"1122\" style=\"display: none;\"><div style=\"display: table-cell;\"></div><div style=\"display: table-cell;\">hover_glyph&nbsp;=&nbsp;None,</div></div><div class=\"1122\" style=\"display: none;\"><div style=\"display: table-cell;\"></div><div style=\"display: table-cell;\">js_event_callbacks&nbsp;=&nbsp;{},</div></div><div class=\"1122\" style=\"display: none;\"><div style=\"display: table-cell;\"></div><div style=\"display: table-cell;\">js_property_callbacks&nbsp;=&nbsp;{},</div></div><div class=\"1122\" style=\"display: none;\"><div style=\"display: table-cell;\"></div><div style=\"display: table-cell;\">level&nbsp;=&nbsp;'glyph',</div></div><div class=\"1122\" style=\"display: none;\"><div style=\"display: table-cell;\"></div><div style=\"display: table-cell;\">muted&nbsp;=&nbsp;False,</div></div><div class=\"1122\" style=\"display: none;\"><div style=\"display: table-cell;\"></div><div style=\"display: table-cell;\">muted_glyph&nbsp;=&nbsp;None,</div></div><div class=\"1122\" style=\"display: none;\"><div style=\"display: table-cell;\"></div><div style=\"display: table-cell;\">name&nbsp;=&nbsp;None,</div></div><div class=\"1122\" style=\"display: none;\"><div style=\"display: table-cell;\"></div><div style=\"display: table-cell;\">nonselection_glyph&nbsp;=&nbsp;MultiLine(id='1109', ...),</div></div><div class=\"1122\" style=\"display: none;\"><div style=\"display: table-cell;\"></div><div style=\"display: table-cell;\">selection_glyph&nbsp;=&nbsp;None,</div></div><div class=\"1122\" style=\"display: none;\"><div style=\"display: table-cell;\"></div><div style=\"display: table-cell;\">subscribed_events&nbsp;=&nbsp;[],</div></div><div class=\"1122\" style=\"display: none;\"><div style=\"display: table-cell;\"></div><div style=\"display: table-cell;\">tags&nbsp;=&nbsp;[],</div></div><div class=\"1122\" style=\"display: none;\"><div style=\"display: table-cell;\"></div><div style=\"display: table-cell;\">view&nbsp;=&nbsp;CDSView(id='1111', ...),</div></div><div class=\"1122\" style=\"display: none;\"><div style=\"display: table-cell;\"></div><div style=\"display: table-cell;\">visible&nbsp;=&nbsp;True,</div></div><div class=\"1122\" style=\"display: none;\"><div style=\"display: table-cell;\"></div><div style=\"display: table-cell;\">x_range_name&nbsp;=&nbsp;'default',</div></div><div class=\"1122\" style=\"display: none;\"><div style=\"display: table-cell;\"></div><div style=\"display: table-cell;\">y_range_name&nbsp;=&nbsp;'default')</div></div></div>\n",
       "<script>\n",
       "(function() {\n",
       "  var expanded = false;\n",
       "  var ellipsis = document.getElementById(\"1123\");\n",
       "  ellipsis.addEventListener(\"click\", function() {\n",
       "    var rows = document.getElementsByClassName(\"1122\");\n",
       "    for (var i = 0; i < rows.length; i++) {\n",
       "      var el = rows[i];\n",
       "      el.style.display = expanded ? \"none\" : \"table-row\";\n",
       "    }\n",
       "    ellipsis.innerHTML = expanded ? \"&hellip;)\" : \"&lsaquo;&lsaquo;&lsaquo;\";\n",
       "    expanded = !expanded;\n",
       "  });\n",
       "})();\n",
       "</script>\n"
      ],
      "text/plain": [
       "GlyphRenderer(id='1110', ...)"
      ]
     },
     "execution_count": 275,
     "metadata": {},
     "output_type": "execute_result"
    }
   ],
   "source": [
    "xs = [\"%s:%02d\" % item for item in info.index.tolist()]\n",
    "ys = info['odds']\n",
    "    \n",
    "# plotting the graph  \n",
    "graph.multi_line(xs, ys)"
   ]
  },
  {
   "cell_type": "code",
   "execution_count": 288,
   "metadata": {},
   "outputs": [
    {
     "data": {
      "text/plain": [
       "hour  minute\n",
       "13    5         1.205\n",
       "      6         1.185\n",
       "      7         1.185\n",
       "      8         1.150\n",
       "      10        1.130\n",
       "      13        1.080\n",
       "      17        1.090\n",
       "      19        1.075\n",
       "      21        1.060\n",
       "      22        1.065\n",
       "      23        1.065\n",
       "      31        1.020\n",
       "      35        1.020\n",
       "      38        1.015\n",
       "      40        1.015\n",
       "      42        1.010\n",
       "      44        1.010\n",
       "      45        1.020\n",
       "      50        1.010\n",
       "      55        1.010\n",
       "14    0         1.010\n",
       "      5         1.020\n",
       "      10        1.010\n",
       "      15        1.010\n",
       "      20        1.010\n",
       "      25        1.010\n",
       "      30        1.010\n",
       "      35        1.010\n",
       "      40        1.010\n",
       "      45        1.010\n",
       "      51        1.010\n",
       "      56        1.020\n",
       "15    1         1.020\n",
       "      6         1.010\n",
       "      11        1.010\n",
       "      21        1.000\n",
       "      26        1.000\n",
       "      31        1.000\n",
       "      36        1.000\n",
       "      41        1.000\n",
       "      46        1.010\n",
       "      51        1.010\n",
       "      56        1.000\n",
       "16    1         1.000\n",
       "      6         1.000\n",
       "      11        1.000\n",
       "Name: Baltimore Ravens, dtype: float64"
      ]
     },
     "execution_count": 288,
     "metadata": {},
     "output_type": "execute_result"
    }
   ],
   "source": [
    "info['odds']['Baltimore Ravens']"
   ]
  },
  {
   "cell_type": "code",
   "execution_count": 289,
   "metadata": {},
   "outputs": [],
   "source": [
    "d = datetime.now()"
   ]
  },
  {
   "cell_type": "code",
   "execution_count": 291,
   "metadata": {},
   "outputs": [
    {
     "data": {
      "text/plain": [
       "1609213672.541249"
      ]
     },
     "execution_count": 291,
     "metadata": {},
     "output_type": "execute_result"
    }
   ],
   "source": [
    "d.timestamp()"
   ]
  },
  {
   "cell_type": "code",
   "execution_count": 295,
   "metadata": {},
   "outputs": [
    {
     "data": {
      "text/plain": [
       "['Chicago Bears',\n",
       " 'Jacksonville Jaguars',\n",
       " 'Atlanta Falcons',\n",
       " 'Kansas City Chiefs',\n",
       " 'Baltimore Ravens',\n",
       " 'New York Giants',\n",
       " 'Cincinnati Bengals',\n",
       " 'Houston Texans',\n",
       " 'Indianapolis Colts',\n",
       " 'Pittsburgh Steelers',\n",
       " 'Cleveland Browns',\n",
       " 'New York Jets',\n",
       " 'Denver Broncos',\n",
       " 'Los Angeles Chargers',\n",
       " 'Carolina Panthers',\n",
       " 'Washington Football Team',\n",
       " 'Los Angeles Rams',\n",
       " 'Seattle Seahawks',\n",
       " 'Dallas Cowboys',\n",
       " 'Philadelphia Eagles',\n",
       " 'Green Bay Packers',\n",
       " 'Tennessee Titans',\n",
       " 'Buffalo Bills',\n",
       " 'New England Patriots']"
      ]
     },
     "execution_count": 295,
     "metadata": {},
     "output_type": "execute_result"
    }
   ],
   "source": [
    "df['team'].unique().tolist()"
   ]
  },
  {
   "cell_type": "code",
   "execution_count": null,
   "metadata": {},
   "outputs": [],
   "source": []
  }
 ],
 "metadata": {
  "kernelspec": {
   "display_name": "Python 3",
   "language": "python",
   "name": "python3"
  },
  "language_info": {
   "codemirror_mode": {
    "name": "ipython",
    "version": 3
   },
   "file_extension": ".py",
   "mimetype": "text/x-python",
   "name": "python",
   "nbconvert_exporter": "python",
   "pygments_lexer": "ipython3",
   "version": "3.7.3"
  }
 },
 "nbformat": 4,
 "nbformat_minor": 2
}
