{
 "cells": [
  {
   "cell_type": "code",
   "execution_count": 2,
   "metadata": {},
   "outputs": [],
   "source": [
    "import betting as b\n",
    "import plotly.express as px\n",
    "import pandas as pd"
   ]
  },
  {
   "cell_type": "code",
   "execution_count": 3,
   "metadata": {},
   "outputs": [],
   "source": [
    "def load_data(filepath):\n",
    "    df = pd.read_csv(filepath)\n",
    "    df['time'] = pd.to_datetime(df['time'])\n",
    "    df = df.set_index('time')\n",
    "    return df"
   ]
  },
  {
   "cell_type": "code",
   "execution_count": 31,
   "metadata": {},
   "outputs": [],
   "source": [
    "df = load_data(\"2021-01-03.csv\")"
   ]
  },
  {
   "cell_type": "code",
   "execution_count": 32,
   "metadata": {},
   "outputs": [
    {
     "data": {
      "text/html": [
       "<div>\n",
       "<style scoped>\n",
       "    .dataframe tbody tr th:only-of-type {\n",
       "        vertical-align: middle;\n",
       "    }\n",
       "\n",
       "    .dataframe tbody tr th {\n",
       "        vertical-align: top;\n",
       "    }\n",
       "\n",
       "    .dataframe thead th {\n",
       "        text-align: right;\n",
       "    }\n",
       "</style>\n",
       "<table border=\"1\" class=\"dataframe\">\n",
       "  <thead>\n",
       "    <tr style=\"text-align: right;\">\n",
       "      <th></th>\n",
       "      <th>team</th>\n",
       "      <th>site</th>\n",
       "      <th>odds</th>\n",
       "    </tr>\n",
       "    <tr>\n",
       "      <th>time</th>\n",
       "      <th></th>\n",
       "      <th></th>\n",
       "      <th></th>\n",
       "    </tr>\n",
       "  </thead>\n",
       "  <tbody>\n",
       "    <tr>\n",
       "      <th>2021-01-03 12:16:03.872893</th>\n",
       "      <td>Dallas Cowboys</td>\n",
       "      <td>lowvig</td>\n",
       "      <td>1.74</td>\n",
       "    </tr>\n",
       "    <tr>\n",
       "      <th>2021-01-03 12:16:03.872900</th>\n",
       "      <td>Dallas Cowboys</td>\n",
       "      <td>betonlineag</td>\n",
       "      <td>1.74</td>\n",
       "    </tr>\n",
       "    <tr>\n",
       "      <th>2021-01-03 12:16:03.872901</th>\n",
       "      <td>Dallas Cowboys</td>\n",
       "      <td>williamhill_us</td>\n",
       "      <td>1.77</td>\n",
       "    </tr>\n",
       "    <tr>\n",
       "      <th>2021-01-03 12:16:03.872902</th>\n",
       "      <td>Dallas Cowboys</td>\n",
       "      <td>fanduel</td>\n",
       "      <td>1.75</td>\n",
       "    </tr>\n",
       "    <tr>\n",
       "      <th>2021-01-03 12:16:03.872903</th>\n",
       "      <td>Dallas Cowboys</td>\n",
       "      <td>sugarhouse</td>\n",
       "      <td>1.79</td>\n",
       "    </tr>\n",
       "  </tbody>\n",
       "</table>\n",
       "</div>"
      ],
      "text/plain": [
       "                                      team            site  odds\n",
       "time                                                            \n",
       "2021-01-03 12:16:03.872893  Dallas Cowboys          lowvig  1.74\n",
       "2021-01-03 12:16:03.872900  Dallas Cowboys     betonlineag  1.74\n",
       "2021-01-03 12:16:03.872901  Dallas Cowboys  williamhill_us  1.77\n",
       "2021-01-03 12:16:03.872902  Dallas Cowboys         fanduel  1.75\n",
       "2021-01-03 12:16:03.872903  Dallas Cowboys      sugarhouse  1.79"
      ]
     },
     "execution_count": 32,
     "metadata": {},
     "output_type": "execute_result"
    }
   ],
   "source": [
    "df.head()"
   ]
  },
  {
   "cell_type": "code",
   "execution_count": 33,
   "metadata": {},
   "outputs": [],
   "source": [
    "teams = df['team'].value_counts().index.to_list()"
   ]
  },
  {
   "cell_type": "code",
   "execution_count": 34,
   "metadata": {},
   "outputs": [
    {
     "data": {
      "text/html": [
       "<div>\n",
       "<style scoped>\n",
       "    .dataframe tbody tr th:only-of-type {\n",
       "        vertical-align: middle;\n",
       "    }\n",
       "\n",
       "    .dataframe tbody tr th {\n",
       "        vertical-align: top;\n",
       "    }\n",
       "\n",
       "    .dataframe thead th {\n",
       "        text-align: right;\n",
       "    }\n",
       "</style>\n",
       "<table border=\"1\" class=\"dataframe\">\n",
       "  <thead>\n",
       "    <tr style=\"text-align: right;\">\n",
       "      <th></th>\n",
       "      <th>team</th>\n",
       "      <th>Arizona Cardinals</th>\n",
       "      <th>Atlanta Falcons</th>\n",
       "      <th>Baltimore Ravens</th>\n",
       "      <th>Buffalo Bills</th>\n",
       "      <th>Carolina Panthers</th>\n",
       "      <th>Chicago Bears</th>\n",
       "      <th>Cincinnati Bengals</th>\n",
       "      <th>Cleveland Browns</th>\n",
       "      <th>Dallas Cowboys</th>\n",
       "      <th>Denver Broncos</th>\n",
       "      <th>...</th>\n",
       "      <th>New Orleans Saints</th>\n",
       "      <th>New York Giants</th>\n",
       "      <th>New York Jets</th>\n",
       "      <th>Philadelphia Eagles</th>\n",
       "      <th>Pittsburgh Steelers</th>\n",
       "      <th>San Francisco 49ers</th>\n",
       "      <th>Seattle Seahawks</th>\n",
       "      <th>Tampa Bay Buccaneers</th>\n",
       "      <th>Tennessee Titans</th>\n",
       "      <th>Washington Football Team</th>\n",
       "    </tr>\n",
       "    <tr>\n",
       "      <th>hour</th>\n",
       "      <th>minute</th>\n",
       "      <th></th>\n",
       "      <th></th>\n",
       "      <th></th>\n",
       "      <th></th>\n",
       "      <th></th>\n",
       "      <th></th>\n",
       "      <th></th>\n",
       "      <th></th>\n",
       "      <th></th>\n",
       "      <th></th>\n",
       "      <th></th>\n",
       "      <th></th>\n",
       "      <th></th>\n",
       "      <th></th>\n",
       "      <th></th>\n",
       "      <th></th>\n",
       "      <th></th>\n",
       "      <th></th>\n",
       "      <th></th>\n",
       "      <th></th>\n",
       "      <th></th>\n",
       "    </tr>\n",
       "  </thead>\n",
       "  <tbody>\n",
       "    <tr>\n",
       "      <th rowspan=\"5\" valign=\"top\">12</th>\n",
       "      <th>16</th>\n",
       "      <td>1.87</td>\n",
       "      <td>3.675</td>\n",
       "      <td>1.11</td>\n",
       "      <td>2.645</td>\n",
       "      <td>3.1</td>\n",
       "      <td>2.89</td>\n",
       "      <td>7.3</td>\n",
       "      <td>1.205</td>\n",
       "      <td>1.77</td>\n",
       "      <td>2.245</td>\n",
       "      <td>...</td>\n",
       "      <td>1.4</td>\n",
       "      <td>2.12</td>\n",
       "      <td>2.27</td>\n",
       "      <td>3.2</td>\n",
       "      <td>4.825</td>\n",
       "      <td>3.775</td>\n",
       "      <td>1.29</td>\n",
       "      <td>1.305</td>\n",
       "      <td>1.305</td>\n",
       "      <td>1.38</td>\n",
       "    </tr>\n",
       "    <tr>\n",
       "      <th>17</th>\n",
       "      <td>1.87</td>\n",
       "      <td>3.675</td>\n",
       "      <td>1.11</td>\n",
       "      <td>2.675</td>\n",
       "      <td>3.1</td>\n",
       "      <td>2.89</td>\n",
       "      <td>7.3</td>\n",
       "      <td>1.205</td>\n",
       "      <td>1.77</td>\n",
       "      <td>2.245</td>\n",
       "      <td>...</td>\n",
       "      <td>1.4</td>\n",
       "      <td>2.12</td>\n",
       "      <td>2.27</td>\n",
       "      <td>3.2</td>\n",
       "      <td>4.825</td>\n",
       "      <td>3.775</td>\n",
       "      <td>1.29</td>\n",
       "      <td>1.305</td>\n",
       "      <td>1.305</td>\n",
       "      <td>1.38</td>\n",
       "    </tr>\n",
       "    <tr>\n",
       "      <th>18</th>\n",
       "      <td>1.87</td>\n",
       "      <td>3.675</td>\n",
       "      <td>1.11</td>\n",
       "      <td>2.675</td>\n",
       "      <td>3.1</td>\n",
       "      <td>2.89</td>\n",
       "      <td>7.3</td>\n",
       "      <td>1.205</td>\n",
       "      <td>1.77</td>\n",
       "      <td>2.245</td>\n",
       "      <td>...</td>\n",
       "      <td>1.4</td>\n",
       "      <td>2.12</td>\n",
       "      <td>2.27</td>\n",
       "      <td>3.2</td>\n",
       "      <td>4.825</td>\n",
       "      <td>3.775</td>\n",
       "      <td>1.29</td>\n",
       "      <td>1.305</td>\n",
       "      <td>1.305</td>\n",
       "      <td>1.38</td>\n",
       "    </tr>\n",
       "    <tr>\n",
       "      <th>19</th>\n",
       "      <td>1.87</td>\n",
       "      <td>3.675</td>\n",
       "      <td>1.11</td>\n",
       "      <td>2.675</td>\n",
       "      <td>3.1</td>\n",
       "      <td>2.89</td>\n",
       "      <td>7.3</td>\n",
       "      <td>1.205</td>\n",
       "      <td>1.77</td>\n",
       "      <td>2.245</td>\n",
       "      <td>...</td>\n",
       "      <td>1.4</td>\n",
       "      <td>2.12</td>\n",
       "      <td>2.27</td>\n",
       "      <td>3.2</td>\n",
       "      <td>4.825</td>\n",
       "      <td>3.775</td>\n",
       "      <td>1.29</td>\n",
       "      <td>1.305</td>\n",
       "      <td>1.305</td>\n",
       "      <td>1.38</td>\n",
       "    </tr>\n",
       "    <tr>\n",
       "      <th>20</th>\n",
       "      <td>1.87</td>\n",
       "      <td>3.675</td>\n",
       "      <td>1.11</td>\n",
       "      <td>2.675</td>\n",
       "      <td>3.1</td>\n",
       "      <td>2.89</td>\n",
       "      <td>7.3</td>\n",
       "      <td>1.205</td>\n",
       "      <td>1.77</td>\n",
       "      <td>2.245</td>\n",
       "      <td>...</td>\n",
       "      <td>1.4</td>\n",
       "      <td>2.12</td>\n",
       "      <td>2.27</td>\n",
       "      <td>3.2</td>\n",
       "      <td>4.825</td>\n",
       "      <td>3.775</td>\n",
       "      <td>1.29</td>\n",
       "      <td>1.305</td>\n",
       "      <td>1.305</td>\n",
       "      <td>1.38</td>\n",
       "    </tr>\n",
       "  </tbody>\n",
       "</table>\n",
       "<p>5 rows × 32 columns</p>\n",
       "</div>"
      ],
      "text/plain": [
       "team         Arizona Cardinals  Atlanta Falcons  Baltimore Ravens  \\\n",
       "hour minute                                                         \n",
       "12   16                   1.87            3.675              1.11   \n",
       "     17                   1.87            3.675              1.11   \n",
       "     18                   1.87            3.675              1.11   \n",
       "     19                   1.87            3.675              1.11   \n",
       "     20                   1.87            3.675              1.11   \n",
       "\n",
       "team         Buffalo Bills  Carolina Panthers  Chicago Bears  \\\n",
       "hour minute                                                    \n",
       "12   16              2.645                3.1           2.89   \n",
       "     17              2.675                3.1           2.89   \n",
       "     18              2.675                3.1           2.89   \n",
       "     19              2.675                3.1           2.89   \n",
       "     20              2.675                3.1           2.89   \n",
       "\n",
       "team         Cincinnati Bengals  Cleveland Browns  Dallas Cowboys  \\\n",
       "hour minute                                                         \n",
       "12   16                     7.3             1.205            1.77   \n",
       "     17                     7.3             1.205            1.77   \n",
       "     18                     7.3             1.205            1.77   \n",
       "     19                     7.3             1.205            1.77   \n",
       "     20                     7.3             1.205            1.77   \n",
       "\n",
       "team         Denver Broncos  ...  New Orleans Saints  New York Giants  \\\n",
       "hour minute                  ...                                        \n",
       "12   16               2.245  ...                 1.4             2.12   \n",
       "     17               2.245  ...                 1.4             2.12   \n",
       "     18               2.245  ...                 1.4             2.12   \n",
       "     19               2.245  ...                 1.4             2.12   \n",
       "     20               2.245  ...                 1.4             2.12   \n",
       "\n",
       "team         New York Jets  Philadelphia Eagles  Pittsburgh Steelers  \\\n",
       "hour minute                                                            \n",
       "12   16               2.27                  3.2                4.825   \n",
       "     17               2.27                  3.2                4.825   \n",
       "     18               2.27                  3.2                4.825   \n",
       "     19               2.27                  3.2                4.825   \n",
       "     20               2.27                  3.2                4.825   \n",
       "\n",
       "team         San Francisco 49ers  Seattle Seahawks  Tampa Bay Buccaneers  \\\n",
       "hour minute                                                                \n",
       "12   16                    3.775              1.29                 1.305   \n",
       "     17                    3.775              1.29                 1.305   \n",
       "     18                    3.775              1.29                 1.305   \n",
       "     19                    3.775              1.29                 1.305   \n",
       "     20                    3.775              1.29                 1.305   \n",
       "\n",
       "team         Tennessee Titans  Washington Football Team  \n",
       "hour minute                                              \n",
       "12   16                 1.305                      1.38  \n",
       "     17                 1.305                      1.38  \n",
       "     18                 1.305                      1.38  \n",
       "     19                 1.305                      1.38  \n",
       "     20                 1.305                      1.38  \n",
       "\n",
       "[5 rows x 32 columns]"
      ]
     },
     "execution_count": 34,
     "metadata": {},
     "output_type": "execute_result"
    }
   ],
   "source": [
    "info = b.game_info(df, teams)\n",
    "info.head()"
   ]
  },
  {
   "cell_type": "code",
   "execution_count": 35,
   "metadata": {},
   "outputs": [
    {
     "data": {
      "application/vnd.plotly.v1+json": {
       "config": {
        "plotlyServerURL": "https://plot.ly"
       },
       "data": [
        {
         "hovertemplate": "team=Baltimore Ravens<br>index=%{x}<br>value=%{y}<extra></extra>",
         "legendgroup": "Baltimore Ravens",
         "line": {
          "color": "#636efa",
          "dash": "solid"
         },
         "mode": "lines",
         "name": "Baltimore Ravens",
         "orientation": "v",
         "showlegend": true,
         "type": "scatter",
         "x": [
          0,
          1,
          2,
          3,
          4,
          5,
          6,
          7,
          8,
          9,
          10,
          11,
          12,
          13,
          14,
          15,
          16,
          17,
          18,
          19,
          20,
          21
         ],
         "xaxis": "x",
         "y": [
          1.11,
          1.11,
          1.11,
          1.11,
          1.11,
          1.11,
          1.11,
          1.11,
          1.11,
          1.11,
          1.11,
          1.11,
          1.11,
          1.11,
          1.11,
          1.11,
          1.11,
          1.11,
          1.11,
          1.11,
          1.11,
          1.11
         ],
         "yaxis": "y"
        },
        {
         "hovertemplate": "team=Atlanta Falcons<br>index=%{x}<br>value=%{y}<extra></extra>",
         "legendgroup": "Atlanta Falcons",
         "line": {
          "color": "#EF553B",
          "dash": "solid"
         },
         "mode": "lines",
         "name": "Atlanta Falcons",
         "orientation": "v",
         "showlegend": true,
         "type": "scatter",
         "x": [
          0,
          1,
          2,
          3,
          4,
          5,
          6,
          7,
          8,
          9,
          10,
          11,
          12,
          13,
          14,
          15,
          16,
          17,
          18,
          19,
          20,
          21
         ],
         "xaxis": "x",
         "y": [
          3.675,
          3.675,
          3.675,
          3.675,
          3.675,
          3.675,
          3.675,
          3.675,
          3.675,
          3.675,
          3.675,
          3.675,
          3.675,
          3.675,
          3.675,
          3.675,
          3.675,
          3.675,
          3.675,
          3.675,
          3.675,
          3.675
         ],
         "yaxis": "y"
        },
        {
         "hovertemplate": "team=New York Giants<br>index=%{x}<br>value=%{y}<extra></extra>",
         "legendgroup": "New York Giants",
         "line": {
          "color": "#00cc96",
          "dash": "solid"
         },
         "mode": "lines",
         "name": "New York Giants",
         "orientation": "v",
         "showlegend": true,
         "type": "scatter",
         "x": [
          0,
          1,
          2,
          3,
          4,
          5,
          6,
          7,
          8,
          9,
          10,
          11,
          12,
          13,
          14,
          15,
          16,
          17,
          18,
          19,
          20,
          21
         ],
         "xaxis": "x",
         "y": [
          2.12,
          2.12,
          2.12,
          2.12,
          2.12,
          2.12,
          2.12,
          2.12,
          2.12,
          2.12,
          2.12,
          2.12,
          2.12,
          2.12,
          2.12,
          2.12,
          2.12,
          2.12,
          2.12,
          2.12,
          2.12,
          2.12
         ],
         "yaxis": "y"
        },
        {
         "hovertemplate": "team=Dallas Cowboys<br>index=%{x}<br>value=%{y}<extra></extra>",
         "legendgroup": "Dallas Cowboys",
         "line": {
          "color": "#ab63fa",
          "dash": "solid"
         },
         "mode": "lines",
         "name": "Dallas Cowboys",
         "orientation": "v",
         "showlegend": true,
         "type": "scatter",
         "x": [
          0,
          1,
          2,
          3,
          4,
          5,
          6,
          7,
          8,
          9,
          10,
          11,
          12,
          13,
          14,
          15,
          16,
          17,
          18,
          19,
          20,
          21
         ],
         "xaxis": "x",
         "y": [
          1.77,
          1.77,
          1.77,
          1.77,
          1.77,
          1.77,
          1.77,
          1.77,
          1.77,
          1.77,
          1.77,
          1.77,
          1.77,
          1.77,
          1.77,
          1.77,
          1.77,
          1.77,
          1.77,
          1.77,
          1.77,
          1.77
         ],
         "yaxis": "y"
        },
        {
         "hovertemplate": "team=Cincinnati Bengals<br>index=%{x}<br>value=%{y}<extra></extra>",
         "legendgroup": "Cincinnati Bengals",
         "line": {
          "color": "#FFA15A",
          "dash": "solid"
         },
         "mode": "lines",
         "name": "Cincinnati Bengals",
         "orientation": "v",
         "showlegend": true,
         "type": "scatter",
         "x": [
          0,
          1,
          2,
          3,
          4,
          5,
          6,
          7,
          8,
          9,
          10,
          11,
          12,
          13,
          14,
          15,
          16,
          17,
          18,
          19,
          20,
          21
         ],
         "xaxis": "x",
         "y": [
          7.3,
          7.3,
          7.3,
          7.3,
          7.3,
          7.3,
          7.3,
          7.3,
          7.3,
          7.3,
          7.3,
          7.3,
          7.3,
          7.3,
          7.3,
          7.3,
          7.3,
          7.3,
          7.3,
          7.3,
          7.3,
          7.3
         ],
         "yaxis": "y"
        },
        {
         "hovertemplate": "team=Tampa Bay Buccaneers<br>index=%{x}<br>value=%{y}<extra></extra>",
         "legendgroup": "Tampa Bay Buccaneers",
         "line": {
          "color": "#19d3f3",
          "dash": "solid"
         },
         "mode": "lines",
         "name": "Tampa Bay Buccaneers",
         "orientation": "v",
         "showlegend": true,
         "type": "scatter",
         "x": [
          0,
          1,
          2,
          3,
          4,
          5,
          6,
          7,
          8,
          9,
          10,
          11,
          12,
          13,
          14,
          15,
          16,
          17,
          18,
          19,
          20,
          21
         ],
         "xaxis": "x",
         "y": [
          1.3050000000000002,
          1.3050000000000002,
          1.3050000000000002,
          1.3050000000000002,
          1.3050000000000002,
          1.3050000000000002,
          1.3050000000000002,
          1.3050000000000002,
          1.3050000000000002,
          1.3050000000000002,
          1.3050000000000002,
          1.3050000000000002,
          1.3050000000000002,
          1.3050000000000002,
          1.3050000000000002,
          1.3050000000000002,
          1.3050000000000002,
          1.3050000000000002,
          1.3050000000000002,
          1.3050000000000002,
          1.3050000000000002,
          1.3050000000000002
         ],
         "yaxis": "y"
        },
        {
         "hovertemplate": "team=Carolina Panthers<br>index=%{x}<br>value=%{y}<extra></extra>",
         "legendgroup": "Carolina Panthers",
         "line": {
          "color": "#FF6692",
          "dash": "solid"
         },
         "mode": "lines",
         "name": "Carolina Panthers",
         "orientation": "v",
         "showlegend": true,
         "type": "scatter",
         "x": [
          0,
          1,
          2,
          3,
          4,
          5,
          6,
          7,
          8,
          9,
          10,
          11,
          12,
          13,
          14,
          15,
          16,
          17,
          18,
          19,
          20,
          21
         ],
         "xaxis": "x",
         "y": [
          3.0999999999999996,
          3.0999999999999996,
          3.0999999999999996,
          3.0999999999999996,
          3.0999999999999996,
          3.0999999999999996,
          3.0999999999999996,
          3.0999999999999996,
          3.0999999999999996,
          3.0999999999999996,
          3.0999999999999996,
          3.0999999999999996,
          3.0999999999999996,
          3.0999999999999996,
          3.0999999999999996,
          3.0999999999999996,
          3.0999999999999996,
          3.0999999999999996,
          3.0999999999999996,
          3.0999999999999996,
          3.0999999999999996,
          3.0999999999999996
         ],
         "yaxis": "y"
        },
        {
         "hovertemplate": "team=Tennessee Titans<br>index=%{x}<br>value=%{y}<extra></extra>",
         "legendgroup": "Tennessee Titans",
         "line": {
          "color": "#B6E880",
          "dash": "solid"
         },
         "mode": "lines",
         "name": "Tennessee Titans",
         "orientation": "v",
         "showlegend": true,
         "type": "scatter",
         "x": [
          0,
          1,
          2,
          3,
          4,
          5,
          6,
          7,
          8,
          9,
          10,
          11,
          12,
          13,
          14,
          15,
          16,
          17,
          18,
          19,
          20,
          21
         ],
         "xaxis": "x",
         "y": [
          1.3050000000000002,
          1.3050000000000002,
          1.3050000000000002,
          1.3050000000000002,
          1.3050000000000002,
          1.3050000000000002,
          1.3050000000000002,
          1.31,
          1.31,
          1.31,
          1.31,
          1.31,
          1.31,
          1.31,
          1.31,
          1.31,
          1.31,
          1.31,
          1.31,
          1.31,
          1.31,
          1.31
         ],
         "yaxis": "y"
        },
        {
         "hovertemplate": "team=Cleveland Browns<br>index=%{x}<br>value=%{y}<extra></extra>",
         "legendgroup": "Cleveland Browns",
         "line": {
          "color": "#FF97FF",
          "dash": "solid"
         },
         "mode": "lines",
         "name": "Cleveland Browns",
         "orientation": "v",
         "showlegend": true,
         "type": "scatter",
         "x": [
          0,
          1,
          2,
          3,
          4,
          5,
          6,
          7,
          8,
          9,
          10,
          11,
          12,
          13,
          14,
          15,
          16,
          17,
          18,
          19,
          20,
          21
         ],
         "xaxis": "x",
         "y": [
          1.205,
          1.205,
          1.205,
          1.205,
          1.205,
          1.205,
          1.205,
          1.205,
          1.205,
          1.205,
          1.205,
          1.205,
          1.205,
          1.205,
          1.205,
          1.205,
          1.205,
          1.205,
          1.205,
          1.205,
          1.205,
          1.205
         ],
         "yaxis": "y"
        },
        {
         "hovertemplate": "team=Houston Texans<br>index=%{x}<br>value=%{y}<extra></extra>",
         "legendgroup": "Houston Texans",
         "line": {
          "color": "#FECB52",
          "dash": "solid"
         },
         "mode": "lines",
         "name": "Houston Texans",
         "orientation": "v",
         "showlegend": true,
         "type": "scatter",
         "x": [
          0,
          1,
          2,
          3,
          4,
          5,
          6,
          7,
          8,
          9,
          10,
          11,
          12,
          13,
          14,
          15,
          16,
          17,
          18,
          19,
          20,
          21
         ],
         "xaxis": "x",
         "y": [
          3.75,
          3.75,
          3.75,
          3.75,
          3.75,
          3.75,
          3.75,
          3.675,
          3.675,
          3.675,
          3.675,
          3.675,
          3.675,
          3.675,
          3.675,
          3.675,
          3.675,
          3.675,
          3.675,
          3.675,
          3.675,
          3.675
         ],
         "yaxis": "y"
        },
        {
         "hovertemplate": "team=Los Angeles Rams<br>index=%{x}<br>value=%{y}<extra></extra>",
         "legendgroup": "Los Angeles Rams",
         "line": {
          "color": "#636efa",
          "dash": "solid"
         },
         "mode": "lines",
         "name": "Los Angeles Rams",
         "orientation": "v",
         "showlegend": true,
         "type": "scatter",
         "x": [
          0,
          1,
          2,
          3,
          4,
          5,
          6,
          7,
          8,
          9,
          10,
          11,
          12,
          13,
          14,
          15,
          16,
          17,
          18,
          19,
          20,
          21
         ],
         "xaxis": "x",
         "y": [
          1.975,
          1.975,
          1.975,
          1.975,
          1.975,
          1.975,
          1.975,
          1.975,
          1.975,
          1.975,
          1.975,
          1.975,
          1.975,
          1.975,
          1.975,
          1.975,
          1.975,
          1.975,
          1.975,
          1.975,
          1.975,
          1.975
         ],
         "yaxis": "y"
        },
        {
         "hovertemplate": "team=New England Patriots<br>index=%{x}<br>value=%{y}<extra></extra>",
         "legendgroup": "New England Patriots",
         "line": {
          "color": "#EF553B",
          "dash": "solid"
         },
         "mode": "lines",
         "name": "New England Patriots",
         "orientation": "v",
         "showlegend": true,
         "type": "scatter",
         "x": [
          0,
          1,
          2,
          3,
          4,
          5,
          6,
          7,
          8,
          9,
          10,
          11,
          12,
          13,
          14,
          15,
          16,
          17,
          18,
          19,
          20,
          21
         ],
         "xaxis": "x",
         "y": [
          1.6749999999999998,
          1.6749999999999998,
          1.6749999999999998,
          1.6749999999999998,
          1.6749999999999998,
          1.6549999999999998,
          1.6549999999999998,
          1.6549999999999998,
          1.6549999999999998,
          1.6549999999999998,
          1.6549999999999998,
          1.6549999999999998,
          1.6549999999999998,
          1.6549999999999998,
          1.6549999999999998,
          1.6549999999999998,
          1.6549999999999998,
          1.6549999999999998,
          1.635,
          1.635,
          1.635,
          1.635
         ],
         "yaxis": "y"
        },
        {
         "hovertemplate": "team=San Francisco 49ers<br>index=%{x}<br>value=%{y}<extra></extra>",
         "legendgroup": "San Francisco 49ers",
         "line": {
          "color": "#00cc96",
          "dash": "solid"
         },
         "mode": "lines",
         "name": "San Francisco 49ers",
         "orientation": "v",
         "showlegend": true,
         "type": "scatter",
         "x": [
          0,
          1,
          2,
          3,
          4,
          5,
          6,
          7,
          8,
          9,
          10,
          11,
          12,
          13,
          14,
          15,
          16,
          17,
          18,
          19,
          20,
          21
         ],
         "xaxis": "x",
         "y": [
          3.7750000000000004,
          3.7750000000000004,
          3.7750000000000004,
          3.7750000000000004,
          3.7750000000000004,
          3.7750000000000004,
          3.7750000000000004,
          3.7750000000000004,
          3.7750000000000004,
          3.7750000000000004,
          3.7750000000000004,
          3.7750000000000004,
          3.7750000000000004,
          3.7750000000000004,
          3.7750000000000004,
          3.7750000000000004,
          3.7750000000000004,
          3.7750000000000004,
          3.7750000000000004,
          3.7750000000000004,
          3.7750000000000004,
          3.7750000000000004
         ],
         "yaxis": "y"
        },
        {
         "hovertemplate": "team=New Orleans Saints<br>index=%{x}<br>value=%{y}<extra></extra>",
         "legendgroup": "New Orleans Saints",
         "line": {
          "color": "#ab63fa",
          "dash": "solid"
         },
         "mode": "lines",
         "name": "New Orleans Saints",
         "orientation": "v",
         "showlegend": true,
         "type": "scatter",
         "x": [
          0,
          1,
          2,
          3,
          4,
          5,
          6,
          7,
          8,
          9,
          10,
          11,
          12,
          13,
          14,
          15,
          16,
          17,
          18,
          19,
          20,
          21
         ],
         "xaxis": "x",
         "y": [
          1.4,
          1.4,
          1.4,
          1.4,
          1.4,
          1.4,
          1.4,
          1.4,
          1.4,
          1.4,
          1.4,
          1.4,
          1.4,
          1.4,
          1.4,
          1.4,
          1.4,
          1.4,
          1.4,
          1.4,
          1.4,
          1.4
         ],
         "yaxis": "y"
        },
        {
         "hovertemplate": "team=Chicago Bears<br>index=%{x}<br>value=%{y}<extra></extra>",
         "legendgroup": "Chicago Bears",
         "line": {
          "color": "#FFA15A",
          "dash": "solid"
         },
         "mode": "lines",
         "name": "Chicago Bears",
         "orientation": "v",
         "showlegend": true,
         "type": "scatter",
         "x": [
          0,
          1,
          2,
          3,
          4,
          5,
          6,
          7,
          8,
          9,
          10,
          11,
          12,
          13,
          14,
          15,
          16,
          17,
          18,
          19,
          20,
          21
         ],
         "xaxis": "x",
         "y": [
          2.8899999999999997,
          2.8899999999999997,
          2.8899999999999997,
          2.8899999999999997,
          2.8899999999999997,
          2.8899999999999997,
          2.8899999999999997,
          2.8899999999999997,
          2.8899999999999997,
          2.8899999999999997,
          2.94,
          2.94,
          2.915,
          2.915,
          2.915,
          2.915,
          2.915,
          2.915,
          2.915,
          2.915,
          2.915,
          2.915
         ],
         "yaxis": "y"
        },
        {
         "hovertemplate": "team=Washington Football Team<br>index=%{x}<br>value=%{y}<extra></extra>",
         "legendgroup": "Washington Football Team",
         "line": {
          "color": "#19d3f3",
          "dash": "solid"
         },
         "mode": "lines",
         "name": "Washington Football Team",
         "orientation": "v",
         "showlegend": true,
         "type": "scatter",
         "x": [
          0,
          1,
          2,
          3,
          4,
          5,
          6,
          7,
          8,
          9,
          10,
          11,
          12,
          13,
          14,
          15,
          16,
          17,
          18,
          19,
          20,
          21
         ],
         "xaxis": "x",
         "y": [
          1.38,
          1.38,
          1.38,
          1.38,
          1.38,
          1.38,
          1.38,
          1.38,
          1.38,
          1.38,
          1.38,
          1.38,
          1.38,
          1.38,
          1.38,
          1.355,
          1.355,
          1.355,
          1.355,
          1.355,
          1.355,
          1.355
         ],
         "yaxis": "y"
        },
        {
         "hovertemplate": "team=Pittsburgh Steelers<br>index=%{x}<br>value=%{y}<extra></extra>",
         "legendgroup": "Pittsburgh Steelers",
         "line": {
          "color": "#FF6692",
          "dash": "solid"
         },
         "mode": "lines",
         "name": "Pittsburgh Steelers",
         "orientation": "v",
         "showlegend": true,
         "type": "scatter",
         "x": [
          0,
          1,
          2,
          3,
          4,
          5,
          6,
          7,
          8,
          9,
          10,
          11,
          12,
          13,
          14,
          15,
          16,
          17,
          18,
          19,
          20,
          21
         ],
         "xaxis": "x",
         "y": [
          4.824999999999999,
          4.824999999999999,
          4.824999999999999,
          4.824999999999999,
          4.824999999999999,
          4.824999999999999,
          4.824999999999999,
          4.824999999999999,
          4.824999999999999,
          4.824999999999999,
          4.824999999999999,
          4.824999999999999,
          4.824999999999999,
          4.824999999999999,
          4.824999999999999,
          4.824999999999999,
          4.824999999999999,
          4.824999999999999,
          4.824999999999999,
          4.824999999999999,
          4.824999999999999,
          4.824999999999999
         ],
         "yaxis": "y"
        },
        {
         "hovertemplate": "team=Denver Broncos<br>index=%{x}<br>value=%{y}<extra></extra>",
         "legendgroup": "Denver Broncos",
         "line": {
          "color": "#B6E880",
          "dash": "solid"
         },
         "mode": "lines",
         "name": "Denver Broncos",
         "orientation": "v",
         "showlegend": true,
         "type": "scatter",
         "x": [
          0,
          1,
          2,
          3,
          4,
          5,
          6,
          7,
          8,
          9,
          10,
          11,
          12,
          13,
          14,
          15,
          16,
          17,
          18,
          19,
          20,
          21
         ],
         "xaxis": "x",
         "y": [
          2.245,
          2.245,
          2.245,
          2.245,
          2.245,
          2.245,
          2.245,
          2.245,
          2.245,
          2.245,
          2.245,
          2.245,
          2.245,
          2.245,
          2.245,
          2.245,
          2.245,
          2.245,
          2.245,
          2.245,
          2.245,
          2.245
         ],
         "yaxis": "y"
        },
        {
         "hovertemplate": "team=Detroit Lions<br>index=%{x}<br>value=%{y}<extra></extra>",
         "legendgroup": "Detroit Lions",
         "line": {
          "color": "#FF97FF",
          "dash": "solid"
         },
         "mode": "lines",
         "name": "Detroit Lions",
         "orientation": "v",
         "showlegend": true,
         "type": "scatter",
         "x": [
          0,
          1,
          2,
          3,
          4,
          5,
          6,
          7,
          8,
          9,
          10,
          11,
          12,
          13,
          14,
          15,
          16,
          17,
          18,
          19,
          20,
          21
         ],
         "xaxis": "x",
         "y": [
          2.425,
          2.425,
          2.425,
          2.425,
          2.425,
          2.425,
          2.425,
          2.425,
          2.425,
          2.425,
          2.425,
          2.425,
          2.425,
          2.425,
          2.425,
          2.425,
          2.425,
          2.425,
          2.425,
          2.425,
          2.425,
          2.425
         ],
         "yaxis": "y"
        },
        {
         "hovertemplate": "team=Jacksonville Jaguars<br>index=%{x}<br>value=%{y}<extra></extra>",
         "legendgroup": "Jacksonville Jaguars",
         "line": {
          "color": "#FECB52",
          "dash": "solid"
         },
         "mode": "lines",
         "name": "Jacksonville Jaguars",
         "orientation": "v",
         "showlegend": true,
         "type": "scatter",
         "x": [
          0,
          1,
          2,
          3,
          4,
          5,
          6,
          7,
          8,
          9,
          10,
          11,
          12,
          13,
          14,
          15,
          16,
          17,
          18,
          19,
          20,
          21
         ],
         "xaxis": "x",
         "y": [
          9.35,
          9.35,
          9.35,
          9.35,
          9.35,
          9.35,
          9.35,
          9.35,
          9.35,
          9.35,
          9.35,
          9.35,
          9.35,
          9.35,
          9.35,
          9.35,
          9.35,
          9.35,
          9.35,
          9.35,
          9.35,
          9.35
         ],
         "yaxis": "y"
        },
        {
         "hovertemplate": "team=New York Jets<br>index=%{x}<br>value=%{y}<extra></extra>",
         "legendgroup": "New York Jets",
         "line": {
          "color": "#636efa",
          "dash": "solid"
         },
         "mode": "lines",
         "name": "New York Jets",
         "orientation": "v",
         "showlegend": true,
         "type": "scatter",
         "x": [
          0,
          1,
          2,
          3,
          4,
          5,
          6,
          7,
          8,
          9,
          10,
          11,
          12,
          13,
          14,
          15,
          16,
          17,
          18,
          19,
          20,
          21
         ],
         "xaxis": "x",
         "y": [
          2.27,
          2.27,
          2.27,
          2.27,
          2.27,
          2.3099999999999996,
          2.3099999999999996,
          2.3099999999999996,
          2.3099999999999996,
          2.3099999999999996,
          2.3099999999999996,
          2.3099999999999996,
          2.3099999999999996,
          2.3099999999999996,
          2.3099999999999996,
          2.3099999999999996,
          2.3099999999999996,
          2.3099999999999996,
          2.3499999999999996,
          2.3499999999999996,
          2.3499999999999996,
          2.3499999999999996
         ],
         "yaxis": "y"
        },
        {
         "hovertemplate": "team=Las Vegas Raiders<br>index=%{x}<br>value=%{y}<extra></extra>",
         "legendgroup": "Las Vegas Raiders",
         "line": {
          "color": "#EF553B",
          "dash": "solid"
         },
         "mode": "lines",
         "name": "Las Vegas Raiders",
         "orientation": "v",
         "showlegend": true,
         "type": "scatter",
         "x": [
          0,
          1,
          2,
          3,
          4,
          5,
          6,
          7,
          8,
          9,
          10,
          11,
          12,
          13,
          14,
          15,
          16,
          17,
          18,
          19,
          20,
          21
         ],
         "xaxis": "x",
         "y": [
          1.69,
          1.69,
          1.69,
          1.69,
          1.69,
          1.69,
          1.69,
          1.69,
          1.69,
          1.69,
          1.69,
          1.69,
          1.69,
          1.69,
          1.69,
          1.69,
          1.69,
          1.69,
          1.69,
          1.69,
          1.69,
          1.69
         ],
         "yaxis": "y"
        },
        {
         "hovertemplate": "team=Philadelphia Eagles<br>index=%{x}<br>value=%{y}<extra></extra>",
         "legendgroup": "Philadelphia Eagles",
         "line": {
          "color": "#00cc96",
          "dash": "solid"
         },
         "mode": "lines",
         "name": "Philadelphia Eagles",
         "orientation": "v",
         "showlegend": true,
         "type": "scatter",
         "x": [
          0,
          1,
          2,
          3,
          4,
          5,
          6,
          7,
          8,
          9,
          10,
          11,
          12,
          13,
          14,
          15,
          16,
          17,
          18,
          19,
          20,
          21
         ],
         "xaxis": "x",
         "y": [
          3.2,
          3.2,
          3.2,
          3.2,
          3.2,
          3.2,
          3.2,
          3.2,
          3.2,
          3.2,
          3.2,
          3.2,
          3.2,
          3.2,
          3.2,
          3.325,
          3.325,
          3.325,
          3.325,
          3.325,
          3.325,
          3.325
         ],
         "yaxis": "y"
        },
        {
         "hovertemplate": "team=Minnesota Vikings<br>index=%{x}<br>value=%{y}<extra></extra>",
         "legendgroup": "Minnesota Vikings",
         "line": {
          "color": "#ab63fa",
          "dash": "solid"
         },
         "mode": "lines",
         "name": "Minnesota Vikings",
         "orientation": "v",
         "showlegend": true,
         "type": "scatter",
         "x": [
          0,
          1,
          2,
          3,
          4,
          5,
          6,
          7,
          8,
          9,
          10,
          11,
          12,
          13,
          14,
          15,
          16,
          17,
          18,
          19,
          20,
          21
         ],
         "xaxis": "x",
         "y": [
          1.6,
          1.6,
          1.6,
          1.6,
          1.6,
          1.6,
          1.6,
          1.6,
          1.6,
          1.6,
          1.6,
          1.6,
          1.6,
          1.6,
          1.6,
          1.6,
          1.6,
          1.6,
          1.6,
          1.6,
          1.6,
          1.6
         ],
         "yaxis": "y"
        },
        {
         "hovertemplate": "team=Arizona Cardinals<br>index=%{x}<br>value=%{y}<extra></extra>",
         "legendgroup": "Arizona Cardinals",
         "line": {
          "color": "#FFA15A",
          "dash": "solid"
         },
         "mode": "lines",
         "name": "Arizona Cardinals",
         "orientation": "v",
         "showlegend": true,
         "type": "scatter",
         "x": [
          0,
          1,
          2,
          3,
          4,
          5,
          6,
          7,
          8,
          9,
          10,
          11,
          12,
          13,
          14,
          15,
          16,
          17,
          18,
          19,
          20,
          21
         ],
         "xaxis": "x",
         "y": [
          1.87,
          1.87,
          1.87,
          1.87,
          1.87,
          1.87,
          1.87,
          1.87,
          1.87,
          1.87,
          1.87,
          1.87,
          1.87,
          1.87,
          1.87,
          1.87,
          1.87,
          1.87,
          1.87,
          1.87,
          1.87,
          1.87
         ],
         "yaxis": "y"
        },
        {
         "hovertemplate": "team=Green Bay Packers<br>index=%{x}<br>value=%{y}<extra></extra>",
         "legendgroup": "Green Bay Packers",
         "line": {
          "color": "#19d3f3",
          "dash": "solid"
         },
         "mode": "lines",
         "name": "Green Bay Packers",
         "orientation": "v",
         "showlegend": true,
         "type": "scatter",
         "x": [
          0,
          1,
          2,
          3,
          4,
          5,
          6,
          7,
          8,
          9,
          10,
          11,
          12,
          13,
          14,
          15,
          16,
          17,
          18,
          19,
          20,
          21
         ],
         "xaxis": "x",
         "y": [
          1.44,
          1.44,
          1.44,
          1.44,
          1.44,
          1.44,
          1.44,
          1.44,
          1.44,
          1.44,
          1.435,
          1.435,
          1.435,
          1.435,
          1.435,
          1.435,
          1.435,
          1.435,
          1.435,
          1.435,
          1.435,
          1.435
         ],
         "yaxis": "y"
        },
        {
         "hovertemplate": "team=Indianapolis Colts<br>index=%{x}<br>value=%{y}<extra></extra>",
         "legendgroup": "Indianapolis Colts",
         "line": {
          "color": "#FF6692",
          "dash": "solid"
         },
         "mode": "lines",
         "name": "Indianapolis Colts",
         "orientation": "v",
         "showlegend": true,
         "type": "scatter",
         "x": [
          0,
          1,
          2,
          3,
          4,
          5,
          6,
          7,
          8,
          9,
          10,
          11,
          12,
          13,
          14,
          15,
          16,
          17,
          18,
          19,
          20,
          21
         ],
         "xaxis": "x",
         "y": [
          1.0750000000000002,
          1.0750000000000002,
          1.0750000000000002,
          1.0750000000000002,
          1.0750000000000002,
          1.0750000000000002,
          1.0750000000000002,
          1.0750000000000002,
          1.0750000000000002,
          1.0750000000000002,
          1.0750000000000002,
          1.0750000000000002,
          1.0750000000000002,
          1.0750000000000002,
          1.0750000000000002,
          1.0750000000000002,
          1.0750000000000002,
          1.0750000000000002,
          1.0750000000000002,
          1.0750000000000002,
          1.0750000000000002,
          1.0750000000000002
         ],
         "yaxis": "y"
        },
        {
         "hovertemplate": "team=Seattle Seahawks<br>index=%{x}<br>value=%{y}<extra></extra>",
         "legendgroup": "Seattle Seahawks",
         "line": {
          "color": "#B6E880",
          "dash": "solid"
         },
         "mode": "lines",
         "name": "Seattle Seahawks",
         "orientation": "v",
         "showlegend": true,
         "type": "scatter",
         "x": [
          0,
          1,
          2,
          3,
          4,
          5,
          6,
          7,
          8,
          9,
          10,
          11,
          12,
          13,
          14,
          15,
          16,
          17,
          18,
          19,
          20,
          21
         ],
         "xaxis": "x",
         "y": [
          1.29,
          1.29,
          1.29,
          1.29,
          1.29,
          1.29,
          1.29,
          1.29,
          1.29,
          1.29,
          1.29,
          1.29,
          1.29,
          1.29,
          1.29,
          1.29,
          1.29,
          1.29,
          1.29,
          1.29,
          1.29,
          1.29
         ],
         "yaxis": "y"
        },
        {
         "hovertemplate": "team=Miami Dolphins<br>index=%{x}<br>value=%{y}<extra></extra>",
         "legendgroup": "Miami Dolphins",
         "line": {
          "color": "#FF97FF",
          "dash": "solid"
         },
         "mode": "lines",
         "name": "Miami Dolphins",
         "orientation": "v",
         "showlegend": true,
         "type": "scatter",
         "x": [
          0,
          1,
          2,
          3,
          4,
          5,
          6,
          7,
          8,
          9,
          10,
          11,
          12,
          13,
          14,
          15,
          16,
          17,
          18,
          19,
          20,
          21
         ],
         "xaxis": "x",
         "y": [
          1.51,
          1.505,
          1.505,
          1.505,
          1.505,
          1.505,
          1.52,
          1.52,
          1.55,
          1.5550000000000002,
          1.5550000000000002,
          1.5550000000000002,
          1.5550000000000002,
          1.5550000000000002,
          1.5550000000000002,
          1.5550000000000002,
          1.5550000000000002,
          1.5550000000000002,
          1.5550000000000002,
          1.5550000000000002,
          1.5550000000000002,
          1.5550000000000002
         ],
         "yaxis": "y"
        },
        {
         "hovertemplate": "team=Buffalo Bills<br>index=%{x}<br>value=%{y}<extra></extra>",
         "legendgroup": "Buffalo Bills",
         "line": {
          "color": "#FECB52",
          "dash": "solid"
         },
         "mode": "lines",
         "name": "Buffalo Bills",
         "orientation": "v",
         "showlegend": true,
         "type": "scatter",
         "x": [
          0,
          1,
          2,
          3,
          4,
          5,
          6,
          7,
          8,
          9,
          10,
          11,
          12,
          13,
          14,
          15,
          16,
          17,
          18,
          19,
          20,
          21
         ],
         "xaxis": "x",
         "y": [
          2.645,
          2.675,
          2.675,
          2.675,
          2.675,
          2.675,
          2.625,
          2.625,
          2.55,
          2.52,
          2.52,
          2.52,
          2.52,
          2.52,
          2.52,
          2.52,
          2.52,
          2.52,
          2.52,
          2.52,
          2.52,
          2.52
         ],
         "yaxis": "y"
        },
        {
         "hovertemplate": "team=Kansas City Chiefs<br>index=%{x}<br>value=%{y}<extra></extra>",
         "legendgroup": "Kansas City Chiefs",
         "line": {
          "color": "#636efa",
          "dash": "solid"
         },
         "mode": "lines",
         "name": "Kansas City Chiefs",
         "orientation": "v",
         "showlegend": true,
         "type": "scatter",
         "x": [
          0,
          1,
          2,
          3,
          4,
          5,
          6,
          7,
          8,
          9,
          10,
          11,
          12,
          13,
          14,
          15,
          16,
          17,
          18,
          19,
          20,
          21
         ],
         "xaxis": "x",
         "y": [
          3.15,
          3.225,
          3.225,
          3.25,
          3.25,
          3.25,
          3.25,
          3.25,
          3.25,
          3.25,
          3.25,
          3.25,
          3.25,
          3.25,
          3.25,
          3.475,
          3.475,
          3.475,
          3.475,
          3.475,
          3.475,
          3.475
         ],
         "yaxis": "y"
        },
        {
         "hovertemplate": "team=Los Angeles Chargers<br>index=%{x}<br>value=%{y}<extra></extra>",
         "legendgroup": "Los Angeles Chargers",
         "line": {
          "color": "#EF553B",
          "dash": "solid"
         },
         "mode": "lines",
         "name": "Los Angeles Chargers",
         "orientation": "v",
         "showlegend": true,
         "type": "scatter",
         "x": [
          0,
          1,
          2,
          3,
          4,
          5,
          6,
          7,
          8,
          9,
          10,
          11,
          12,
          13,
          14,
          15,
          16,
          17,
          18,
          19,
          20,
          21
         ],
         "xaxis": "x",
         "y": [
          1.38,
          1.3650000000000002,
          1.3650000000000002,
          1.36,
          1.36,
          1.36,
          1.36,
          1.36,
          1.36,
          1.36,
          1.36,
          1.36,
          1.36,
          1.36,
          1.36,
          1.33,
          1.33,
          1.33,
          1.33,
          1.33,
          1.33,
          1.33
         ],
         "yaxis": "y"
        }
       ],
       "layout": {
        "autosize": true,
        "legend": {
         "title": {
          "text": "team"
         },
         "tracegroupgap": 0
        },
        "margin": {
         "t": 60
        },
        "template": {
         "data": {
          "bar": [
           {
            "error_x": {
             "color": "#2a3f5f"
            },
            "error_y": {
             "color": "#2a3f5f"
            },
            "marker": {
             "line": {
              "color": "#E5ECF6",
              "width": 0.5
             }
            },
            "type": "bar"
           }
          ],
          "barpolar": [
           {
            "marker": {
             "line": {
              "color": "#E5ECF6",
              "width": 0.5
             }
            },
            "type": "barpolar"
           }
          ],
          "carpet": [
           {
            "aaxis": {
             "endlinecolor": "#2a3f5f",
             "gridcolor": "white",
             "linecolor": "white",
             "minorgridcolor": "white",
             "startlinecolor": "#2a3f5f"
            },
            "baxis": {
             "endlinecolor": "#2a3f5f",
             "gridcolor": "white",
             "linecolor": "white",
             "minorgridcolor": "white",
             "startlinecolor": "#2a3f5f"
            },
            "type": "carpet"
           }
          ],
          "choropleth": [
           {
            "colorbar": {
             "outlinewidth": 0,
             "ticks": ""
            },
            "type": "choropleth"
           }
          ],
          "contour": [
           {
            "colorbar": {
             "outlinewidth": 0,
             "ticks": ""
            },
            "colorscale": [
             [
              0,
              "#0d0887"
             ],
             [
              0.1111111111111111,
              "#46039f"
             ],
             [
              0.2222222222222222,
              "#7201a8"
             ],
             [
              0.3333333333333333,
              "#9c179e"
             ],
             [
              0.4444444444444444,
              "#bd3786"
             ],
             [
              0.5555555555555556,
              "#d8576b"
             ],
             [
              0.6666666666666666,
              "#ed7953"
             ],
             [
              0.7777777777777778,
              "#fb9f3a"
             ],
             [
              0.8888888888888888,
              "#fdca26"
             ],
             [
              1,
              "#f0f921"
             ]
            ],
            "type": "contour"
           }
          ],
          "contourcarpet": [
           {
            "colorbar": {
             "outlinewidth": 0,
             "ticks": ""
            },
            "type": "contourcarpet"
           }
          ],
          "heatmap": [
           {
            "colorbar": {
             "outlinewidth": 0,
             "ticks": ""
            },
            "colorscale": [
             [
              0,
              "#0d0887"
             ],
             [
              0.1111111111111111,
              "#46039f"
             ],
             [
              0.2222222222222222,
              "#7201a8"
             ],
             [
              0.3333333333333333,
              "#9c179e"
             ],
             [
              0.4444444444444444,
              "#bd3786"
             ],
             [
              0.5555555555555556,
              "#d8576b"
             ],
             [
              0.6666666666666666,
              "#ed7953"
             ],
             [
              0.7777777777777778,
              "#fb9f3a"
             ],
             [
              0.8888888888888888,
              "#fdca26"
             ],
             [
              1,
              "#f0f921"
             ]
            ],
            "type": "heatmap"
           }
          ],
          "heatmapgl": [
           {
            "colorbar": {
             "outlinewidth": 0,
             "ticks": ""
            },
            "colorscale": [
             [
              0,
              "#0d0887"
             ],
             [
              0.1111111111111111,
              "#46039f"
             ],
             [
              0.2222222222222222,
              "#7201a8"
             ],
             [
              0.3333333333333333,
              "#9c179e"
             ],
             [
              0.4444444444444444,
              "#bd3786"
             ],
             [
              0.5555555555555556,
              "#d8576b"
             ],
             [
              0.6666666666666666,
              "#ed7953"
             ],
             [
              0.7777777777777778,
              "#fb9f3a"
             ],
             [
              0.8888888888888888,
              "#fdca26"
             ],
             [
              1,
              "#f0f921"
             ]
            ],
            "type": "heatmapgl"
           }
          ],
          "histogram": [
           {
            "marker": {
             "colorbar": {
              "outlinewidth": 0,
              "ticks": ""
             }
            },
            "type": "histogram"
           }
          ],
          "histogram2d": [
           {
            "colorbar": {
             "outlinewidth": 0,
             "ticks": ""
            },
            "colorscale": [
             [
              0,
              "#0d0887"
             ],
             [
              0.1111111111111111,
              "#46039f"
             ],
             [
              0.2222222222222222,
              "#7201a8"
             ],
             [
              0.3333333333333333,
              "#9c179e"
             ],
             [
              0.4444444444444444,
              "#bd3786"
             ],
             [
              0.5555555555555556,
              "#d8576b"
             ],
             [
              0.6666666666666666,
              "#ed7953"
             ],
             [
              0.7777777777777778,
              "#fb9f3a"
             ],
             [
              0.8888888888888888,
              "#fdca26"
             ],
             [
              1,
              "#f0f921"
             ]
            ],
            "type": "histogram2d"
           }
          ],
          "histogram2dcontour": [
           {
            "colorbar": {
             "outlinewidth": 0,
             "ticks": ""
            },
            "colorscale": [
             [
              0,
              "#0d0887"
             ],
             [
              0.1111111111111111,
              "#46039f"
             ],
             [
              0.2222222222222222,
              "#7201a8"
             ],
             [
              0.3333333333333333,
              "#9c179e"
             ],
             [
              0.4444444444444444,
              "#bd3786"
             ],
             [
              0.5555555555555556,
              "#d8576b"
             ],
             [
              0.6666666666666666,
              "#ed7953"
             ],
             [
              0.7777777777777778,
              "#fb9f3a"
             ],
             [
              0.8888888888888888,
              "#fdca26"
             ],
             [
              1,
              "#f0f921"
             ]
            ],
            "type": "histogram2dcontour"
           }
          ],
          "mesh3d": [
           {
            "colorbar": {
             "outlinewidth": 0,
             "ticks": ""
            },
            "type": "mesh3d"
           }
          ],
          "parcoords": [
           {
            "line": {
             "colorbar": {
              "outlinewidth": 0,
              "ticks": ""
             }
            },
            "type": "parcoords"
           }
          ],
          "pie": [
           {
            "automargin": true,
            "type": "pie"
           }
          ],
          "scatter": [
           {
            "marker": {
             "colorbar": {
              "outlinewidth": 0,
              "ticks": ""
             }
            },
            "type": "scatter"
           }
          ],
          "scatter3d": [
           {
            "line": {
             "colorbar": {
              "outlinewidth": 0,
              "ticks": ""
             }
            },
            "marker": {
             "colorbar": {
              "outlinewidth": 0,
              "ticks": ""
             }
            },
            "type": "scatter3d"
           }
          ],
          "scattercarpet": [
           {
            "marker": {
             "colorbar": {
              "outlinewidth": 0,
              "ticks": ""
             }
            },
            "type": "scattercarpet"
           }
          ],
          "scattergeo": [
           {
            "marker": {
             "colorbar": {
              "outlinewidth": 0,
              "ticks": ""
             }
            },
            "type": "scattergeo"
           }
          ],
          "scattergl": [
           {
            "marker": {
             "colorbar": {
              "outlinewidth": 0,
              "ticks": ""
             }
            },
            "type": "scattergl"
           }
          ],
          "scattermapbox": [
           {
            "marker": {
             "colorbar": {
              "outlinewidth": 0,
              "ticks": ""
             }
            },
            "type": "scattermapbox"
           }
          ],
          "scatterpolar": [
           {
            "marker": {
             "colorbar": {
              "outlinewidth": 0,
              "ticks": ""
             }
            },
            "type": "scatterpolar"
           }
          ],
          "scatterpolargl": [
           {
            "marker": {
             "colorbar": {
              "outlinewidth": 0,
              "ticks": ""
             }
            },
            "type": "scatterpolargl"
           }
          ],
          "scatterternary": [
           {
            "marker": {
             "colorbar": {
              "outlinewidth": 0,
              "ticks": ""
             }
            },
            "type": "scatterternary"
           }
          ],
          "surface": [
           {
            "colorbar": {
             "outlinewidth": 0,
             "ticks": ""
            },
            "colorscale": [
             [
              0,
              "#0d0887"
             ],
             [
              0.1111111111111111,
              "#46039f"
             ],
             [
              0.2222222222222222,
              "#7201a8"
             ],
             [
              0.3333333333333333,
              "#9c179e"
             ],
             [
              0.4444444444444444,
              "#bd3786"
             ],
             [
              0.5555555555555556,
              "#d8576b"
             ],
             [
              0.6666666666666666,
              "#ed7953"
             ],
             [
              0.7777777777777778,
              "#fb9f3a"
             ],
             [
              0.8888888888888888,
              "#fdca26"
             ],
             [
              1,
              "#f0f921"
             ]
            ],
            "type": "surface"
           }
          ],
          "table": [
           {
            "cells": {
             "fill": {
              "color": "#EBF0F8"
             },
             "line": {
              "color": "white"
             }
            },
            "header": {
             "fill": {
              "color": "#C8D4E3"
             },
             "line": {
              "color": "white"
             }
            },
            "type": "table"
           }
          ]
         },
         "layout": {
          "annotationdefaults": {
           "arrowcolor": "#2a3f5f",
           "arrowhead": 0,
           "arrowwidth": 1
          },
          "autotypenumbers": "strict",
          "coloraxis": {
           "colorbar": {
            "outlinewidth": 0,
            "ticks": ""
           }
          },
          "colorscale": {
           "diverging": [
            [
             0,
             "#8e0152"
            ],
            [
             0.1,
             "#c51b7d"
            ],
            [
             0.2,
             "#de77ae"
            ],
            [
             0.3,
             "#f1b6da"
            ],
            [
             0.4,
             "#fde0ef"
            ],
            [
             0.5,
             "#f7f7f7"
            ],
            [
             0.6,
             "#e6f5d0"
            ],
            [
             0.7,
             "#b8e186"
            ],
            [
             0.8,
             "#7fbc41"
            ],
            [
             0.9,
             "#4d9221"
            ],
            [
             1,
             "#276419"
            ]
           ],
           "sequential": [
            [
             0,
             "#0d0887"
            ],
            [
             0.1111111111111111,
             "#46039f"
            ],
            [
             0.2222222222222222,
             "#7201a8"
            ],
            [
             0.3333333333333333,
             "#9c179e"
            ],
            [
             0.4444444444444444,
             "#bd3786"
            ],
            [
             0.5555555555555556,
             "#d8576b"
            ],
            [
             0.6666666666666666,
             "#ed7953"
            ],
            [
             0.7777777777777778,
             "#fb9f3a"
            ],
            [
             0.8888888888888888,
             "#fdca26"
            ],
            [
             1,
             "#f0f921"
            ]
           ],
           "sequentialminus": [
            [
             0,
             "#0d0887"
            ],
            [
             0.1111111111111111,
             "#46039f"
            ],
            [
             0.2222222222222222,
             "#7201a8"
            ],
            [
             0.3333333333333333,
             "#9c179e"
            ],
            [
             0.4444444444444444,
             "#bd3786"
            ],
            [
             0.5555555555555556,
             "#d8576b"
            ],
            [
             0.6666666666666666,
             "#ed7953"
            ],
            [
             0.7777777777777778,
             "#fb9f3a"
            ],
            [
             0.8888888888888888,
             "#fdca26"
            ],
            [
             1,
             "#f0f921"
            ]
           ]
          },
          "colorway": [
           "#636efa",
           "#EF553B",
           "#00cc96",
           "#ab63fa",
           "#FFA15A",
           "#19d3f3",
           "#FF6692",
           "#B6E880",
           "#FF97FF",
           "#FECB52"
          ],
          "font": {
           "color": "#2a3f5f"
          },
          "geo": {
           "bgcolor": "white",
           "lakecolor": "white",
           "landcolor": "#E5ECF6",
           "showlakes": true,
           "showland": true,
           "subunitcolor": "white"
          },
          "hoverlabel": {
           "align": "left"
          },
          "hovermode": "closest",
          "mapbox": {
           "style": "light"
          },
          "paper_bgcolor": "white",
          "plot_bgcolor": "#E5ECF6",
          "polar": {
           "angularaxis": {
            "gridcolor": "white",
            "linecolor": "white",
            "ticks": ""
           },
           "bgcolor": "#E5ECF6",
           "radialaxis": {
            "gridcolor": "white",
            "linecolor": "white",
            "ticks": ""
           }
          },
          "scene": {
           "xaxis": {
            "backgroundcolor": "#E5ECF6",
            "gridcolor": "white",
            "gridwidth": 2,
            "linecolor": "white",
            "showbackground": true,
            "ticks": "",
            "zerolinecolor": "white"
           },
           "yaxis": {
            "backgroundcolor": "#E5ECF6",
            "gridcolor": "white",
            "gridwidth": 2,
            "linecolor": "white",
            "showbackground": true,
            "ticks": "",
            "zerolinecolor": "white"
           },
           "zaxis": {
            "backgroundcolor": "#E5ECF6",
            "gridcolor": "white",
            "gridwidth": 2,
            "linecolor": "white",
            "showbackground": true,
            "ticks": "",
            "zerolinecolor": "white"
           }
          },
          "shapedefaults": {
           "line": {
            "color": "#2a3f5f"
           }
          },
          "ternary": {
           "aaxis": {
            "gridcolor": "white",
            "linecolor": "white",
            "ticks": ""
           },
           "baxis": {
            "gridcolor": "white",
            "linecolor": "white",
            "ticks": ""
           },
           "bgcolor": "#E5ECF6",
           "caxis": {
            "gridcolor": "white",
            "linecolor": "white",
            "ticks": ""
           }
          },
          "title": {
           "x": 0.05
          },
          "xaxis": {
           "automargin": true,
           "gridcolor": "white",
           "linecolor": "white",
           "ticks": "",
           "title": {
            "standoff": 15
           },
           "zerolinecolor": "white",
           "zerolinewidth": 2
          },
          "yaxis": {
           "automargin": true,
           "gridcolor": "white",
           "linecolor": "white",
           "ticks": "",
           "title": {
            "standoff": 15
           },
           "zerolinecolor": "white",
           "zerolinewidth": 2
          }
         }
        },
        "xaxis": {
         "anchor": "y",
         "autorange": true,
         "domain": [
          0,
          1
         ],
         "range": [
          0,
          21
         ],
         "title": {
          "text": "index"
         },
         "type": "linear"
        },
        "yaxis": {
         "anchor": "x",
         "autorange": true,
         "domain": [
          0,
          1
         ],
         "range": [
          0.615277777777778,
          9.809722222222222
         ],
         "title": {
          "text": "value"
         },
         "type": "linear"
        }
       }
      },
      "image/png": "[encoded data removed]",
      "text/html": [
       "<div>                            <div id=\"24e847da-66aa-413c-ba7a-35cc8f6b8833\" class=\"plotly-graph-div\" style=\"height:525px; width:100%;\"></div>            <script type=\"text/javascript\">                require([\"plotly\"], function(Plotly) {                    window.PLOTLYENV=window.PLOTLYENV || {};                                    if (document.getElementById(\"24e847da-66aa-413c-ba7a-35cc8f6b8833\")) {                    Plotly.newPlot(                        \"24e847da-66aa-413c-ba7a-35cc8f6b8833\",                        [{\"hovertemplate\": \"team=Baltimore Ravens<br>index=%{x}<br>value=%{y}<extra></extra>\", \"legendgroup\": \"Baltimore Ravens\", \"line\": {\"color\": \"#636efa\", \"dash\": \"solid\"}, \"mode\": \"lines\", \"name\": \"Baltimore Ravens\", \"orientation\": \"v\", \"showlegend\": true, \"type\": \"scatter\", \"x\": [0, 1, 2, 3, 4, 5, 6, 7, 8, 9, 10, 11, 12, 13, 14, 15, 16, 17, 18, 19, 20, 21], \"xaxis\": \"x\", \"y\": [1.11, 1.11, 1.11, 1.11, 1.11, 1.11, 1.11, 1.11, 1.11, 1.11, 1.11, 1.11, 1.11, 1.11, 1.11, 1.11, 1.11, 1.11, 1.11, 1.11, 1.11, 1.11], \"yaxis\": \"y\"}, {\"hovertemplate\": \"team=Atlanta Falcons<br>index=%{x}<br>value=%{y}<extra></extra>\", \"legendgroup\": \"Atlanta Falcons\", \"line\": {\"color\": \"#EF553B\", \"dash\": \"solid\"}, \"mode\": \"lines\", \"name\": \"Atlanta Falcons\", \"orientation\": \"v\", \"showlegend\": true, \"type\": \"scatter\", \"x\": [0, 1, 2, 3, 4, 5, 6, 7, 8, 9, 10, 11, 12, 13, 14, 15, 16, 17, 18, 19, 20, 21], \"xaxis\": \"x\", \"y\": [3.675, 3.675, 3.675, 3.675, 3.675, 3.675, 3.675, 3.675, 3.675, 3.675, 3.675, 3.675, 3.675, 3.675, 3.675, 3.675, 3.675, 3.675, 3.675, 3.675, 3.675, 3.675], \"yaxis\": \"y\"}, {\"hovertemplate\": \"team=New York Giants<br>index=%{x}<br>value=%{y}<extra></extra>\", \"legendgroup\": \"New York Giants\", \"line\": {\"color\": \"#00cc96\", \"dash\": \"solid\"}, \"mode\": \"lines\", \"name\": \"New York Giants\", \"orientation\": \"v\", \"showlegend\": true, \"type\": \"scatter\", \"x\": [0, 1, 2, 3, 4, 5, 6, 7, 8, 9, 10, 11, 12, 13, 14, 15, 16, 17, 18, 19, 20, 21], \"xaxis\": \"x\", \"y\": [2.12, 2.12, 2.12, 2.12, 2.12, 2.12, 2.12, 2.12, 2.12, 2.12, 2.12, 2.12, 2.12, 2.12, 2.12, 2.12, 2.12, 2.12, 2.12, 2.12, 2.12, 2.12], \"yaxis\": \"y\"}, {\"hovertemplate\": \"team=Dallas Cowboys<br>index=%{x}<br>value=%{y}<extra></extra>\", \"legendgroup\": \"Dallas Cowboys\", \"line\": {\"color\": \"#ab63fa\", \"dash\": \"solid\"}, \"mode\": \"lines\", \"name\": \"Dallas Cowboys\", \"orientation\": \"v\", \"showlegend\": true, \"type\": \"scatter\", \"x\": [0, 1, 2, 3, 4, 5, 6, 7, 8, 9, 10, 11, 12, 13, 14, 15, 16, 17, 18, 19, 20, 21], \"xaxis\": \"x\", \"y\": [1.77, 1.77, 1.77, 1.77, 1.77, 1.77, 1.77, 1.77, 1.77, 1.77, 1.77, 1.77, 1.77, 1.77, 1.77, 1.77, 1.77, 1.77, 1.77, 1.77, 1.77, 1.77], \"yaxis\": \"y\"}, {\"hovertemplate\": \"team=Cincinnati Bengals<br>index=%{x}<br>value=%{y}<extra></extra>\", \"legendgroup\": \"Cincinnati Bengals\", \"line\": {\"color\": \"#FFA15A\", \"dash\": \"solid\"}, \"mode\": \"lines\", \"name\": \"Cincinnati Bengals\", \"orientation\": \"v\", \"showlegend\": true, \"type\": \"scatter\", \"x\": [0, 1, 2, 3, 4, 5, 6, 7, 8, 9, 10, 11, 12, 13, 14, 15, 16, 17, 18, 19, 20, 21], \"xaxis\": \"x\", \"y\": [7.3, 7.3, 7.3, 7.3, 7.3, 7.3, 7.3, 7.3, 7.3, 7.3, 7.3, 7.3, 7.3, 7.3, 7.3, 7.3, 7.3, 7.3, 7.3, 7.3, 7.3, 7.3], \"yaxis\": \"y\"}, {\"hovertemplate\": \"team=Tampa Bay Buccaneers<br>index=%{x}<br>value=%{y}<extra></extra>\", \"legendgroup\": \"Tampa Bay Buccaneers\", \"line\": {\"color\": \"#19d3f3\", \"dash\": \"solid\"}, \"mode\": \"lines\", \"name\": \"Tampa Bay Buccaneers\", \"orientation\": \"v\", \"showlegend\": true, \"type\": \"scatter\", \"x\": [0, 1, 2, 3, 4, 5, 6, 7, 8, 9, 10, 11, 12, 13, 14, 15, 16, 17, 18, 19, 20, 21], \"xaxis\": \"x\", \"y\": [1.3050000000000002, 1.3050000000000002, 1.3050000000000002, 1.3050000000000002, 1.3050000000000002, 1.3050000000000002, 1.3050000000000002, 1.3050000000000002, 1.3050000000000002, 1.3050000000000002, 1.3050000000000002, 1.3050000000000002, 1.3050000000000002, 1.3050000000000002, 1.3050000000000002, 1.3050000000000002, 1.3050000000000002, 1.3050000000000002, 1.3050000000000002, 1.3050000000000002, 1.3050000000000002, 1.3050000000000002], \"yaxis\": \"y\"}, {\"hovertemplate\": \"team=Carolina Panthers<br>index=%{x}<br>value=%{y}<extra></extra>\", \"legendgroup\": \"Carolina Panthers\", \"line\": {\"color\": \"#FF6692\", \"dash\": \"solid\"}, \"mode\": \"lines\", \"name\": \"Carolina Panthers\", \"orientation\": \"v\", \"showlegend\": true, \"type\": \"scatter\", \"x\": [0, 1, 2, 3, 4, 5, 6, 7, 8, 9, 10, 11, 12, 13, 14, 15, 16, 17, 18, 19, 20, 21], \"xaxis\": \"x\", \"y\": [3.0999999999999996, 3.0999999999999996, 3.0999999999999996, 3.0999999999999996, 3.0999999999999996, 3.0999999999999996, 3.0999999999999996, 3.0999999999999996, 3.0999999999999996, 3.0999999999999996, 3.0999999999999996, 3.0999999999999996, 3.0999999999999996, 3.0999999999999996, 3.0999999999999996, 3.0999999999999996, 3.0999999999999996, 3.0999999999999996, 3.0999999999999996, 3.0999999999999996, 3.0999999999999996, 3.0999999999999996], \"yaxis\": \"y\"}, {\"hovertemplate\": \"team=Tennessee Titans<br>index=%{x}<br>value=%{y}<extra></extra>\", \"legendgroup\": \"Tennessee Titans\", \"line\": {\"color\": \"#B6E880\", \"dash\": \"solid\"}, \"mode\": \"lines\", \"name\": \"Tennessee Titans\", \"orientation\": \"v\", \"showlegend\": true, \"type\": \"scatter\", \"x\": [0, 1, 2, 3, 4, 5, 6, 7, 8, 9, 10, 11, 12, 13, 14, 15, 16, 17, 18, 19, 20, 21], \"xaxis\": \"x\", \"y\": [1.3050000000000002, 1.3050000000000002, 1.3050000000000002, 1.3050000000000002, 1.3050000000000002, 1.3050000000000002, 1.3050000000000002, 1.31, 1.31, 1.31, 1.31, 1.31, 1.31, 1.31, 1.31, 1.31, 1.31, 1.31, 1.31, 1.31, 1.31, 1.31], \"yaxis\": \"y\"}, {\"hovertemplate\": \"team=Cleveland Browns<br>index=%{x}<br>value=%{y}<extra></extra>\", \"legendgroup\": \"Cleveland Browns\", \"line\": {\"color\": \"#FF97FF\", \"dash\": \"solid\"}, \"mode\": \"lines\", \"name\": \"Cleveland Browns\", \"orientation\": \"v\", \"showlegend\": true, \"type\": \"scatter\", \"x\": [0, 1, 2, 3, 4, 5, 6, 7, 8, 9, 10, 11, 12, 13, 14, 15, 16, 17, 18, 19, 20, 21], \"xaxis\": \"x\", \"y\": [1.205, 1.205, 1.205, 1.205, 1.205, 1.205, 1.205, 1.205, 1.205, 1.205, 1.205, 1.205, 1.205, 1.205, 1.205, 1.205, 1.205, 1.205, 1.205, 1.205, 1.205, 1.205], \"yaxis\": \"y\"}, {\"hovertemplate\": \"team=Houston Texans<br>index=%{x}<br>value=%{y}<extra></extra>\", \"legendgroup\": \"Houston Texans\", \"line\": {\"color\": \"#FECB52\", \"dash\": \"solid\"}, \"mode\": \"lines\", \"name\": \"Houston Texans\", \"orientation\": \"v\", \"showlegend\": true, \"type\": \"scatter\", \"x\": [0, 1, 2, 3, 4, 5, 6, 7, 8, 9, 10, 11, 12, 13, 14, 15, 16, 17, 18, 19, 20, 21], \"xaxis\": \"x\", \"y\": [3.75, 3.75, 3.75, 3.75, 3.75, 3.75, 3.75, 3.675, 3.675, 3.675, 3.675, 3.675, 3.675, 3.675, 3.675, 3.675, 3.675, 3.675, 3.675, 3.675, 3.675, 3.675], \"yaxis\": \"y\"}, {\"hovertemplate\": \"team=Los Angeles Rams<br>index=%{x}<br>value=%{y}<extra></extra>\", \"legendgroup\": \"Los Angeles Rams\", \"line\": {\"color\": \"#636efa\", \"dash\": \"solid\"}, \"mode\": \"lines\", \"name\": \"Los Angeles Rams\", \"orientation\": \"v\", \"showlegend\": true, \"type\": \"scatter\", \"x\": [0, 1, 2, 3, 4, 5, 6, 7, 8, 9, 10, 11, 12, 13, 14, 15, 16, 17, 18, 19, 20, 21], \"xaxis\": \"x\", \"y\": [1.975, 1.975, 1.975, 1.975, 1.975, 1.975, 1.975, 1.975, 1.975, 1.975, 1.975, 1.975, 1.975, 1.975, 1.975, 1.975, 1.975, 1.975, 1.975, 1.975, 1.975, 1.975], \"yaxis\": \"y\"}, {\"hovertemplate\": \"team=New England Patriots<br>index=%{x}<br>value=%{y}<extra></extra>\", \"legendgroup\": \"New England Patriots\", \"line\": {\"color\": \"#EF553B\", \"dash\": \"solid\"}, \"mode\": \"lines\", \"name\": \"New England Patriots\", \"orientation\": \"v\", \"showlegend\": true, \"type\": \"scatter\", \"x\": [0, 1, 2, 3, 4, 5, 6, 7, 8, 9, 10, 11, 12, 13, 14, 15, 16, 17, 18, 19, 20, 21], \"xaxis\": \"x\", \"y\": [1.6749999999999998, 1.6749999999999998, 1.6749999999999998, 1.6749999999999998, 1.6749999999999998, 1.6549999999999998, 1.6549999999999998, 1.6549999999999998, 1.6549999999999998, 1.6549999999999998, 1.6549999999999998, 1.6549999999999998, 1.6549999999999998, 1.6549999999999998, 1.6549999999999998, 1.6549999999999998, 1.6549999999999998, 1.6549999999999998, 1.635, 1.635, 1.635, 1.635], \"yaxis\": \"y\"}, {\"hovertemplate\": \"team=San Francisco 49ers<br>index=%{x}<br>value=%{y}<extra></extra>\", \"legendgroup\": \"San Francisco 49ers\", \"line\": {\"color\": \"#00cc96\", \"dash\": \"solid\"}, \"mode\": \"lines\", \"name\": \"San Francisco 49ers\", \"orientation\": \"v\", \"showlegend\": true, \"type\": \"scatter\", \"x\": [0, 1, 2, 3, 4, 5, 6, 7, 8, 9, 10, 11, 12, 13, 14, 15, 16, 17, 18, 19, 20, 21], \"xaxis\": \"x\", \"y\": [3.7750000000000004, 3.7750000000000004, 3.7750000000000004, 3.7750000000000004, 3.7750000000000004, 3.7750000000000004, 3.7750000000000004, 3.7750000000000004, 3.7750000000000004, 3.7750000000000004, 3.7750000000000004, 3.7750000000000004, 3.7750000000000004, 3.7750000000000004, 3.7750000000000004, 3.7750000000000004, 3.7750000000000004, 3.7750000000000004, 3.7750000000000004, 3.7750000000000004, 3.7750000000000004, 3.7750000000000004], \"yaxis\": \"y\"}, {\"hovertemplate\": \"team=New Orleans Saints<br>index=%{x}<br>value=%{y}<extra></extra>\", \"legendgroup\": \"New Orleans Saints\", \"line\": {\"color\": \"#ab63fa\", \"dash\": \"solid\"}, \"mode\": \"lines\", \"name\": \"New Orleans Saints\", \"orientation\": \"v\", \"showlegend\": true, \"type\": \"scatter\", \"x\": [0, 1, 2, 3, 4, 5, 6, 7, 8, 9, 10, 11, 12, 13, 14, 15, 16, 17, 18, 19, 20, 21], \"xaxis\": \"x\", \"y\": [1.4, 1.4, 1.4, 1.4, 1.4, 1.4, 1.4, 1.4, 1.4, 1.4, 1.4, 1.4, 1.4, 1.4, 1.4, 1.4, 1.4, 1.4, 1.4, 1.4, 1.4, 1.4], \"yaxis\": \"y\"}, {\"hovertemplate\": \"team=Chicago Bears<br>index=%{x}<br>value=%{y}<extra></extra>\", \"legendgroup\": \"Chicago Bears\", \"line\": {\"color\": \"#FFA15A\", \"dash\": \"solid\"}, \"mode\": \"lines\", \"name\": \"Chicago Bears\", \"orientation\": \"v\", \"showlegend\": true, \"type\": \"scatter\", \"x\": [0, 1, 2, 3, 4, 5, 6, 7, 8, 9, 10, 11, 12, 13, 14, 15, 16, 17, 18, 19, 20, 21], \"xaxis\": \"x\", \"y\": [2.8899999999999997, 2.8899999999999997, 2.8899999999999997, 2.8899999999999997, 2.8899999999999997, 2.8899999999999997, 2.8899999999999997, 2.8899999999999997, 2.8899999999999997, 2.8899999999999997, 2.94, 2.94, 2.915, 2.915, 2.915, 2.915, 2.915, 2.915, 2.915, 2.915, 2.915, 2.915], \"yaxis\": \"y\"}, {\"hovertemplate\": \"team=Washington Football Team<br>index=%{x}<br>value=%{y}<extra></extra>\", \"legendgroup\": \"Washington Football Team\", \"line\": {\"color\": \"#19d3f3\", \"dash\": \"solid\"}, \"mode\": \"lines\", \"name\": \"Washington Football Team\", \"orientation\": \"v\", \"showlegend\": true, \"type\": \"scatter\", \"x\": [0, 1, 2, 3, 4, 5, 6, 7, 8, 9, 10, 11, 12, 13, 14, 15, 16, 17, 18, 19, 20, 21], \"xaxis\": \"x\", \"y\": [1.38, 1.38, 1.38, 1.38, 1.38, 1.38, 1.38, 1.38, 1.38, 1.38, 1.38, 1.38, 1.38, 1.38, 1.38, 1.355, 1.355, 1.355, 1.355, 1.355, 1.355, 1.355], \"yaxis\": \"y\"}, {\"hovertemplate\": \"team=Pittsburgh Steelers<br>index=%{x}<br>value=%{y}<extra></extra>\", \"legendgroup\": \"Pittsburgh Steelers\", \"line\": {\"color\": \"#FF6692\", \"dash\": \"solid\"}, \"mode\": \"lines\", \"name\": \"Pittsburgh Steelers\", \"orientation\": \"v\", \"showlegend\": true, \"type\": \"scatter\", \"x\": [0, 1, 2, 3, 4, 5, 6, 7, 8, 9, 10, 11, 12, 13, 14, 15, 16, 17, 18, 19, 20, 21], \"xaxis\": \"x\", \"y\": [4.824999999999999, 4.824999999999999, 4.824999999999999, 4.824999999999999, 4.824999999999999, 4.824999999999999, 4.824999999999999, 4.824999999999999, 4.824999999999999, 4.824999999999999, 4.824999999999999, 4.824999999999999, 4.824999999999999, 4.824999999999999, 4.824999999999999, 4.824999999999999, 4.824999999999999, 4.824999999999999, 4.824999999999999, 4.824999999999999, 4.824999999999999, 4.824999999999999], \"yaxis\": \"y\"}, {\"hovertemplate\": \"team=Denver Broncos<br>index=%{x}<br>value=%{y}<extra></extra>\", \"legendgroup\": \"Denver Broncos\", \"line\": {\"color\": \"#B6E880\", \"dash\": \"solid\"}, \"mode\": \"lines\", \"name\": \"Denver Broncos\", \"orientation\": \"v\", \"showlegend\": true, \"type\": \"scatter\", \"x\": [0, 1, 2, 3, 4, 5, 6, 7, 8, 9, 10, 11, 12, 13, 14, 15, 16, 17, 18, 19, 20, 21], \"xaxis\": \"x\", \"y\": [2.245, 2.245, 2.245, 2.245, 2.245, 2.245, 2.245, 2.245, 2.245, 2.245, 2.245, 2.245, 2.245, 2.245, 2.245, 2.245, 2.245, 2.245, 2.245, 2.245, 2.245, 2.245], \"yaxis\": \"y\"}, {\"hovertemplate\": \"team=Detroit Lions<br>index=%{x}<br>value=%{y}<extra></extra>\", \"legendgroup\": \"Detroit Lions\", \"line\": {\"color\": \"#FF97FF\", \"dash\": \"solid\"}, \"mode\": \"lines\", \"name\": \"Detroit Lions\", \"orientation\": \"v\", \"showlegend\": true, \"type\": \"scatter\", \"x\": [0, 1, 2, 3, 4, 5, 6, 7, 8, 9, 10, 11, 12, 13, 14, 15, 16, 17, 18, 19, 20, 21], \"xaxis\": \"x\", \"y\": [2.425, 2.425, 2.425, 2.425, 2.425, 2.425, 2.425, 2.425, 2.425, 2.425, 2.425, 2.425, 2.425, 2.425, 2.425, 2.425, 2.425, 2.425, 2.425, 2.425, 2.425, 2.425], \"yaxis\": \"y\"}, {\"hovertemplate\": \"team=Jacksonville Jaguars<br>index=%{x}<br>value=%{y}<extra></extra>\", \"legendgroup\": \"Jacksonville Jaguars\", \"line\": {\"color\": \"#FECB52\", \"dash\": \"solid\"}, \"mode\": \"lines\", \"name\": \"Jacksonville Jaguars\", \"orientation\": \"v\", \"showlegend\": true, \"type\": \"scatter\", \"x\": [0, 1, 2, 3, 4, 5, 6, 7, 8, 9, 10, 11, 12, 13, 14, 15, 16, 17, 18, 19, 20, 21], \"xaxis\": \"x\", \"y\": [9.35, 9.35, 9.35, 9.35, 9.35, 9.35, 9.35, 9.35, 9.35, 9.35, 9.35, 9.35, 9.35, 9.35, 9.35, 9.35, 9.35, 9.35, 9.35, 9.35, 9.35, 9.35], \"yaxis\": \"y\"}, {\"hovertemplate\": \"team=New York Jets<br>index=%{x}<br>value=%{y}<extra></extra>\", \"legendgroup\": \"New York Jets\", \"line\": {\"color\": \"#636efa\", \"dash\": \"solid\"}, \"mode\": \"lines\", \"name\": \"New York Jets\", \"orientation\": \"v\", \"showlegend\": true, \"type\": \"scatter\", \"x\": [0, 1, 2, 3, 4, 5, 6, 7, 8, 9, 10, 11, 12, 13, 14, 15, 16, 17, 18, 19, 20, 21], \"xaxis\": \"x\", \"y\": [2.27, 2.27, 2.27, 2.27, 2.27, 2.3099999999999996, 2.3099999999999996, 2.3099999999999996, 2.3099999999999996, 2.3099999999999996, 2.3099999999999996, 2.3099999999999996, 2.3099999999999996, 2.3099999999999996, 2.3099999999999996, 2.3099999999999996, 2.3099999999999996, 2.3099999999999996, 2.3499999999999996, 2.3499999999999996, 2.3499999999999996, 2.3499999999999996], \"yaxis\": \"y\"}, {\"hovertemplate\": \"team=Las Vegas Raiders<br>index=%{x}<br>value=%{y}<extra></extra>\", \"legendgroup\": \"Las Vegas Raiders\", \"line\": {\"color\": \"#EF553B\", \"dash\": \"solid\"}, \"mode\": \"lines\", \"name\": \"Las Vegas Raiders\", \"orientation\": \"v\", \"showlegend\": true, \"type\": \"scatter\", \"x\": [0, 1, 2, 3, 4, 5, 6, 7, 8, 9, 10, 11, 12, 13, 14, 15, 16, 17, 18, 19, 20, 21], \"xaxis\": \"x\", \"y\": [1.69, 1.69, 1.69, 1.69, 1.69, 1.69, 1.69, 1.69, 1.69, 1.69, 1.69, 1.69, 1.69, 1.69, 1.69, 1.69, 1.69, 1.69, 1.69, 1.69, 1.69, 1.69], \"yaxis\": \"y\"}, {\"hovertemplate\": \"team=Philadelphia Eagles<br>index=%{x}<br>value=%{y}<extra></extra>\", \"legendgroup\": \"Philadelphia Eagles\", \"line\": {\"color\": \"#00cc96\", \"dash\": \"solid\"}, \"mode\": \"lines\", \"name\": \"Philadelphia Eagles\", \"orientation\": \"v\", \"showlegend\": true, \"type\": \"scatter\", \"x\": [0, 1, 2, 3, 4, 5, 6, 7, 8, 9, 10, 11, 12, 13, 14, 15, 16, 17, 18, 19, 20, 21], \"xaxis\": \"x\", \"y\": [3.2, 3.2, 3.2, 3.2, 3.2, 3.2, 3.2, 3.2, 3.2, 3.2, 3.2, 3.2, 3.2, 3.2, 3.2, 3.325, 3.325, 3.325, 3.325, 3.325, 3.325, 3.325], \"yaxis\": \"y\"}, {\"hovertemplate\": \"team=Minnesota Vikings<br>index=%{x}<br>value=%{y}<extra></extra>\", \"legendgroup\": \"Minnesota Vikings\", \"line\": {\"color\": \"#ab63fa\", \"dash\": \"solid\"}, \"mode\": \"lines\", \"name\": \"Minnesota Vikings\", \"orientation\": \"v\", \"showlegend\": true, \"type\": \"scatter\", \"x\": [0, 1, 2, 3, 4, 5, 6, 7, 8, 9, 10, 11, 12, 13, 14, 15, 16, 17, 18, 19, 20, 21], \"xaxis\": \"x\", \"y\": [1.6, 1.6, 1.6, 1.6, 1.6, 1.6, 1.6, 1.6, 1.6, 1.6, 1.6, 1.6, 1.6, 1.6, 1.6, 1.6, 1.6, 1.6, 1.6, 1.6, 1.6, 1.6], \"yaxis\": \"y\"}, {\"hovertemplate\": \"team=Arizona Cardinals<br>index=%{x}<br>value=%{y}<extra></extra>\", \"legendgroup\": \"Arizona Cardinals\", \"line\": {\"color\": \"#FFA15A\", \"dash\": \"solid\"}, \"mode\": \"lines\", \"name\": \"Arizona Cardinals\", \"orientation\": \"v\", \"showlegend\": true, \"type\": \"scatter\", \"x\": [0, 1, 2, 3, 4, 5, 6, 7, 8, 9, 10, 11, 12, 13, 14, 15, 16, 17, 18, 19, 20, 21], \"xaxis\": \"x\", \"y\": [1.87, 1.87, 1.87, 1.87, 1.87, 1.87, 1.87, 1.87, 1.87, 1.87, 1.87, 1.87, 1.87, 1.87, 1.87, 1.87, 1.87, 1.87, 1.87, 1.87, 1.87, 1.87], \"yaxis\": \"y\"}, {\"hovertemplate\": \"team=Green Bay Packers<br>index=%{x}<br>value=%{y}<extra></extra>\", \"legendgroup\": \"Green Bay Packers\", \"line\": {\"color\": \"#19d3f3\", \"dash\": \"solid\"}, \"mode\": \"lines\", \"name\": \"Green Bay Packers\", \"orientation\": \"v\", \"showlegend\": true, \"type\": \"scatter\", \"x\": [0, 1, 2, 3, 4, 5, 6, 7, 8, 9, 10, 11, 12, 13, 14, 15, 16, 17, 18, 19, 20, 21], \"xaxis\": \"x\", \"y\": [1.44, 1.44, 1.44, 1.44, 1.44, 1.44, 1.44, 1.44, 1.44, 1.44, 1.435, 1.435, 1.435, 1.435, 1.435, 1.435, 1.435, 1.435, 1.435, 1.435, 1.435, 1.435], \"yaxis\": \"y\"}, {\"hovertemplate\": \"team=Indianapolis Colts<br>index=%{x}<br>value=%{y}<extra></extra>\", \"legendgroup\": \"Indianapolis Colts\", \"line\": {\"color\": \"#FF6692\", \"dash\": \"solid\"}, \"mode\": \"lines\", \"name\": \"Indianapolis Colts\", \"orientation\": \"v\", \"showlegend\": true, \"type\": \"scatter\", \"x\": [0, 1, 2, 3, 4, 5, 6, 7, 8, 9, 10, 11, 12, 13, 14, 15, 16, 17, 18, 19, 20, 21], \"xaxis\": \"x\", \"y\": [1.0750000000000002, 1.0750000000000002, 1.0750000000000002, 1.0750000000000002, 1.0750000000000002, 1.0750000000000002, 1.0750000000000002, 1.0750000000000002, 1.0750000000000002, 1.0750000000000002, 1.0750000000000002, 1.0750000000000002, 1.0750000000000002, 1.0750000000000002, 1.0750000000000002, 1.0750000000000002, 1.0750000000000002, 1.0750000000000002, 1.0750000000000002, 1.0750000000000002, 1.0750000000000002, 1.0750000000000002], \"yaxis\": \"y\"}, {\"hovertemplate\": \"team=Seattle Seahawks<br>index=%{x}<br>value=%{y}<extra></extra>\", \"legendgroup\": \"Seattle Seahawks\", \"line\": {\"color\": \"#B6E880\", \"dash\": \"solid\"}, \"mode\": \"lines\", \"name\": \"Seattle Seahawks\", \"orientation\": \"v\", \"showlegend\": true, \"type\": \"scatter\", \"x\": [0, 1, 2, 3, 4, 5, 6, 7, 8, 9, 10, 11, 12, 13, 14, 15, 16, 17, 18, 19, 20, 21], \"xaxis\": \"x\", \"y\": [1.29, 1.29, 1.29, 1.29, 1.29, 1.29, 1.29, 1.29, 1.29, 1.29, 1.29, 1.29, 1.29, 1.29, 1.29, 1.29, 1.29, 1.29, 1.29, 1.29, 1.29, 1.29], \"yaxis\": \"y\"}, {\"hovertemplate\": \"team=Miami Dolphins<br>index=%{x}<br>value=%{y}<extra></extra>\", \"legendgroup\": \"Miami Dolphins\", \"line\": {\"color\": \"#FF97FF\", \"dash\": \"solid\"}, \"mode\": \"lines\", \"name\": \"Miami Dolphins\", \"orientation\": \"v\", \"showlegend\": true, \"type\": \"scatter\", \"x\": [0, 1, 2, 3, 4, 5, 6, 7, 8, 9, 10, 11, 12, 13, 14, 15, 16, 17, 18, 19, 20, 21], \"xaxis\": \"x\", \"y\": [1.51, 1.505, 1.505, 1.505, 1.505, 1.505, 1.52, 1.52, 1.55, 1.5550000000000002, 1.5550000000000002, 1.5550000000000002, 1.5550000000000002, 1.5550000000000002, 1.5550000000000002, 1.5550000000000002, 1.5550000000000002, 1.5550000000000002, 1.5550000000000002, 1.5550000000000002, 1.5550000000000002, 1.5550000000000002], \"yaxis\": \"y\"}, {\"hovertemplate\": \"team=Buffalo Bills<br>index=%{x}<br>value=%{y}<extra></extra>\", \"legendgroup\": \"Buffalo Bills\", \"line\": {\"color\": \"#FECB52\", \"dash\": \"solid\"}, \"mode\": \"lines\", \"name\": \"Buffalo Bills\", \"orientation\": \"v\", \"showlegend\": true, \"type\": \"scatter\", \"x\": [0, 1, 2, 3, 4, 5, 6, 7, 8, 9, 10, 11, 12, 13, 14, 15, 16, 17, 18, 19, 20, 21], \"xaxis\": \"x\", \"y\": [2.645, 2.675, 2.675, 2.675, 2.675, 2.675, 2.625, 2.625, 2.55, 2.52, 2.52, 2.52, 2.52, 2.52, 2.52, 2.52, 2.52, 2.52, 2.52, 2.52, 2.52, 2.52], \"yaxis\": \"y\"}, {\"hovertemplate\": \"team=Kansas City Chiefs<br>index=%{x}<br>value=%{y}<extra></extra>\", \"legendgroup\": \"Kansas City Chiefs\", \"line\": {\"color\": \"#636efa\", \"dash\": \"solid\"}, \"mode\": \"lines\", \"name\": \"Kansas City Chiefs\", \"orientation\": \"v\", \"showlegend\": true, \"type\": \"scatter\", \"x\": [0, 1, 2, 3, 4, 5, 6, 7, 8, 9, 10, 11, 12, 13, 14, 15, 16, 17, 18, 19, 20, 21], \"xaxis\": \"x\", \"y\": [3.15, 3.225, 3.225, 3.25, 3.25, 3.25, 3.25, 3.25, 3.25, 3.25, 3.25, 3.25, 3.25, 3.25, 3.25, 3.475, 3.475, 3.475, 3.475, 3.475, 3.475, 3.475], \"yaxis\": \"y\"}, {\"hovertemplate\": \"team=Los Angeles Chargers<br>index=%{x}<br>value=%{y}<extra></extra>\", \"legendgroup\": \"Los Angeles Chargers\", \"line\": {\"color\": \"#EF553B\", \"dash\": \"solid\"}, \"mode\": \"lines\", \"name\": \"Los Angeles Chargers\", \"orientation\": \"v\", \"showlegend\": true, \"type\": \"scatter\", \"x\": [0, 1, 2, 3, 4, 5, 6, 7, 8, 9, 10, 11, 12, 13, 14, 15, 16, 17, 18, 19, 20, 21], \"xaxis\": \"x\", \"y\": [1.38, 1.3650000000000002, 1.3650000000000002, 1.36, 1.36, 1.36, 1.36, 1.36, 1.36, 1.36, 1.36, 1.36, 1.36, 1.36, 1.36, 1.33, 1.33, 1.33, 1.33, 1.33, 1.33, 1.33], \"yaxis\": \"y\"}],                        {\"legend\": {\"title\": {\"text\": \"team\"}, \"tracegroupgap\": 0}, \"margin\": {\"t\": 60}, \"template\": {\"data\": {\"bar\": [{\"error_x\": {\"color\": \"#2a3f5f\"}, \"error_y\": {\"color\": \"#2a3f5f\"}, \"marker\": {\"line\": {\"color\": \"#E5ECF6\", \"width\": 0.5}}, \"type\": \"bar\"}], \"barpolar\": [{\"marker\": {\"line\": {\"color\": \"#E5ECF6\", \"width\": 0.5}}, \"type\": \"barpolar\"}], \"carpet\": [{\"aaxis\": {\"endlinecolor\": \"#2a3f5f\", \"gridcolor\": \"white\", \"linecolor\": \"white\", \"minorgridcolor\": \"white\", \"startlinecolor\": \"#2a3f5f\"}, \"baxis\": {\"endlinecolor\": \"#2a3f5f\", \"gridcolor\": \"white\", \"linecolor\": \"white\", \"minorgridcolor\": \"white\", \"startlinecolor\": \"#2a3f5f\"}, \"type\": \"carpet\"}], \"choropleth\": [{\"colorbar\": {\"outlinewidth\": 0, \"ticks\": \"\"}, \"type\": \"choropleth\"}], \"contour\": [{\"colorbar\": {\"outlinewidth\": 0, \"ticks\": \"\"}, \"colorscale\": [[0.0, \"#0d0887\"], [0.1111111111111111, \"#46039f\"], [0.2222222222222222, \"#7201a8\"], [0.3333333333333333, \"#9c179e\"], [0.4444444444444444, \"#bd3786\"], [0.5555555555555556, \"#d8576b\"], [0.6666666666666666, \"#ed7953\"], [0.7777777777777778, \"#fb9f3a\"], [0.8888888888888888, \"#fdca26\"], [1.0, \"#f0f921\"]], \"type\": \"contour\"}], \"contourcarpet\": [{\"colorbar\": {\"outlinewidth\": 0, \"ticks\": \"\"}, \"type\": \"contourcarpet\"}], \"heatmap\": [{\"colorbar\": {\"outlinewidth\": 0, \"ticks\": \"\"}, \"colorscale\": [[0.0, \"#0d0887\"], [0.1111111111111111, \"#46039f\"], [0.2222222222222222, \"#7201a8\"], [0.3333333333333333, \"#9c179e\"], [0.4444444444444444, \"#bd3786\"], [0.5555555555555556, \"#d8576b\"], [0.6666666666666666, \"#ed7953\"], [0.7777777777777778, \"#fb9f3a\"], [0.8888888888888888, \"#fdca26\"], [1.0, \"#f0f921\"]], \"type\": \"heatmap\"}], \"heatmapgl\": [{\"colorbar\": {\"outlinewidth\": 0, \"ticks\": \"\"}, \"colorscale\": [[0.0, \"#0d0887\"], [0.1111111111111111, \"#46039f\"], [0.2222222222222222, \"#7201a8\"], [0.3333333333333333, \"#9c179e\"], [0.4444444444444444, \"#bd3786\"], [0.5555555555555556, \"#d8576b\"], [0.6666666666666666, \"#ed7953\"], [0.7777777777777778, \"#fb9f3a\"], [0.8888888888888888, \"#fdca26\"], [1.0, \"#f0f921\"]], \"type\": \"heatmapgl\"}], \"histogram\": [{\"marker\": {\"colorbar\": {\"outlinewidth\": 0, \"ticks\": \"\"}}, \"type\": \"histogram\"}], \"histogram2d\": [{\"colorbar\": {\"outlinewidth\": 0, \"ticks\": \"\"}, \"colorscale\": [[0.0, \"#0d0887\"], [0.1111111111111111, \"#46039f\"], [0.2222222222222222, \"#7201a8\"], [0.3333333333333333, \"#9c179e\"], [0.4444444444444444, \"#bd3786\"], [0.5555555555555556, \"#d8576b\"], [0.6666666666666666, \"#ed7953\"], [0.7777777777777778, \"#fb9f3a\"], [0.8888888888888888, \"#fdca26\"], [1.0, \"#f0f921\"]], \"type\": \"histogram2d\"}], \"histogram2dcontour\": [{\"colorbar\": {\"outlinewidth\": 0, \"ticks\": \"\"}, \"colorscale\": [[0.0, \"#0d0887\"], [0.1111111111111111, \"#46039f\"], [0.2222222222222222, \"#7201a8\"], [0.3333333333333333, \"#9c179e\"], [0.4444444444444444, \"#bd3786\"], [0.5555555555555556, \"#d8576b\"], [0.6666666666666666, \"#ed7953\"], [0.7777777777777778, \"#fb9f3a\"], [0.8888888888888888, \"#fdca26\"], [1.0, \"#f0f921\"]], \"type\": \"histogram2dcontour\"}], \"mesh3d\": [{\"colorbar\": {\"outlinewidth\": 0, \"ticks\": \"\"}, \"type\": \"mesh3d\"}], \"parcoords\": [{\"line\": {\"colorbar\": {\"outlinewidth\": 0, \"ticks\": \"\"}}, \"type\": \"parcoords\"}], \"pie\": [{\"automargin\": true, \"type\": \"pie\"}], \"scatter\": [{\"marker\": {\"colorbar\": {\"outlinewidth\": 0, \"ticks\": \"\"}}, \"type\": \"scatter\"}], \"scatter3d\": [{\"line\": {\"colorbar\": {\"outlinewidth\": 0, \"ticks\": \"\"}}, \"marker\": {\"colorbar\": {\"outlinewidth\": 0, \"ticks\": \"\"}}, \"type\": \"scatter3d\"}], \"scattercarpet\": [{\"marker\": {\"colorbar\": {\"outlinewidth\": 0, \"ticks\": \"\"}}, \"type\": \"scattercarpet\"}], \"scattergeo\": [{\"marker\": {\"colorbar\": {\"outlinewidth\": 0, \"ticks\": \"\"}}, \"type\": \"scattergeo\"}], \"scattergl\": [{\"marker\": {\"colorbar\": {\"outlinewidth\": 0, \"ticks\": \"\"}}, \"type\": \"scattergl\"}], \"scattermapbox\": [{\"marker\": {\"colorbar\": {\"outlinewidth\": 0, \"ticks\": \"\"}}, \"type\": \"scattermapbox\"}], \"scatterpolar\": [{\"marker\": {\"colorbar\": {\"outlinewidth\": 0, \"ticks\": \"\"}}, \"type\": \"scatterpolar\"}], \"scatterpolargl\": [{\"marker\": {\"colorbar\": {\"outlinewidth\": 0, \"ticks\": \"\"}}, \"type\": \"scatterpolargl\"}], \"scatterternary\": [{\"marker\": {\"colorbar\": {\"outlinewidth\": 0, \"ticks\": \"\"}}, \"type\": \"scatterternary\"}], \"surface\": [{\"colorbar\": {\"outlinewidth\": 0, \"ticks\": \"\"}, \"colorscale\": [[0.0, \"#0d0887\"], [0.1111111111111111, \"#46039f\"], [0.2222222222222222, \"#7201a8\"], [0.3333333333333333, \"#9c179e\"], [0.4444444444444444, \"#bd3786\"], [0.5555555555555556, \"#d8576b\"], [0.6666666666666666, \"#ed7953\"], [0.7777777777777778, \"#fb9f3a\"], [0.8888888888888888, \"#fdca26\"], [1.0, \"#f0f921\"]], \"type\": \"surface\"}], \"table\": [{\"cells\": {\"fill\": {\"color\": \"#EBF0F8\"}, \"line\": {\"color\": \"white\"}}, \"header\": {\"fill\": {\"color\": \"#C8D4E3\"}, \"line\": {\"color\": \"white\"}}, \"type\": \"table\"}]}, \"layout\": {\"annotationdefaults\": {\"arrowcolor\": \"#2a3f5f\", \"arrowhead\": 0, \"arrowwidth\": 1}, \"autotypenumbers\": \"strict\", \"coloraxis\": {\"colorbar\": {\"outlinewidth\": 0, \"ticks\": \"\"}}, \"colorscale\": {\"diverging\": [[0, \"#8e0152\"], [0.1, \"#c51b7d\"], [0.2, \"#de77ae\"], [0.3, \"#f1b6da\"], [0.4, \"#fde0ef\"], [0.5, \"#f7f7f7\"], [0.6, \"#e6f5d0\"], [0.7, \"#b8e186\"], [0.8, \"#7fbc41\"], [0.9, \"#4d9221\"], [1, \"#276419\"]], \"sequential\": [[0.0, \"#0d0887\"], [0.1111111111111111, \"#46039f\"], [0.2222222222222222, \"#7201a8\"], [0.3333333333333333, \"#9c179e\"], [0.4444444444444444, \"#bd3786\"], [0.5555555555555556, \"#d8576b\"], [0.6666666666666666, \"#ed7953\"], [0.7777777777777778, \"#fb9f3a\"], [0.8888888888888888, \"#fdca26\"], [1.0, \"#f0f921\"]], \"sequentialminus\": [[0.0, \"#0d0887\"], [0.1111111111111111, \"#46039f\"], [0.2222222222222222, \"#7201a8\"], [0.3333333333333333, \"#9c179e\"], [0.4444444444444444, \"#bd3786\"], [0.5555555555555556, \"#d8576b\"], [0.6666666666666666, \"#ed7953\"], [0.7777777777777778, \"#fb9f3a\"], [0.8888888888888888, \"#fdca26\"], [1.0, \"#f0f921\"]]}, \"colorway\": [\"#636efa\", \"#EF553B\", \"#00cc96\", \"#ab63fa\", \"#FFA15A\", \"#19d3f3\", \"#FF6692\", \"#B6E880\", \"#FF97FF\", \"#FECB52\"], \"font\": {\"color\": \"#2a3f5f\"}, \"geo\": {\"bgcolor\": \"white\", \"lakecolor\": \"white\", \"landcolor\": \"#E5ECF6\", \"showlakes\": true, \"showland\": true, \"subunitcolor\": \"white\"}, \"hoverlabel\": {\"align\": \"left\"}, \"hovermode\": \"closest\", \"mapbox\": {\"style\": \"light\"}, \"paper_bgcolor\": \"white\", \"plot_bgcolor\": \"#E5ECF6\", \"polar\": {\"angularaxis\": {\"gridcolor\": \"white\", \"linecolor\": \"white\", \"ticks\": \"\"}, \"bgcolor\": \"#E5ECF6\", \"radialaxis\": {\"gridcolor\": \"white\", \"linecolor\": \"white\", \"ticks\": \"\"}}, \"scene\": {\"xaxis\": {\"backgroundcolor\": \"#E5ECF6\", \"gridcolor\": \"white\", \"gridwidth\": 2, \"linecolor\": \"white\", \"showbackground\": true, \"ticks\": \"\", \"zerolinecolor\": \"white\"}, \"yaxis\": {\"backgroundcolor\": \"#E5ECF6\", \"gridcolor\": \"white\", \"gridwidth\": 2, \"linecolor\": \"white\", \"showbackground\": true, \"ticks\": \"\", \"zerolinecolor\": \"white\"}, \"zaxis\": {\"backgroundcolor\": \"#E5ECF6\", \"gridcolor\": \"white\", \"gridwidth\": 2, \"linecolor\": \"white\", \"showbackground\": true, \"ticks\": \"\", \"zerolinecolor\": \"white\"}}, \"shapedefaults\": {\"line\": {\"color\": \"#2a3f5f\"}}, \"ternary\": {\"aaxis\": {\"gridcolor\": \"white\", \"linecolor\": \"white\", \"ticks\": \"\"}, \"baxis\": {\"gridcolor\": \"white\", \"linecolor\": \"white\", \"ticks\": \"\"}, \"bgcolor\": \"#E5ECF6\", \"caxis\": {\"gridcolor\": \"white\", \"linecolor\": \"white\", \"ticks\": \"\"}}, \"title\": {\"x\": 0.05}, \"xaxis\": {\"automargin\": true, \"gridcolor\": \"white\", \"linecolor\": \"white\", \"ticks\": \"\", \"title\": {\"standoff\": 15}, \"zerolinecolor\": \"white\", \"zerolinewidth\": 2}, \"yaxis\": {\"automargin\": true, \"gridcolor\": \"white\", \"linecolor\": \"white\", \"ticks\": \"\", \"title\": {\"standoff\": 15}, \"zerolinecolor\": \"white\", \"zerolinewidth\": 2}}}, \"xaxis\": {\"anchor\": \"y\", \"domain\": [0.0, 1.0], \"title\": {\"text\": \"index\"}}, \"yaxis\": {\"anchor\": \"x\", \"domain\": [0.0, 1.0], \"title\": {\"text\": \"value\"}}},                        {\"responsive\": true}                    ).then(function(){\n",
       "                            \n",
       "var gd = document.getElementById('24e847da-66aa-413c-ba7a-35cc8f6b8833');\n",
       "var x = new MutationObserver(function (mutations, observer) {{\n",
       "        var display = window.getComputedStyle(gd).display;\n",
       "        if (!display || display === 'none') {{\n",
       "            console.log([gd, 'removed!']);\n",
       "            Plotly.purge(gd);\n",
       "            observer.disconnect();\n",
       "        }}\n",
       "}});\n",
       "\n",
       "// Listen for the removal of the full notebook cells\n",
       "var notebookContainer = gd.closest('#notebook-container');\n",
       "if (notebookContainer) {{\n",
       "    x.observe(notebookContainer, {childList: true});\n",
       "}}\n",
       "\n",
       "// Listen for the clearing of the current output cell\n",
       "var outputEl = gd.closest('.output');\n",
       "if (outputEl) {{\n",
       "    x.observe(outputEl, {childList: true});\n",
       "}}\n",
       "\n",
       "                        })                };                });            </script>        </div>"
      ]
     },
     "metadata": {},
     "output_type": "display_data"
    }
   ],
   "source": [
    "px.line(info.reset_index()[teams])"
   ]
  },
  {
   "cell_type": "code",
   "execution_count": 42,
   "metadata": {},
   "outputs": [],
   "source": [
    "time = [\"%s:%02d\" % item for item in info.index.tolist()]\n",
    "info['time'] = time\n",
    "info = info.set_index('time')"
   ]
  },
  {
   "cell_type": "code",
   "execution_count": 43,
   "metadata": {},
   "outputs": [
    {
     "data": {
      "application/vnd.plotly.v1+json": {
       "config": {
        "plotlyServerURL": "https://plot.ly"
       },
       "data": [
        {
         "hovertemplate": "team=Arizona Cardinals<br>time=%{x}<br>value=%{y}<extra></extra>",
         "legendgroup": "Arizona Cardinals",
         "line": {
          "color": "#636efa",
          "dash": "solid"
         },
         "mode": "lines",
         "name": "Arizona Cardinals",
         "orientation": "v",
         "showlegend": true,
         "type": "scatter",
         "x": [
          "12:16",
          "12:17",
          "12:18",
          "12:19",
          "12:20",
          "12:21",
          "12:22",
          "12:23",
          "12:24",
          "12:25",
          "12:26",
          "12:27",
          "12:28",
          "12:29",
          "12:30",
          "12:31",
          "12:32",
          "12:33",
          "12:34",
          "12:35",
          "12:36",
          "12:37"
         ],
         "xaxis": "x",
         "y": [
          1.87,
          1.87,
          1.87,
          1.87,
          1.87,
          1.87,
          1.87,
          1.87,
          1.87,
          1.87,
          1.87,
          1.87,
          1.87,
          1.87,
          1.87,
          1.87,
          1.87,
          1.87,
          1.87,
          1.87,
          1.87,
          1.87
         ],
         "yaxis": "y"
        },
        {
         "hovertemplate": "team=Atlanta Falcons<br>time=%{x}<br>value=%{y}<extra></extra>",
         "legendgroup": "Atlanta Falcons",
         "line": {
          "color": "#EF553B",
          "dash": "solid"
         },
         "mode": "lines",
         "name": "Atlanta Falcons",
         "orientation": "v",
         "showlegend": true,
         "type": "scatter",
         "x": [
          "12:16",
          "12:17",
          "12:18",
          "12:19",
          "12:20",
          "12:21",
          "12:22",
          "12:23",
          "12:24",
          "12:25",
          "12:26",
          "12:27",
          "12:28",
          "12:29",
          "12:30",
          "12:31",
          "12:32",
          "12:33",
          "12:34",
          "12:35",
          "12:36",
          "12:37"
         ],
         "xaxis": "x",
         "y": [
          3.675,
          3.675,
          3.675,
          3.675,
          3.675,
          3.675,
          3.675,
          3.675,
          3.675,
          3.675,
          3.675,
          3.675,
          3.675,
          3.675,
          3.675,
          3.675,
          3.675,
          3.675,
          3.675,
          3.675,
          3.675,
          3.675
         ],
         "yaxis": "y"
        },
        {
         "hovertemplate": "team=Baltimore Ravens<br>time=%{x}<br>value=%{y}<extra></extra>",
         "legendgroup": "Baltimore Ravens",
         "line": {
          "color": "#00cc96",
          "dash": "solid"
         },
         "mode": "lines",
         "name": "Baltimore Ravens",
         "orientation": "v",
         "showlegend": true,
         "type": "scatter",
         "x": [
          "12:16",
          "12:17",
          "12:18",
          "12:19",
          "12:20",
          "12:21",
          "12:22",
          "12:23",
          "12:24",
          "12:25",
          "12:26",
          "12:27",
          "12:28",
          "12:29",
          "12:30",
          "12:31",
          "12:32",
          "12:33",
          "12:34",
          "12:35",
          "12:36",
          "12:37"
         ],
         "xaxis": "x",
         "y": [
          1.11,
          1.11,
          1.11,
          1.11,
          1.11,
          1.11,
          1.11,
          1.11,
          1.11,
          1.11,
          1.11,
          1.11,
          1.11,
          1.11,
          1.11,
          1.11,
          1.11,
          1.11,
          1.11,
          1.11,
          1.11,
          1.11
         ],
         "yaxis": "y"
        },
        {
         "hovertemplate": "team=Buffalo Bills<br>time=%{x}<br>value=%{y}<extra></extra>",
         "legendgroup": "Buffalo Bills",
         "line": {
          "color": "#ab63fa",
          "dash": "solid"
         },
         "mode": "lines",
         "name": "Buffalo Bills",
         "orientation": "v",
         "showlegend": true,
         "type": "scatter",
         "x": [
          "12:16",
          "12:17",
          "12:18",
          "12:19",
          "12:20",
          "12:21",
          "12:22",
          "12:23",
          "12:24",
          "12:25",
          "12:26",
          "12:27",
          "12:28",
          "12:29",
          "12:30",
          "12:31",
          "12:32",
          "12:33",
          "12:34",
          "12:35",
          "12:36",
          "12:37"
         ],
         "xaxis": "x",
         "y": [
          2.645,
          2.675,
          2.675,
          2.675,
          2.675,
          2.675,
          2.625,
          2.625,
          2.55,
          2.52,
          2.52,
          2.52,
          2.52,
          2.52,
          2.52,
          2.52,
          2.52,
          2.52,
          2.52,
          2.52,
          2.52,
          2.52
         ],
         "yaxis": "y"
        },
        {
         "hovertemplate": "team=Carolina Panthers<br>time=%{x}<br>value=%{y}<extra></extra>",
         "legendgroup": "Carolina Panthers",
         "line": {
          "color": "#FFA15A",
          "dash": "solid"
         },
         "mode": "lines",
         "name": "Carolina Panthers",
         "orientation": "v",
         "showlegend": true,
         "type": "scatter",
         "x": [
          "12:16",
          "12:17",
          "12:18",
          "12:19",
          "12:20",
          "12:21",
          "12:22",
          "12:23",
          "12:24",
          "12:25",
          "12:26",
          "12:27",
          "12:28",
          "12:29",
          "12:30",
          "12:31",
          "12:32",
          "12:33",
          "12:34",
          "12:35",
          "12:36",
          "12:37"
         ],
         "xaxis": "x",
         "y": [
          3.0999999999999996,
          3.0999999999999996,
          3.0999999999999996,
          3.0999999999999996,
          3.0999999999999996,
          3.0999999999999996,
          3.0999999999999996,
          3.0999999999999996,
          3.0999999999999996,
          3.0999999999999996,
          3.0999999999999996,
          3.0999999999999996,
          3.0999999999999996,
          3.0999999999999996,
          3.0999999999999996,
          3.0999999999999996,
          3.0999999999999996,
          3.0999999999999996,
          3.0999999999999996,
          3.0999999999999996,
          3.0999999999999996,
          3.0999999999999996
         ],
         "yaxis": "y"
        },
        {
         "hovertemplate": "team=Chicago Bears<br>time=%{x}<br>value=%{y}<extra></extra>",
         "legendgroup": "Chicago Bears",
         "line": {
          "color": "#19d3f3",
          "dash": "solid"
         },
         "mode": "lines",
         "name": "Chicago Bears",
         "orientation": "v",
         "showlegend": true,
         "type": "scatter",
         "x": [
          "12:16",
          "12:17",
          "12:18",
          "12:19",
          "12:20",
          "12:21",
          "12:22",
          "12:23",
          "12:24",
          "12:25",
          "12:26",
          "12:27",
          "12:28",
          "12:29",
          "12:30",
          "12:31",
          "12:32",
          "12:33",
          "12:34",
          "12:35",
          "12:36",
          "12:37"
         ],
         "xaxis": "x",
         "y": [
          2.8899999999999997,
          2.8899999999999997,
          2.8899999999999997,
          2.8899999999999997,
          2.8899999999999997,
          2.8899999999999997,
          2.8899999999999997,
          2.8899999999999997,
          2.8899999999999997,
          2.8899999999999997,
          2.94,
          2.94,
          2.915,
          2.915,
          2.915,
          2.915,
          2.915,
          2.915,
          2.915,
          2.915,
          2.915,
          2.915
         ],
         "yaxis": "y"
        },
        {
         "hovertemplate": "team=Cincinnati Bengals<br>time=%{x}<br>value=%{y}<extra></extra>",
         "legendgroup": "Cincinnati Bengals",
         "line": {
          "color": "#FF6692",
          "dash": "solid"
         },
         "mode": "lines",
         "name": "Cincinnati Bengals",
         "orientation": "v",
         "showlegend": true,
         "type": "scatter",
         "x": [
          "12:16",
          "12:17",
          "12:18",
          "12:19",
          "12:20",
          "12:21",
          "12:22",
          "12:23",
          "12:24",
          "12:25",
          "12:26",
          "12:27",
          "12:28",
          "12:29",
          "12:30",
          "12:31",
          "12:32",
          "12:33",
          "12:34",
          "12:35",
          "12:36",
          "12:37"
         ],
         "xaxis": "x",
         "y": [
          7.3,
          7.3,
          7.3,
          7.3,
          7.3,
          7.3,
          7.3,
          7.3,
          7.3,
          7.3,
          7.3,
          7.3,
          7.3,
          7.3,
          7.3,
          7.3,
          7.3,
          7.3,
          7.3,
          7.3,
          7.3,
          7.3
         ],
         "yaxis": "y"
        },
        {
         "hovertemplate": "team=Cleveland Browns<br>time=%{x}<br>value=%{y}<extra></extra>",
         "legendgroup": "Cleveland Browns",
         "line": {
          "color": "#B6E880",
          "dash": "solid"
         },
         "mode": "lines",
         "name": "Cleveland Browns",
         "orientation": "v",
         "showlegend": true,
         "type": "scatter",
         "x": [
          "12:16",
          "12:17",
          "12:18",
          "12:19",
          "12:20",
          "12:21",
          "12:22",
          "12:23",
          "12:24",
          "12:25",
          "12:26",
          "12:27",
          "12:28",
          "12:29",
          "12:30",
          "12:31",
          "12:32",
          "12:33",
          "12:34",
          "12:35",
          "12:36",
          "12:37"
         ],
         "xaxis": "x",
         "y": [
          1.205,
          1.205,
          1.205,
          1.205,
          1.205,
          1.205,
          1.205,
          1.205,
          1.205,
          1.205,
          1.205,
          1.205,
          1.205,
          1.205,
          1.205,
          1.205,
          1.205,
          1.205,
          1.205,
          1.205,
          1.205,
          1.205
         ],
         "yaxis": "y"
        },
        {
         "hovertemplate": "team=Dallas Cowboys<br>time=%{x}<br>value=%{y}<extra></extra>",
         "legendgroup": "Dallas Cowboys",
         "line": {
          "color": "#FF97FF",
          "dash": "solid"
         },
         "mode": "lines",
         "name": "Dallas Cowboys",
         "orientation": "v",
         "showlegend": true,
         "type": "scatter",
         "x": [
          "12:16",
          "12:17",
          "12:18",
          "12:19",
          "12:20",
          "12:21",
          "12:22",
          "12:23",
          "12:24",
          "12:25",
          "12:26",
          "12:27",
          "12:28",
          "12:29",
          "12:30",
          "12:31",
          "12:32",
          "12:33",
          "12:34",
          "12:35",
          "12:36",
          "12:37"
         ],
         "xaxis": "x",
         "y": [
          1.77,
          1.77,
          1.77,
          1.77,
          1.77,
          1.77,
          1.77,
          1.77,
          1.77,
          1.77,
          1.77,
          1.77,
          1.77,
          1.77,
          1.77,
          1.77,
          1.77,
          1.77,
          1.77,
          1.77,
          1.77,
          1.77
         ],
         "yaxis": "y"
        },
        {
         "hovertemplate": "team=Denver Broncos<br>time=%{x}<br>value=%{y}<extra></extra>",
         "legendgroup": "Denver Broncos",
         "line": {
          "color": "#FECB52",
          "dash": "solid"
         },
         "mode": "lines",
         "name": "Denver Broncos",
         "orientation": "v",
         "showlegend": true,
         "type": "scatter",
         "x": [
          "12:16",
          "12:17",
          "12:18",
          "12:19",
          "12:20",
          "12:21",
          "12:22",
          "12:23",
          "12:24",
          "12:25",
          "12:26",
          "12:27",
          "12:28",
          "12:29",
          "12:30",
          "12:31",
          "12:32",
          "12:33",
          "12:34",
          "12:35",
          "12:36",
          "12:37"
         ],
         "xaxis": "x",
         "y": [
          2.245,
          2.245,
          2.245,
          2.245,
          2.245,
          2.245,
          2.245,
          2.245,
          2.245,
          2.245,
          2.245,
          2.245,
          2.245,
          2.245,
          2.245,
          2.245,
          2.245,
          2.245,
          2.245,
          2.245,
          2.245,
          2.245
         ],
         "yaxis": "y"
        },
        {
         "hovertemplate": "team=Detroit Lions<br>time=%{x}<br>value=%{y}<extra></extra>",
         "legendgroup": "Detroit Lions",
         "line": {
          "color": "#636efa",
          "dash": "solid"
         },
         "mode": "lines",
         "name": "Detroit Lions",
         "orientation": "v",
         "showlegend": true,
         "type": "scatter",
         "x": [
          "12:16",
          "12:17",
          "12:18",
          "12:19",
          "12:20",
          "12:21",
          "12:22",
          "12:23",
          "12:24",
          "12:25",
          "12:26",
          "12:27",
          "12:28",
          "12:29",
          "12:30",
          "12:31",
          "12:32",
          "12:33",
          "12:34",
          "12:35",
          "12:36",
          "12:37"
         ],
         "xaxis": "x",
         "y": [
          2.425,
          2.425,
          2.425,
          2.425,
          2.425,
          2.425,
          2.425,
          2.425,
          2.425,
          2.425,
          2.425,
          2.425,
          2.425,
          2.425,
          2.425,
          2.425,
          2.425,
          2.425,
          2.425,
          2.425,
          2.425,
          2.425
         ],
         "yaxis": "y"
        },
        {
         "hovertemplate": "team=Green Bay Packers<br>time=%{x}<br>value=%{y}<extra></extra>",
         "legendgroup": "Green Bay Packers",
         "line": {
          "color": "#EF553B",
          "dash": "solid"
         },
         "mode": "lines",
         "name": "Green Bay Packers",
         "orientation": "v",
         "showlegend": true,
         "type": "scatter",
         "x": [
          "12:16",
          "12:17",
          "12:18",
          "12:19",
          "12:20",
          "12:21",
          "12:22",
          "12:23",
          "12:24",
          "12:25",
          "12:26",
          "12:27",
          "12:28",
          "12:29",
          "12:30",
          "12:31",
          "12:32",
          "12:33",
          "12:34",
          "12:35",
          "12:36",
          "12:37"
         ],
         "xaxis": "x",
         "y": [
          1.44,
          1.44,
          1.44,
          1.44,
          1.44,
          1.44,
          1.44,
          1.44,
          1.44,
          1.44,
          1.435,
          1.435,
          1.435,
          1.435,
          1.435,
          1.435,
          1.435,
          1.435,
          1.435,
          1.435,
          1.435,
          1.435
         ],
         "yaxis": "y"
        },
        {
         "hovertemplate": "team=Houston Texans<br>time=%{x}<br>value=%{y}<extra></extra>",
         "legendgroup": "Houston Texans",
         "line": {
          "color": "#00cc96",
          "dash": "solid"
         },
         "mode": "lines",
         "name": "Houston Texans",
         "orientation": "v",
         "showlegend": true,
         "type": "scatter",
         "x": [
          "12:16",
          "12:17",
          "12:18",
          "12:19",
          "12:20",
          "12:21",
          "12:22",
          "12:23",
          "12:24",
          "12:25",
          "12:26",
          "12:27",
          "12:28",
          "12:29",
          "12:30",
          "12:31",
          "12:32",
          "12:33",
          "12:34",
          "12:35",
          "12:36",
          "12:37"
         ],
         "xaxis": "x",
         "y": [
          3.75,
          3.75,
          3.75,
          3.75,
          3.75,
          3.75,
          3.75,
          3.675,
          3.675,
          3.675,
          3.675,
          3.675,
          3.675,
          3.675,
          3.675,
          3.675,
          3.675,
          3.675,
          3.675,
          3.675,
          3.675,
          3.675
         ],
         "yaxis": "y"
        },
        {
         "hovertemplate": "team=Indianapolis Colts<br>time=%{x}<br>value=%{y}<extra></extra>",
         "legendgroup": "Indianapolis Colts",
         "line": {
          "color": "#ab63fa",
          "dash": "solid"
         },
         "mode": "lines",
         "name": "Indianapolis Colts",
         "orientation": "v",
         "showlegend": true,
         "type": "scatter",
         "x": [
          "12:16",
          "12:17",
          "12:18",
          "12:19",
          "12:20",
          "12:21",
          "12:22",
          "12:23",
          "12:24",
          "12:25",
          "12:26",
          "12:27",
          "12:28",
          "12:29",
          "12:30",
          "12:31",
          "12:32",
          "12:33",
          "12:34",
          "12:35",
          "12:36",
          "12:37"
         ],
         "xaxis": "x",
         "y": [
          1.0750000000000002,
          1.0750000000000002,
          1.0750000000000002,
          1.0750000000000002,
          1.0750000000000002,
          1.0750000000000002,
          1.0750000000000002,
          1.0750000000000002,
          1.0750000000000002,
          1.0750000000000002,
          1.0750000000000002,
          1.0750000000000002,
          1.0750000000000002,
          1.0750000000000002,
          1.0750000000000002,
          1.0750000000000002,
          1.0750000000000002,
          1.0750000000000002,
          1.0750000000000002,
          1.0750000000000002,
          1.0750000000000002,
          1.0750000000000002
         ],
         "yaxis": "y"
        },
        {
         "hovertemplate": "team=Jacksonville Jaguars<br>time=%{x}<br>value=%{y}<extra></extra>",
         "legendgroup": "Jacksonville Jaguars",
         "line": {
          "color": "#FFA15A",
          "dash": "solid"
         },
         "mode": "lines",
         "name": "Jacksonville Jaguars",
         "orientation": "v",
         "showlegend": true,
         "type": "scatter",
         "x": [
          "12:16",
          "12:17",
          "12:18",
          "12:19",
          "12:20",
          "12:21",
          "12:22",
          "12:23",
          "12:24",
          "12:25",
          "12:26",
          "12:27",
          "12:28",
          "12:29",
          "12:30",
          "12:31",
          "12:32",
          "12:33",
          "12:34",
          "12:35",
          "12:36",
          "12:37"
         ],
         "xaxis": "x",
         "y": [
          9.35,
          9.35,
          9.35,
          9.35,
          9.35,
          9.35,
          9.35,
          9.35,
          9.35,
          9.35,
          9.35,
          9.35,
          9.35,
          9.35,
          9.35,
          9.35,
          9.35,
          9.35,
          9.35,
          9.35,
          9.35,
          9.35
         ],
         "yaxis": "y"
        },
        {
         "hovertemplate": "team=Kansas City Chiefs<br>time=%{x}<br>value=%{y}<extra></extra>",
         "legendgroup": "Kansas City Chiefs",
         "line": {
          "color": "#19d3f3",
          "dash": "solid"
         },
         "mode": "lines",
         "name": "Kansas City Chiefs",
         "orientation": "v",
         "showlegend": true,
         "type": "scatter",
         "x": [
          "12:16",
          "12:17",
          "12:18",
          "12:19",
          "12:20",
          "12:21",
          "12:22",
          "12:23",
          "12:24",
          "12:25",
          "12:26",
          "12:27",
          "12:28",
          "12:29",
          "12:30",
          "12:31",
          "12:32",
          "12:33",
          "12:34",
          "12:35",
          "12:36",
          "12:37"
         ],
         "xaxis": "x",
         "y": [
          3.15,
          3.225,
          3.225,
          3.25,
          3.25,
          3.25,
          3.25,
          3.25,
          3.25,
          3.25,
          3.25,
          3.25,
          3.25,
          3.25,
          3.25,
          3.475,
          3.475,
          3.475,
          3.475,
          3.475,
          3.475,
          3.475
         ],
         "yaxis": "y"
        },
        {
         "hovertemplate": "team=Las Vegas Raiders<br>time=%{x}<br>value=%{y}<extra></extra>",
         "legendgroup": "Las Vegas Raiders",
         "line": {
          "color": "#FF6692",
          "dash": "solid"
         },
         "mode": "lines",
         "name": "Las Vegas Raiders",
         "orientation": "v",
         "showlegend": true,
         "type": "scatter",
         "x": [
          "12:16",
          "12:17",
          "12:18",
          "12:19",
          "12:20",
          "12:21",
          "12:22",
          "12:23",
          "12:24",
          "12:25",
          "12:26",
          "12:27",
          "12:28",
          "12:29",
          "12:30",
          "12:31",
          "12:32",
          "12:33",
          "12:34",
          "12:35",
          "12:36",
          "12:37"
         ],
         "xaxis": "x",
         "y": [
          1.69,
          1.69,
          1.69,
          1.69,
          1.69,
          1.69,
          1.69,
          1.69,
          1.69,
          1.69,
          1.69,
          1.69,
          1.69,
          1.69,
          1.69,
          1.69,
          1.69,
          1.69,
          1.69,
          1.69,
          1.69,
          1.69
         ],
         "yaxis": "y"
        },
        {
         "hovertemplate": "team=Los Angeles Chargers<br>time=%{x}<br>value=%{y}<extra></extra>",
         "legendgroup": "Los Angeles Chargers",
         "line": {
          "color": "#B6E880",
          "dash": "solid"
         },
         "mode": "lines",
         "name": "Los Angeles Chargers",
         "orientation": "v",
         "showlegend": true,
         "type": "scatter",
         "x": [
          "12:16",
          "12:17",
          "12:18",
          "12:19",
          "12:20",
          "12:21",
          "12:22",
          "12:23",
          "12:24",
          "12:25",
          "12:26",
          "12:27",
          "12:28",
          "12:29",
          "12:30",
          "12:31",
          "12:32",
          "12:33",
          "12:34",
          "12:35",
          "12:36",
          "12:37"
         ],
         "xaxis": "x",
         "y": [
          1.38,
          1.3650000000000002,
          1.3650000000000002,
          1.36,
          1.36,
          1.36,
          1.36,
          1.36,
          1.36,
          1.36,
          1.36,
          1.36,
          1.36,
          1.36,
          1.36,
          1.33,
          1.33,
          1.33,
          1.33,
          1.33,
          1.33,
          1.33
         ],
         "yaxis": "y"
        },
        {
         "hovertemplate": "team=Los Angeles Rams<br>time=%{x}<br>value=%{y}<extra></extra>",
         "legendgroup": "Los Angeles Rams",
         "line": {
          "color": "#FF97FF",
          "dash": "solid"
         },
         "mode": "lines",
         "name": "Los Angeles Rams",
         "orientation": "v",
         "showlegend": true,
         "type": "scatter",
         "x": [
          "12:16",
          "12:17",
          "12:18",
          "12:19",
          "12:20",
          "12:21",
          "12:22",
          "12:23",
          "12:24",
          "12:25",
          "12:26",
          "12:27",
          "12:28",
          "12:29",
          "12:30",
          "12:31",
          "12:32",
          "12:33",
          "12:34",
          "12:35",
          "12:36",
          "12:37"
         ],
         "xaxis": "x",
         "y": [
          1.975,
          1.975,
          1.975,
          1.975,
          1.975,
          1.975,
          1.975,
          1.975,
          1.975,
          1.975,
          1.975,
          1.975,
          1.975,
          1.975,
          1.975,
          1.975,
          1.975,
          1.975,
          1.975,
          1.975,
          1.975,
          1.975
         ],
         "yaxis": "y"
        },
        {
         "hovertemplate": "team=Miami Dolphins<br>time=%{x}<br>value=%{y}<extra></extra>",
         "legendgroup": "Miami Dolphins",
         "line": {
          "color": "#FECB52",
          "dash": "solid"
         },
         "mode": "lines",
         "name": "Miami Dolphins",
         "orientation": "v",
         "showlegend": true,
         "type": "scatter",
         "x": [
          "12:16",
          "12:17",
          "12:18",
          "12:19",
          "12:20",
          "12:21",
          "12:22",
          "12:23",
          "12:24",
          "12:25",
          "12:26",
          "12:27",
          "12:28",
          "12:29",
          "12:30",
          "12:31",
          "12:32",
          "12:33",
          "12:34",
          "12:35",
          "12:36",
          "12:37"
         ],
         "xaxis": "x",
         "y": [
          1.51,
          1.505,
          1.505,
          1.505,
          1.505,
          1.505,
          1.52,
          1.52,
          1.55,
          1.5550000000000002,
          1.5550000000000002,
          1.5550000000000002,
          1.5550000000000002,
          1.5550000000000002,
          1.5550000000000002,
          1.5550000000000002,
          1.5550000000000002,
          1.5550000000000002,
          1.5550000000000002,
          1.5550000000000002,
          1.5550000000000002,
          1.5550000000000002
         ],
         "yaxis": "y"
        },
        {
         "hovertemplate": "team=Minnesota Vikings<br>time=%{x}<br>value=%{y}<extra></extra>",
         "legendgroup": "Minnesota Vikings",
         "line": {
          "color": "#636efa",
          "dash": "solid"
         },
         "mode": "lines",
         "name": "Minnesota Vikings",
         "orientation": "v",
         "showlegend": true,
         "type": "scatter",
         "x": [
          "12:16",
          "12:17",
          "12:18",
          "12:19",
          "12:20",
          "12:21",
          "12:22",
          "12:23",
          "12:24",
          "12:25",
          "12:26",
          "12:27",
          "12:28",
          "12:29",
          "12:30",
          "12:31",
          "12:32",
          "12:33",
          "12:34",
          "12:35",
          "12:36",
          "12:37"
         ],
         "xaxis": "x",
         "y": [
          1.6,
          1.6,
          1.6,
          1.6,
          1.6,
          1.6,
          1.6,
          1.6,
          1.6,
          1.6,
          1.6,
          1.6,
          1.6,
          1.6,
          1.6,
          1.6,
          1.6,
          1.6,
          1.6,
          1.6,
          1.6,
          1.6
         ],
         "yaxis": "y"
        },
        {
         "hovertemplate": "team=New England Patriots<br>time=%{x}<br>value=%{y}<extra></extra>",
         "legendgroup": "New England Patriots",
         "line": {
          "color": "#EF553B",
          "dash": "solid"
         },
         "mode": "lines",
         "name": "New England Patriots",
         "orientation": "v",
         "showlegend": true,
         "type": "scatter",
         "x": [
          "12:16",
          "12:17",
          "12:18",
          "12:19",
          "12:20",
          "12:21",
          "12:22",
          "12:23",
          "12:24",
          "12:25",
          "12:26",
          "12:27",
          "12:28",
          "12:29",
          "12:30",
          "12:31",
          "12:32",
          "12:33",
          "12:34",
          "12:35",
          "12:36",
          "12:37"
         ],
         "xaxis": "x",
         "y": [
          1.6749999999999998,
          1.6749999999999998,
          1.6749999999999998,
          1.6749999999999998,
          1.6749999999999998,
          1.6549999999999998,
          1.6549999999999998,
          1.6549999999999998,
          1.6549999999999998,
          1.6549999999999998,
          1.6549999999999998,
          1.6549999999999998,
          1.6549999999999998,
          1.6549999999999998,
          1.6549999999999998,
          1.6549999999999998,
          1.6549999999999998,
          1.6549999999999998,
          1.635,
          1.635,
          1.635,
          1.635
         ],
         "yaxis": "y"
        },
        {
         "hovertemplate": "team=New Orleans Saints<br>time=%{x}<br>value=%{y}<extra></extra>",
         "legendgroup": "New Orleans Saints",
         "line": {
          "color": "#00cc96",
          "dash": "solid"
         },
         "mode": "lines",
         "name": "New Orleans Saints",
         "orientation": "v",
         "showlegend": true,
         "type": "scatter",
         "x": [
          "12:16",
          "12:17",
          "12:18",
          "12:19",
          "12:20",
          "12:21",
          "12:22",
          "12:23",
          "12:24",
          "12:25",
          "12:26",
          "12:27",
          "12:28",
          "12:29",
          "12:30",
          "12:31",
          "12:32",
          "12:33",
          "12:34",
          "12:35",
          "12:36",
          "12:37"
         ],
         "xaxis": "x",
         "y": [
          1.4,
          1.4,
          1.4,
          1.4,
          1.4,
          1.4,
          1.4,
          1.4,
          1.4,
          1.4,
          1.4,
          1.4,
          1.4,
          1.4,
          1.4,
          1.4,
          1.4,
          1.4,
          1.4,
          1.4,
          1.4,
          1.4
         ],
         "yaxis": "y"
        },
        {
         "hovertemplate": "team=New York Giants<br>time=%{x}<br>value=%{y}<extra></extra>",
         "legendgroup": "New York Giants",
         "line": {
          "color": "#ab63fa",
          "dash": "solid"
         },
         "mode": "lines",
         "name": "New York Giants",
         "orientation": "v",
         "showlegend": true,
         "type": "scatter",
         "x": [
          "12:16",
          "12:17",
          "12:18",
          "12:19",
          "12:20",
          "12:21",
          "12:22",
          "12:23",
          "12:24",
          "12:25",
          "12:26",
          "12:27",
          "12:28",
          "12:29",
          "12:30",
          "12:31",
          "12:32",
          "12:33",
          "12:34",
          "12:35",
          "12:36",
          "12:37"
         ],
         "xaxis": "x",
         "y": [
          2.12,
          2.12,
          2.12,
          2.12,
          2.12,
          2.12,
          2.12,
          2.12,
          2.12,
          2.12,
          2.12,
          2.12,
          2.12,
          2.12,
          2.12,
          2.12,
          2.12,
          2.12,
          2.12,
          2.12,
          2.12,
          2.12
         ],
         "yaxis": "y"
        },
        {
         "hovertemplate": "team=New York Jets<br>time=%{x}<br>value=%{y}<extra></extra>",
         "legendgroup": "New York Jets",
         "line": {
          "color": "#FFA15A",
          "dash": "solid"
         },
         "mode": "lines",
         "name": "New York Jets",
         "orientation": "v",
         "showlegend": true,
         "type": "scatter",
         "x": [
          "12:16",
          "12:17",
          "12:18",
          "12:19",
          "12:20",
          "12:21",
          "12:22",
          "12:23",
          "12:24",
          "12:25",
          "12:26",
          "12:27",
          "12:28",
          "12:29",
          "12:30",
          "12:31",
          "12:32",
          "12:33",
          "12:34",
          "12:35",
          "12:36",
          "12:37"
         ],
         "xaxis": "x",
         "y": [
          2.27,
          2.27,
          2.27,
          2.27,
          2.27,
          2.3099999999999996,
          2.3099999999999996,
          2.3099999999999996,
          2.3099999999999996,
          2.3099999999999996,
          2.3099999999999996,
          2.3099999999999996,
          2.3099999999999996,
          2.3099999999999996,
          2.3099999999999996,
          2.3099999999999996,
          2.3099999999999996,
          2.3099999999999996,
          2.3499999999999996,
          2.3499999999999996,
          2.3499999999999996,
          2.3499999999999996
         ],
         "yaxis": "y"
        },
        {
         "hovertemplate": "team=Philadelphia Eagles<br>time=%{x}<br>value=%{y}<extra></extra>",
         "legendgroup": "Philadelphia Eagles",
         "line": {
          "color": "#19d3f3",
          "dash": "solid"
         },
         "mode": "lines",
         "name": "Philadelphia Eagles",
         "orientation": "v",
         "showlegend": true,
         "type": "scatter",
         "x": [
          "12:16",
          "12:17",
          "12:18",
          "12:19",
          "12:20",
          "12:21",
          "12:22",
          "12:23",
          "12:24",
          "12:25",
          "12:26",
          "12:27",
          "12:28",
          "12:29",
          "12:30",
          "12:31",
          "12:32",
          "12:33",
          "12:34",
          "12:35",
          "12:36",
          "12:37"
         ],
         "xaxis": "x",
         "y": [
          3.2,
          3.2,
          3.2,
          3.2,
          3.2,
          3.2,
          3.2,
          3.2,
          3.2,
          3.2,
          3.2,
          3.2,
          3.2,
          3.2,
          3.2,
          3.325,
          3.325,
          3.325,
          3.325,
          3.325,
          3.325,
          3.325
         ],
         "yaxis": "y"
        },
        {
         "hovertemplate": "team=Pittsburgh Steelers<br>time=%{x}<br>value=%{y}<extra></extra>",
         "legendgroup": "Pittsburgh Steelers",
         "line": {
          "color": "#FF6692",
          "dash": "solid"
         },
         "mode": "lines",
         "name": "Pittsburgh Steelers",
         "orientation": "v",
         "showlegend": true,
         "type": "scatter",
         "x": [
          "12:16",
          "12:17",
          "12:18",
          "12:19",
          "12:20",
          "12:21",
          "12:22",
          "12:23",
          "12:24",
          "12:25",
          "12:26",
          "12:27",
          "12:28",
          "12:29",
          "12:30",
          "12:31",
          "12:32",
          "12:33",
          "12:34",
          "12:35",
          "12:36",
          "12:37"
         ],
         "xaxis": "x",
         "y": [
          4.824999999999999,
          4.824999999999999,
          4.824999999999999,
          4.824999999999999,
          4.824999999999999,
          4.824999999999999,
          4.824999999999999,
          4.824999999999999,
          4.824999999999999,
          4.824999999999999,
          4.824999999999999,
          4.824999999999999,
          4.824999999999999,
          4.824999999999999,
          4.824999999999999,
          4.824999999999999,
          4.824999999999999,
          4.824999999999999,
          4.824999999999999,
          4.824999999999999,
          4.824999999999999,
          4.824999999999999
         ],
         "yaxis": "y"
        },
        {
         "hovertemplate": "team=San Francisco 49ers<br>time=%{x}<br>value=%{y}<extra></extra>",
         "legendgroup": "San Francisco 49ers",
         "line": {
          "color": "#B6E880",
          "dash": "solid"
         },
         "mode": "lines",
         "name": "San Francisco 49ers",
         "orientation": "v",
         "showlegend": true,
         "type": "scatter",
         "x": [
          "12:16",
          "12:17",
          "12:18",
          "12:19",
          "12:20",
          "12:21",
          "12:22",
          "12:23",
          "12:24",
          "12:25",
          "12:26",
          "12:27",
          "12:28",
          "12:29",
          "12:30",
          "12:31",
          "12:32",
          "12:33",
          "12:34",
          "12:35",
          "12:36",
          "12:37"
         ],
         "xaxis": "x",
         "y": [
          3.7750000000000004,
          3.7750000000000004,
          3.7750000000000004,
          3.7750000000000004,
          3.7750000000000004,
          3.7750000000000004,
          3.7750000000000004,
          3.7750000000000004,
          3.7750000000000004,
          3.7750000000000004,
          3.7750000000000004,
          3.7750000000000004,
          3.7750000000000004,
          3.7750000000000004,
          3.7750000000000004,
          3.7750000000000004,
          3.7750000000000004,
          3.7750000000000004,
          3.7750000000000004,
          3.7750000000000004,
          3.7750000000000004,
          3.7750000000000004
         ],
         "yaxis": "y"
        },
        {
         "hovertemplate": "team=Seattle Seahawks<br>time=%{x}<br>value=%{y}<extra></extra>",
         "legendgroup": "Seattle Seahawks",
         "line": {
          "color": "#FF97FF",
          "dash": "solid"
         },
         "mode": "lines",
         "name": "Seattle Seahawks",
         "orientation": "v",
         "showlegend": true,
         "type": "scatter",
         "x": [
          "12:16",
          "12:17",
          "12:18",
          "12:19",
          "12:20",
          "12:21",
          "12:22",
          "12:23",
          "12:24",
          "12:25",
          "12:26",
          "12:27",
          "12:28",
          "12:29",
          "12:30",
          "12:31",
          "12:32",
          "12:33",
          "12:34",
          "12:35",
          "12:36",
          "12:37"
         ],
         "xaxis": "x",
         "y": [
          1.29,
          1.29,
          1.29,
          1.29,
          1.29,
          1.29,
          1.29,
          1.29,
          1.29,
          1.29,
          1.29,
          1.29,
          1.29,
          1.29,
          1.29,
          1.29,
          1.29,
          1.29,
          1.29,
          1.29,
          1.29,
          1.29
         ],
         "yaxis": "y"
        },
        {
         "hovertemplate": "team=Tampa Bay Buccaneers<br>time=%{x}<br>value=%{y}<extra></extra>",
         "legendgroup": "Tampa Bay Buccaneers",
         "line": {
          "color": "#FECB52",
          "dash": "solid"
         },
         "mode": "lines",
         "name": "Tampa Bay Buccaneers",
         "orientation": "v",
         "showlegend": true,
         "type": "scatter",
         "x": [
          "12:16",
          "12:17",
          "12:18",
          "12:19",
          "12:20",
          "12:21",
          "12:22",
          "12:23",
          "12:24",
          "12:25",
          "12:26",
          "12:27",
          "12:28",
          "12:29",
          "12:30",
          "12:31",
          "12:32",
          "12:33",
          "12:34",
          "12:35",
          "12:36",
          "12:37"
         ],
         "xaxis": "x",
         "y": [
          1.3050000000000002,
          1.3050000000000002,
          1.3050000000000002,
          1.3050000000000002,
          1.3050000000000002,
          1.3050000000000002,
          1.3050000000000002,
          1.3050000000000002,
          1.3050000000000002,
          1.3050000000000002,
          1.3050000000000002,
          1.3050000000000002,
          1.3050000000000002,
          1.3050000000000002,
          1.3050000000000002,
          1.3050000000000002,
          1.3050000000000002,
          1.3050000000000002,
          1.3050000000000002,
          1.3050000000000002,
          1.3050000000000002,
          1.3050000000000002
         ],
         "yaxis": "y"
        },
        {
         "hovertemplate": "team=Tennessee Titans<br>time=%{x}<br>value=%{y}<extra></extra>",
         "legendgroup": "Tennessee Titans",
         "line": {
          "color": "#636efa",
          "dash": "solid"
         },
         "mode": "lines",
         "name": "Tennessee Titans",
         "orientation": "v",
         "showlegend": true,
         "type": "scatter",
         "x": [
          "12:16",
          "12:17",
          "12:18",
          "12:19",
          "12:20",
          "12:21",
          "12:22",
          "12:23",
          "12:24",
          "12:25",
          "12:26",
          "12:27",
          "12:28",
          "12:29",
          "12:30",
          "12:31",
          "12:32",
          "12:33",
          "12:34",
          "12:35",
          "12:36",
          "12:37"
         ],
         "xaxis": "x",
         "y": [
          1.3050000000000002,
          1.3050000000000002,
          1.3050000000000002,
          1.3050000000000002,
          1.3050000000000002,
          1.3050000000000002,
          1.3050000000000002,
          1.31,
          1.31,
          1.31,
          1.31,
          1.31,
          1.31,
          1.31,
          1.31,
          1.31,
          1.31,
          1.31,
          1.31,
          1.31,
          1.31,
          1.31
         ],
         "yaxis": "y"
        },
        {
         "hovertemplate": "team=Washington Football Team<br>time=%{x}<br>value=%{y}<extra></extra>",
         "legendgroup": "Washington Football Team",
         "line": {
          "color": "#EF553B",
          "dash": "solid"
         },
         "mode": "lines",
         "name": "Washington Football Team",
         "orientation": "v",
         "showlegend": true,
         "type": "scatter",
         "x": [
          "12:16",
          "12:17",
          "12:18",
          "12:19",
          "12:20",
          "12:21",
          "12:22",
          "12:23",
          "12:24",
          "12:25",
          "12:26",
          "12:27",
          "12:28",
          "12:29",
          "12:30",
          "12:31",
          "12:32",
          "12:33",
          "12:34",
          "12:35",
          "12:36",
          "12:37"
         ],
         "xaxis": "x",
         "y": [
          1.38,
          1.38,
          1.38,
          1.38,
          1.38,
          1.38,
          1.38,
          1.38,
          1.38,
          1.38,
          1.38,
          1.38,
          1.38,
          1.38,
          1.38,
          1.355,
          1.355,
          1.355,
          1.355,
          1.355,
          1.355,
          1.355
         ],
         "yaxis": "y"
        }
       ],
       "layout": {
        "autosize": true,
        "legend": {
         "title": {
          "text": "team"
         },
         "tracegroupgap": 0
        },
        "margin": {
         "t": 60
        },
        "template": {
         "data": {
          "bar": [
           {
            "error_x": {
             "color": "#2a3f5f"
            },
            "error_y": {
             "color": "#2a3f5f"
            },
            "marker": {
             "line": {
              "color": "#E5ECF6",
              "width": 0.5
             }
            },
            "type": "bar"
           }
          ],
          "barpolar": [
           {
            "marker": {
             "line": {
              "color": "#E5ECF6",
              "width": 0.5
             }
            },
            "type": "barpolar"
           }
          ],
          "carpet": [
           {
            "aaxis": {
             "endlinecolor": "#2a3f5f",
             "gridcolor": "white",
             "linecolor": "white",
             "minorgridcolor": "white",
             "startlinecolor": "#2a3f5f"
            },
            "baxis": {
             "endlinecolor": "#2a3f5f",
             "gridcolor": "white",
             "linecolor": "white",
             "minorgridcolor": "white",
             "startlinecolor": "#2a3f5f"
            },
            "type": "carpet"
           }
          ],
          "choropleth": [
           {
            "colorbar": {
             "outlinewidth": 0,
             "ticks": ""
            },
            "type": "choropleth"
           }
          ],
          "contour": [
           {
            "colorbar": {
             "outlinewidth": 0,
             "ticks": ""
            },
            "colorscale": [
             [
              0,
              "#0d0887"
             ],
             [
              0.1111111111111111,
              "#46039f"
             ],
             [
              0.2222222222222222,
              "#7201a8"
             ],
             [
              0.3333333333333333,
              "#9c179e"
             ],
             [
              0.4444444444444444,
              "#bd3786"
             ],
             [
              0.5555555555555556,
              "#d8576b"
             ],
             [
              0.6666666666666666,
              "#ed7953"
             ],
             [
              0.7777777777777778,
              "#fb9f3a"
             ],
             [
              0.8888888888888888,
              "#fdca26"
             ],
             [
              1,
              "#f0f921"
             ]
            ],
            "type": "contour"
           }
          ],
          "contourcarpet": [
           {
            "colorbar": {
             "outlinewidth": 0,
             "ticks": ""
            },
            "type": "contourcarpet"
           }
          ],
          "heatmap": [
           {
            "colorbar": {
             "outlinewidth": 0,
             "ticks": ""
            },
            "colorscale": [
             [
              0,
              "#0d0887"
             ],
             [
              0.1111111111111111,
              "#46039f"
             ],
             [
              0.2222222222222222,
              "#7201a8"
             ],
             [
              0.3333333333333333,
              "#9c179e"
             ],
             [
              0.4444444444444444,
              "#bd3786"
             ],
             [
              0.5555555555555556,
              "#d8576b"
             ],
             [
              0.6666666666666666,
              "#ed7953"
             ],
             [
              0.7777777777777778,
              "#fb9f3a"
             ],
             [
              0.8888888888888888,
              "#fdca26"
             ],
             [
              1,
              "#f0f921"
             ]
            ],
            "type": "heatmap"
           }
          ],
          "heatmapgl": [
           {
            "colorbar": {
             "outlinewidth": 0,
             "ticks": ""
            },
            "colorscale": [
             [
              0,
              "#0d0887"
             ],
             [
              0.1111111111111111,
              "#46039f"
             ],
             [
              0.2222222222222222,
              "#7201a8"
             ],
             [
              0.3333333333333333,
              "#9c179e"
             ],
             [
              0.4444444444444444,
              "#bd3786"
             ],
             [
              0.5555555555555556,
              "#d8576b"
             ],
             [
              0.6666666666666666,
              "#ed7953"
             ],
             [
              0.7777777777777778,
              "#fb9f3a"
             ],
             [
              0.8888888888888888,
              "#fdca26"
             ],
             [
              1,
              "#f0f921"
             ]
            ],
            "type": "heatmapgl"
           }
          ],
          "histogram": [
           {
            "marker": {
             "colorbar": {
              "outlinewidth": 0,
              "ticks": ""
             }
            },
            "type": "histogram"
           }
          ],
          "histogram2d": [
           {
            "colorbar": {
             "outlinewidth": 0,
             "ticks": ""
            },
            "colorscale": [
             [
              0,
              "#0d0887"
             ],
             [
              0.1111111111111111,
              "#46039f"
             ],
             [
              0.2222222222222222,
              "#7201a8"
             ],
             [
              0.3333333333333333,
              "#9c179e"
             ],
             [
              0.4444444444444444,
              "#bd3786"
             ],
             [
              0.5555555555555556,
              "#d8576b"
             ],
             [
              0.6666666666666666,
              "#ed7953"
             ],
             [
              0.7777777777777778,
              "#fb9f3a"
             ],
             [
              0.8888888888888888,
              "#fdca26"
             ],
             [
              1,
              "#f0f921"
             ]
            ],
            "type": "histogram2d"
           }
          ],
          "histogram2dcontour": [
           {
            "colorbar": {
             "outlinewidth": 0,
             "ticks": ""
            },
            "colorscale": [
             [
              0,
              "#0d0887"
             ],
             [
              0.1111111111111111,
              "#46039f"
             ],
             [
              0.2222222222222222,
              "#7201a8"
             ],
             [
              0.3333333333333333,
              "#9c179e"
             ],
             [
              0.4444444444444444,
              "#bd3786"
             ],
             [
              0.5555555555555556,
              "#d8576b"
             ],
             [
              0.6666666666666666,
              "#ed7953"
             ],
             [
              0.7777777777777778,
              "#fb9f3a"
             ],
             [
              0.8888888888888888,
              "#fdca26"
             ],
             [
              1,
              "#f0f921"
             ]
            ],
            "type": "histogram2dcontour"
           }
          ],
          "mesh3d": [
           {
            "colorbar": {
             "outlinewidth": 0,
             "ticks": ""
            },
            "type": "mesh3d"
           }
          ],
          "parcoords": [
           {
            "line": {
             "colorbar": {
              "outlinewidth": 0,
              "ticks": ""
             }
            },
            "type": "parcoords"
           }
          ],
          "pie": [
           {
            "automargin": true,
            "type": "pie"
           }
          ],
          "scatter": [
           {
            "marker": {
             "colorbar": {
              "outlinewidth": 0,
              "ticks": ""
             }
            },
            "type": "scatter"
           }
          ],
          "scatter3d": [
           {
            "line": {
             "colorbar": {
              "outlinewidth": 0,
              "ticks": ""
             }
            },
            "marker": {
             "colorbar": {
              "outlinewidth": 0,
              "ticks": ""
             }
            },
            "type": "scatter3d"
           }
          ],
          "scattercarpet": [
           {
            "marker": {
             "colorbar": {
              "outlinewidth": 0,
              "ticks": ""
             }
            },
            "type": "scattercarpet"
           }
          ],
          "scattergeo": [
           {
            "marker": {
             "colorbar": {
              "outlinewidth": 0,
              "ticks": ""
             }
            },
            "type": "scattergeo"
           }
          ],
          "scattergl": [
           {
            "marker": {
             "colorbar": {
              "outlinewidth": 0,
              "ticks": ""
             }
            },
            "type": "scattergl"
           }
          ],
          "scattermapbox": [
           {
            "marker": {
             "colorbar": {
              "outlinewidth": 0,
              "ticks": ""
             }
            },
            "type": "scattermapbox"
           }
          ],
          "scatterpolar": [
           {
            "marker": {
             "colorbar": {
              "outlinewidth": 0,
              "ticks": ""
             }
            },
            "type": "scatterpolar"
           }
          ],
          "scatterpolargl": [
           {
            "marker": {
             "colorbar": {
              "outlinewidth": 0,
              "ticks": ""
             }
            },
            "type": "scatterpolargl"
           }
          ],
          "scatterternary": [
           {
            "marker": {
             "colorbar": {
              "outlinewidth": 0,
              "ticks": ""
             }
            },
            "type": "scatterternary"
           }
          ],
          "surface": [
           {
            "colorbar": {
             "outlinewidth": 0,
             "ticks": ""
            },
            "colorscale": [
             [
              0,
              "#0d0887"
             ],
             [
              0.1111111111111111,
              "#46039f"
             ],
             [
              0.2222222222222222,
              "#7201a8"
             ],
             [
              0.3333333333333333,
              "#9c179e"
             ],
             [
              0.4444444444444444,
              "#bd3786"
             ],
             [
              0.5555555555555556,
              "#d8576b"
             ],
             [
              0.6666666666666666,
              "#ed7953"
             ],
             [
              0.7777777777777778,
              "#fb9f3a"
             ],
             [
              0.8888888888888888,
              "#fdca26"
             ],
             [
              1,
              "#f0f921"
             ]
            ],
            "type": "surface"
           }
          ],
          "table": [
           {
            "cells": {
             "fill": {
              "color": "#EBF0F8"
             },
             "line": {
              "color": "white"
             }
            },
            "header": {
             "fill": {
              "color": "#C8D4E3"
             },
             "line": {
              "color": "white"
             }
            },
            "type": "table"
           }
          ]
         },
         "layout": {
          "annotationdefaults": {
           "arrowcolor": "#2a3f5f",
           "arrowhead": 0,
           "arrowwidth": 1
          },
          "autotypenumbers": "strict",
          "coloraxis": {
           "colorbar": {
            "outlinewidth": 0,
            "ticks": ""
           }
          },
          "colorscale": {
           "diverging": [
            [
             0,
             "#8e0152"
            ],
            [
             0.1,
             "#c51b7d"
            ],
            [
             0.2,
             "#de77ae"
            ],
            [
             0.3,
             "#f1b6da"
            ],
            [
             0.4,
             "#fde0ef"
            ],
            [
             0.5,
             "#f7f7f7"
            ],
            [
             0.6,
             "#e6f5d0"
            ],
            [
             0.7,
             "#b8e186"
            ],
            [
             0.8,
             "#7fbc41"
            ],
            [
             0.9,
             "#4d9221"
            ],
            [
             1,
             "#276419"
            ]
           ],
           "sequential": [
            [
             0,
             "#0d0887"
            ],
            [
             0.1111111111111111,
             "#46039f"
            ],
            [
             0.2222222222222222,
             "#7201a8"
            ],
            [
             0.3333333333333333,
             "#9c179e"
            ],
            [
             0.4444444444444444,
             "#bd3786"
            ],
            [
             0.5555555555555556,
             "#d8576b"
            ],
            [
             0.6666666666666666,
             "#ed7953"
            ],
            [
             0.7777777777777778,
             "#fb9f3a"
            ],
            [
             0.8888888888888888,
             "#fdca26"
            ],
            [
             1,
             "#f0f921"
            ]
           ],
           "sequentialminus": [
            [
             0,
             "#0d0887"
            ],
            [
             0.1111111111111111,
             "#46039f"
            ],
            [
             0.2222222222222222,
             "#7201a8"
            ],
            [
             0.3333333333333333,
             "#9c179e"
            ],
            [
             0.4444444444444444,
             "#bd3786"
            ],
            [
             0.5555555555555556,
             "#d8576b"
            ],
            [
             0.6666666666666666,
             "#ed7953"
            ],
            [
             0.7777777777777778,
             "#fb9f3a"
            ],
            [
             0.8888888888888888,
             "#fdca26"
            ],
            [
             1,
             "#f0f921"
            ]
           ]
          },
          "colorway": [
           "#636efa",
           "#EF553B",
           "#00cc96",
           "#ab63fa",
           "#FFA15A",
           "#19d3f3",
           "#FF6692",
           "#B6E880",
           "#FF97FF",
           "#FECB52"
          ],
          "font": {
           "color": "#2a3f5f"
          },
          "geo": {
           "bgcolor": "white",
           "lakecolor": "white",
           "landcolor": "#E5ECF6",
           "showlakes": true,
           "showland": true,
           "subunitcolor": "white"
          },
          "hoverlabel": {
           "align": "left"
          },
          "hovermode": "closest",
          "mapbox": {
           "style": "light"
          },
          "paper_bgcolor": "white",
          "plot_bgcolor": "#E5ECF6",
          "polar": {
           "angularaxis": {
            "gridcolor": "white",
            "linecolor": "white",
            "ticks": ""
           },
           "bgcolor": "#E5ECF6",
           "radialaxis": {
            "gridcolor": "white",
            "linecolor": "white",
            "ticks": ""
           }
          },
          "scene": {
           "xaxis": {
            "backgroundcolor": "#E5ECF6",
            "gridcolor": "white",
            "gridwidth": 2,
            "linecolor": "white",
            "showbackground": true,
            "ticks": "",
            "zerolinecolor": "white"
           },
           "yaxis": {
            "backgroundcolor": "#E5ECF6",
            "gridcolor": "white",
            "gridwidth": 2,
            "linecolor": "white",
            "showbackground": true,
            "ticks": "",
            "zerolinecolor": "white"
           },
           "zaxis": {
            "backgroundcolor": "#E5ECF6",
            "gridcolor": "white",
            "gridwidth": 2,
            "linecolor": "white",
            "showbackground": true,
            "ticks": "",
            "zerolinecolor": "white"
           }
          },
          "shapedefaults": {
           "line": {
            "color": "#2a3f5f"
           }
          },
          "ternary": {
           "aaxis": {
            "gridcolor": "white",
            "linecolor": "white",
            "ticks": ""
           },
           "baxis": {
            "gridcolor": "white",
            "linecolor": "white",
            "ticks": ""
           },
           "bgcolor": "#E5ECF6",
           "caxis": {
            "gridcolor": "white",
            "linecolor": "white",
            "ticks": ""
           }
          },
          "title": {
           "x": 0.05
          },
          "xaxis": {
           "automargin": true,
           "gridcolor": "white",
           "linecolor": "white",
           "ticks": "",
           "title": {
            "standoff": 15
           },
           "zerolinecolor": "white",
           "zerolinewidth": 2
          },
          "yaxis": {
           "automargin": true,
           "gridcolor": "white",
           "linecolor": "white",
           "ticks": "",
           "title": {
            "standoff": 15
           },
           "zerolinecolor": "white",
           "zerolinewidth": 2
          }
         }
        },
        "xaxis": {
         "anchor": "y",
         "autorange": true,
         "domain": [
          0,
          1
         ],
         "range": [
          0,
          21
         ],
         "title": {
          "text": "time"
         },
         "type": "category"
        },
        "yaxis": {
         "anchor": "x",
         "autorange": true,
         "domain": [
          0,
          1
         ],
         "range": [
          0.615277777777778,
          9.809722222222222
         ],
         "title": {
          "text": "value"
         },
         "type": "linear"
        }
       }
      },
      "image/png": "[encoded data removed]",
      "text/html": [
       "<div>                            <div id=\"9688004a-30a5-4038-9e66-3ffaa8ab2b13\" class=\"plotly-graph-div\" style=\"height:525px; width:100%;\"></div>            <script type=\"text/javascript\">                require([\"plotly\"], function(Plotly) {                    window.PLOTLYENV=window.PLOTLYENV || {};                                    if (document.getElementById(\"9688004a-30a5-4038-9e66-3ffaa8ab2b13\")) {                    Plotly.newPlot(                        \"9688004a-30a5-4038-9e66-3ffaa8ab2b13\",                        [{\"hovertemplate\": \"team=Arizona Cardinals<br>time=%{x}<br>value=%{y}<extra></extra>\", \"legendgroup\": \"Arizona Cardinals\", \"line\": {\"color\": \"#636efa\", \"dash\": \"solid\"}, \"mode\": \"lines\", \"name\": \"Arizona Cardinals\", \"orientation\": \"v\", \"showlegend\": true, \"type\": \"scatter\", \"x\": [\"12:16\", \"12:17\", \"12:18\", \"12:19\", \"12:20\", \"12:21\", \"12:22\", \"12:23\", \"12:24\", \"12:25\", \"12:26\", \"12:27\", \"12:28\", \"12:29\", \"12:30\", \"12:31\", \"12:32\", \"12:33\", \"12:34\", \"12:35\", \"12:36\", \"12:37\"], \"xaxis\": \"x\", \"y\": [1.87, 1.87, 1.87, 1.87, 1.87, 1.87, 1.87, 1.87, 1.87, 1.87, 1.87, 1.87, 1.87, 1.87, 1.87, 1.87, 1.87, 1.87, 1.87, 1.87, 1.87, 1.87], \"yaxis\": \"y\"}, {\"hovertemplate\": \"team=Atlanta Falcons<br>time=%{x}<br>value=%{y}<extra></extra>\", \"legendgroup\": \"Atlanta Falcons\", \"line\": {\"color\": \"#EF553B\", \"dash\": \"solid\"}, \"mode\": \"lines\", \"name\": \"Atlanta Falcons\", \"orientation\": \"v\", \"showlegend\": true, \"type\": \"scatter\", \"x\": [\"12:16\", \"12:17\", \"12:18\", \"12:19\", \"12:20\", \"12:21\", \"12:22\", \"12:23\", \"12:24\", \"12:25\", \"12:26\", \"12:27\", \"12:28\", \"12:29\", \"12:30\", \"12:31\", \"12:32\", \"12:33\", \"12:34\", \"12:35\", \"12:36\", \"12:37\"], \"xaxis\": \"x\", \"y\": [3.675, 3.675, 3.675, 3.675, 3.675, 3.675, 3.675, 3.675, 3.675, 3.675, 3.675, 3.675, 3.675, 3.675, 3.675, 3.675, 3.675, 3.675, 3.675, 3.675, 3.675, 3.675], \"yaxis\": \"y\"}, {\"hovertemplate\": \"team=Baltimore Ravens<br>time=%{x}<br>value=%{y}<extra></extra>\", \"legendgroup\": \"Baltimore Ravens\", \"line\": {\"color\": \"#00cc96\", \"dash\": \"solid\"}, \"mode\": \"lines\", \"name\": \"Baltimore Ravens\", \"orientation\": \"v\", \"showlegend\": true, \"type\": \"scatter\", \"x\": [\"12:16\", \"12:17\", \"12:18\", \"12:19\", \"12:20\", \"12:21\", \"12:22\", \"12:23\", \"12:24\", \"12:25\", \"12:26\", \"12:27\", \"12:28\", \"12:29\", \"12:30\", \"12:31\", \"12:32\", \"12:33\", \"12:34\", \"12:35\", \"12:36\", \"12:37\"], \"xaxis\": \"x\", \"y\": [1.11, 1.11, 1.11, 1.11, 1.11, 1.11, 1.11, 1.11, 1.11, 1.11, 1.11, 1.11, 1.11, 1.11, 1.11, 1.11, 1.11, 1.11, 1.11, 1.11, 1.11, 1.11], \"yaxis\": \"y\"}, {\"hovertemplate\": \"team=Buffalo Bills<br>time=%{x}<br>value=%{y}<extra></extra>\", \"legendgroup\": \"Buffalo Bills\", \"line\": {\"color\": \"#ab63fa\", \"dash\": \"solid\"}, \"mode\": \"lines\", \"name\": \"Buffalo Bills\", \"orientation\": \"v\", \"showlegend\": true, \"type\": \"scatter\", \"x\": [\"12:16\", \"12:17\", \"12:18\", \"12:19\", \"12:20\", \"12:21\", \"12:22\", \"12:23\", \"12:24\", \"12:25\", \"12:26\", \"12:27\", \"12:28\", \"12:29\", \"12:30\", \"12:31\", \"12:32\", \"12:33\", \"12:34\", \"12:35\", \"12:36\", \"12:37\"], \"xaxis\": \"x\", \"y\": [2.645, 2.675, 2.675, 2.675, 2.675, 2.675, 2.625, 2.625, 2.55, 2.52, 2.52, 2.52, 2.52, 2.52, 2.52, 2.52, 2.52, 2.52, 2.52, 2.52, 2.52, 2.52], \"yaxis\": \"y\"}, {\"hovertemplate\": \"team=Carolina Panthers<br>time=%{x}<br>value=%{y}<extra></extra>\", \"legendgroup\": \"Carolina Panthers\", \"line\": {\"color\": \"#FFA15A\", \"dash\": \"solid\"}, \"mode\": \"lines\", \"name\": \"Carolina Panthers\", \"orientation\": \"v\", \"showlegend\": true, \"type\": \"scatter\", \"x\": [\"12:16\", \"12:17\", \"12:18\", \"12:19\", \"12:20\", \"12:21\", \"12:22\", \"12:23\", \"12:24\", \"12:25\", \"12:26\", \"12:27\", \"12:28\", \"12:29\", \"12:30\", \"12:31\", \"12:32\", \"12:33\", \"12:34\", \"12:35\", \"12:36\", \"12:37\"], \"xaxis\": \"x\", \"y\": [3.0999999999999996, 3.0999999999999996, 3.0999999999999996, 3.0999999999999996, 3.0999999999999996, 3.0999999999999996, 3.0999999999999996, 3.0999999999999996, 3.0999999999999996, 3.0999999999999996, 3.0999999999999996, 3.0999999999999996, 3.0999999999999996, 3.0999999999999996, 3.0999999999999996, 3.0999999999999996, 3.0999999999999996, 3.0999999999999996, 3.0999999999999996, 3.0999999999999996, 3.0999999999999996, 3.0999999999999996], \"yaxis\": \"y\"}, {\"hovertemplate\": \"team=Chicago Bears<br>time=%{x}<br>value=%{y}<extra></extra>\", \"legendgroup\": \"Chicago Bears\", \"line\": {\"color\": \"#19d3f3\", \"dash\": \"solid\"}, \"mode\": \"lines\", \"name\": \"Chicago Bears\", \"orientation\": \"v\", \"showlegend\": true, \"type\": \"scatter\", \"x\": [\"12:16\", \"12:17\", \"12:18\", \"12:19\", \"12:20\", \"12:21\", \"12:22\", \"12:23\", \"12:24\", \"12:25\", \"12:26\", \"12:27\", \"12:28\", \"12:29\", \"12:30\", \"12:31\", \"12:32\", \"12:33\", \"12:34\", \"12:35\", \"12:36\", \"12:37\"], \"xaxis\": \"x\", \"y\": [2.8899999999999997, 2.8899999999999997, 2.8899999999999997, 2.8899999999999997, 2.8899999999999997, 2.8899999999999997, 2.8899999999999997, 2.8899999999999997, 2.8899999999999997, 2.8899999999999997, 2.94, 2.94, 2.915, 2.915, 2.915, 2.915, 2.915, 2.915, 2.915, 2.915, 2.915, 2.915], \"yaxis\": \"y\"}, {\"hovertemplate\": \"team=Cincinnati Bengals<br>time=%{x}<br>value=%{y}<extra></extra>\", \"legendgroup\": \"Cincinnati Bengals\", \"line\": {\"color\": \"#FF6692\", \"dash\": \"solid\"}, \"mode\": \"lines\", \"name\": \"Cincinnati Bengals\", \"orientation\": \"v\", \"showlegend\": true, \"type\": \"scatter\", \"x\": [\"12:16\", \"12:17\", \"12:18\", \"12:19\", \"12:20\", \"12:21\", \"12:22\", \"12:23\", \"12:24\", \"12:25\", \"12:26\", \"12:27\", \"12:28\", \"12:29\", \"12:30\", \"12:31\", \"12:32\", \"12:33\", \"12:34\", \"12:35\", \"12:36\", \"12:37\"], \"xaxis\": \"x\", \"y\": [7.3, 7.3, 7.3, 7.3, 7.3, 7.3, 7.3, 7.3, 7.3, 7.3, 7.3, 7.3, 7.3, 7.3, 7.3, 7.3, 7.3, 7.3, 7.3, 7.3, 7.3, 7.3], \"yaxis\": \"y\"}, {\"hovertemplate\": \"team=Cleveland Browns<br>time=%{x}<br>value=%{y}<extra></extra>\", \"legendgroup\": \"Cleveland Browns\", \"line\": {\"color\": \"#B6E880\", \"dash\": \"solid\"}, \"mode\": \"lines\", \"name\": \"Cleveland Browns\", \"orientation\": \"v\", \"showlegend\": true, \"type\": \"scatter\", \"x\": [\"12:16\", \"12:17\", \"12:18\", \"12:19\", \"12:20\", \"12:21\", \"12:22\", \"12:23\", \"12:24\", \"12:25\", \"12:26\", \"12:27\", \"12:28\", \"12:29\", \"12:30\", \"12:31\", \"12:32\", \"12:33\", \"12:34\", \"12:35\", \"12:36\", \"12:37\"], \"xaxis\": \"x\", \"y\": [1.205, 1.205, 1.205, 1.205, 1.205, 1.205, 1.205, 1.205, 1.205, 1.205, 1.205, 1.205, 1.205, 1.205, 1.205, 1.205, 1.205, 1.205, 1.205, 1.205, 1.205, 1.205], \"yaxis\": \"y\"}, {\"hovertemplate\": \"team=Dallas Cowboys<br>time=%{x}<br>value=%{y}<extra></extra>\", \"legendgroup\": \"Dallas Cowboys\", \"line\": {\"color\": \"#FF97FF\", \"dash\": \"solid\"}, \"mode\": \"lines\", \"name\": \"Dallas Cowboys\", \"orientation\": \"v\", \"showlegend\": true, \"type\": \"scatter\", \"x\": [\"12:16\", \"12:17\", \"12:18\", \"12:19\", \"12:20\", \"12:21\", \"12:22\", \"12:23\", \"12:24\", \"12:25\", \"12:26\", \"12:27\", \"12:28\", \"12:29\", \"12:30\", \"12:31\", \"12:32\", \"12:33\", \"12:34\", \"12:35\", \"12:36\", \"12:37\"], \"xaxis\": \"x\", \"y\": [1.77, 1.77, 1.77, 1.77, 1.77, 1.77, 1.77, 1.77, 1.77, 1.77, 1.77, 1.77, 1.77, 1.77, 1.77, 1.77, 1.77, 1.77, 1.77, 1.77, 1.77, 1.77], \"yaxis\": \"y\"}, {\"hovertemplate\": \"team=Denver Broncos<br>time=%{x}<br>value=%{y}<extra></extra>\", \"legendgroup\": \"Denver Broncos\", \"line\": {\"color\": \"#FECB52\", \"dash\": \"solid\"}, \"mode\": \"lines\", \"name\": \"Denver Broncos\", \"orientation\": \"v\", \"showlegend\": true, \"type\": \"scatter\", \"x\": [\"12:16\", \"12:17\", \"12:18\", \"12:19\", \"12:20\", \"12:21\", \"12:22\", \"12:23\", \"12:24\", \"12:25\", \"12:26\", \"12:27\", \"12:28\", \"12:29\", \"12:30\", \"12:31\", \"12:32\", \"12:33\", \"12:34\", \"12:35\", \"12:36\", \"12:37\"], \"xaxis\": \"x\", \"y\": [2.245, 2.245, 2.245, 2.245, 2.245, 2.245, 2.245, 2.245, 2.245, 2.245, 2.245, 2.245, 2.245, 2.245, 2.245, 2.245, 2.245, 2.245, 2.245, 2.245, 2.245, 2.245], \"yaxis\": \"y\"}, {\"hovertemplate\": \"team=Detroit Lions<br>time=%{x}<br>value=%{y}<extra></extra>\", \"legendgroup\": \"Detroit Lions\", \"line\": {\"color\": \"#636efa\", \"dash\": \"solid\"}, \"mode\": \"lines\", \"name\": \"Detroit Lions\", \"orientation\": \"v\", \"showlegend\": true, \"type\": \"scatter\", \"x\": [\"12:16\", \"12:17\", \"12:18\", \"12:19\", \"12:20\", \"12:21\", \"12:22\", \"12:23\", \"12:24\", \"12:25\", \"12:26\", \"12:27\", \"12:28\", \"12:29\", \"12:30\", \"12:31\", \"12:32\", \"12:33\", \"12:34\", \"12:35\", \"12:36\", \"12:37\"], \"xaxis\": \"x\", \"y\": [2.425, 2.425, 2.425, 2.425, 2.425, 2.425, 2.425, 2.425, 2.425, 2.425, 2.425, 2.425, 2.425, 2.425, 2.425, 2.425, 2.425, 2.425, 2.425, 2.425, 2.425, 2.425], \"yaxis\": \"y\"}, {\"hovertemplate\": \"team=Green Bay Packers<br>time=%{x}<br>value=%{y}<extra></extra>\", \"legendgroup\": \"Green Bay Packers\", \"line\": {\"color\": \"#EF553B\", \"dash\": \"solid\"}, \"mode\": \"lines\", \"name\": \"Green Bay Packers\", \"orientation\": \"v\", \"showlegend\": true, \"type\": \"scatter\", \"x\": [\"12:16\", \"12:17\", \"12:18\", \"12:19\", \"12:20\", \"12:21\", \"12:22\", \"12:23\", \"12:24\", \"12:25\", \"12:26\", \"12:27\", \"12:28\", \"12:29\", \"12:30\", \"12:31\", \"12:32\", \"12:33\", \"12:34\", \"12:35\", \"12:36\", \"12:37\"], \"xaxis\": \"x\", \"y\": [1.44, 1.44, 1.44, 1.44, 1.44, 1.44, 1.44, 1.44, 1.44, 1.44, 1.435, 1.435, 1.435, 1.435, 1.435, 1.435, 1.435, 1.435, 1.435, 1.435, 1.435, 1.435], \"yaxis\": \"y\"}, {\"hovertemplate\": \"team=Houston Texans<br>time=%{x}<br>value=%{y}<extra></extra>\", \"legendgroup\": \"Houston Texans\", \"line\": {\"color\": \"#00cc96\", \"dash\": \"solid\"}, \"mode\": \"lines\", \"name\": \"Houston Texans\", \"orientation\": \"v\", \"showlegend\": true, \"type\": \"scatter\", \"x\": [\"12:16\", \"12:17\", \"12:18\", \"12:19\", \"12:20\", \"12:21\", \"12:22\", \"12:23\", \"12:24\", \"12:25\", \"12:26\", \"12:27\", \"12:28\", \"12:29\", \"12:30\", \"12:31\", \"12:32\", \"12:33\", \"12:34\", \"12:35\", \"12:36\", \"12:37\"], \"xaxis\": \"x\", \"y\": [3.75, 3.75, 3.75, 3.75, 3.75, 3.75, 3.75, 3.675, 3.675, 3.675, 3.675, 3.675, 3.675, 3.675, 3.675, 3.675, 3.675, 3.675, 3.675, 3.675, 3.675, 3.675], \"yaxis\": \"y\"}, {\"hovertemplate\": \"team=Indianapolis Colts<br>time=%{x}<br>value=%{y}<extra></extra>\", \"legendgroup\": \"Indianapolis Colts\", \"line\": {\"color\": \"#ab63fa\", \"dash\": \"solid\"}, \"mode\": \"lines\", \"name\": \"Indianapolis Colts\", \"orientation\": \"v\", \"showlegend\": true, \"type\": \"scatter\", \"x\": [\"12:16\", \"12:17\", \"12:18\", \"12:19\", \"12:20\", \"12:21\", \"12:22\", \"12:23\", \"12:24\", \"12:25\", \"12:26\", \"12:27\", \"12:28\", \"12:29\", \"12:30\", \"12:31\", \"12:32\", \"12:33\", \"12:34\", \"12:35\", \"12:36\", \"12:37\"], \"xaxis\": \"x\", \"y\": [1.0750000000000002, 1.0750000000000002, 1.0750000000000002, 1.0750000000000002, 1.0750000000000002, 1.0750000000000002, 1.0750000000000002, 1.0750000000000002, 1.0750000000000002, 1.0750000000000002, 1.0750000000000002, 1.0750000000000002, 1.0750000000000002, 1.0750000000000002, 1.0750000000000002, 1.0750000000000002, 1.0750000000000002, 1.0750000000000002, 1.0750000000000002, 1.0750000000000002, 1.0750000000000002, 1.0750000000000002], \"yaxis\": \"y\"}, {\"hovertemplate\": \"team=Jacksonville Jaguars<br>time=%{x}<br>value=%{y}<extra></extra>\", \"legendgroup\": \"Jacksonville Jaguars\", \"line\": {\"color\": \"#FFA15A\", \"dash\": \"solid\"}, \"mode\": \"lines\", \"name\": \"Jacksonville Jaguars\", \"orientation\": \"v\", \"showlegend\": true, \"type\": \"scatter\", \"x\": [\"12:16\", \"12:17\", \"12:18\", \"12:19\", \"12:20\", \"12:21\", \"12:22\", \"12:23\", \"12:24\", \"12:25\", \"12:26\", \"12:27\", \"12:28\", \"12:29\", \"12:30\", \"12:31\", \"12:32\", \"12:33\", \"12:34\", \"12:35\", \"12:36\", \"12:37\"], \"xaxis\": \"x\", \"y\": [9.35, 9.35, 9.35, 9.35, 9.35, 9.35, 9.35, 9.35, 9.35, 9.35, 9.35, 9.35, 9.35, 9.35, 9.35, 9.35, 9.35, 9.35, 9.35, 9.35, 9.35, 9.35], \"yaxis\": \"y\"}, {\"hovertemplate\": \"team=Kansas City Chiefs<br>time=%{x}<br>value=%{y}<extra></extra>\", \"legendgroup\": \"Kansas City Chiefs\", \"line\": {\"color\": \"#19d3f3\", \"dash\": \"solid\"}, \"mode\": \"lines\", \"name\": \"Kansas City Chiefs\", \"orientation\": \"v\", \"showlegend\": true, \"type\": \"scatter\", \"x\": [\"12:16\", \"12:17\", \"12:18\", \"12:19\", \"12:20\", \"12:21\", \"12:22\", \"12:23\", \"12:24\", \"12:25\", \"12:26\", \"12:27\", \"12:28\", \"12:29\", \"12:30\", \"12:31\", \"12:32\", \"12:33\", \"12:34\", \"12:35\", \"12:36\", \"12:37\"], \"xaxis\": \"x\", \"y\": [3.15, 3.225, 3.225, 3.25, 3.25, 3.25, 3.25, 3.25, 3.25, 3.25, 3.25, 3.25, 3.25, 3.25, 3.25, 3.475, 3.475, 3.475, 3.475, 3.475, 3.475, 3.475], \"yaxis\": \"y\"}, {\"hovertemplate\": \"team=Las Vegas Raiders<br>time=%{x}<br>value=%{y}<extra></extra>\", \"legendgroup\": \"Las Vegas Raiders\", \"line\": {\"color\": \"#FF6692\", \"dash\": \"solid\"}, \"mode\": \"lines\", \"name\": \"Las Vegas Raiders\", \"orientation\": \"v\", \"showlegend\": true, \"type\": \"scatter\", \"x\": [\"12:16\", \"12:17\", \"12:18\", \"12:19\", \"12:20\", \"12:21\", \"12:22\", \"12:23\", \"12:24\", \"12:25\", \"12:26\", \"12:27\", \"12:28\", \"12:29\", \"12:30\", \"12:31\", \"12:32\", \"12:33\", \"12:34\", \"12:35\", \"12:36\", \"12:37\"], \"xaxis\": \"x\", \"y\": [1.69, 1.69, 1.69, 1.69, 1.69, 1.69, 1.69, 1.69, 1.69, 1.69, 1.69, 1.69, 1.69, 1.69, 1.69, 1.69, 1.69, 1.69, 1.69, 1.69, 1.69, 1.69], \"yaxis\": \"y\"}, {\"hovertemplate\": \"team=Los Angeles Chargers<br>time=%{x}<br>value=%{y}<extra></extra>\", \"legendgroup\": \"Los Angeles Chargers\", \"line\": {\"color\": \"#B6E880\", \"dash\": \"solid\"}, \"mode\": \"lines\", \"name\": \"Los Angeles Chargers\", \"orientation\": \"v\", \"showlegend\": true, \"type\": \"scatter\", \"x\": [\"12:16\", \"12:17\", \"12:18\", \"12:19\", \"12:20\", \"12:21\", \"12:22\", \"12:23\", \"12:24\", \"12:25\", \"12:26\", \"12:27\", \"12:28\", \"12:29\", \"12:30\", \"12:31\", \"12:32\", \"12:33\", \"12:34\", \"12:35\", \"12:36\", \"12:37\"], \"xaxis\": \"x\", \"y\": [1.38, 1.3650000000000002, 1.3650000000000002, 1.36, 1.36, 1.36, 1.36, 1.36, 1.36, 1.36, 1.36, 1.36, 1.36, 1.36, 1.36, 1.33, 1.33, 1.33, 1.33, 1.33, 1.33, 1.33], \"yaxis\": \"y\"}, {\"hovertemplate\": \"team=Los Angeles Rams<br>time=%{x}<br>value=%{y}<extra></extra>\", \"legendgroup\": \"Los Angeles Rams\", \"line\": {\"color\": \"#FF97FF\", \"dash\": \"solid\"}, \"mode\": \"lines\", \"name\": \"Los Angeles Rams\", \"orientation\": \"v\", \"showlegend\": true, \"type\": \"scatter\", \"x\": [\"12:16\", \"12:17\", \"12:18\", \"12:19\", \"12:20\", \"12:21\", \"12:22\", \"12:23\", \"12:24\", \"12:25\", \"12:26\", \"12:27\", \"12:28\", \"12:29\", \"12:30\", \"12:31\", \"12:32\", \"12:33\", \"12:34\", \"12:35\", \"12:36\", \"12:37\"], \"xaxis\": \"x\", \"y\": [1.975, 1.975, 1.975, 1.975, 1.975, 1.975, 1.975, 1.975, 1.975, 1.975, 1.975, 1.975, 1.975, 1.975, 1.975, 1.975, 1.975, 1.975, 1.975, 1.975, 1.975, 1.975], \"yaxis\": \"y\"}, {\"hovertemplate\": \"team=Miami Dolphins<br>time=%{x}<br>value=%{y}<extra></extra>\", \"legendgroup\": \"Miami Dolphins\", \"line\": {\"color\": \"#FECB52\", \"dash\": \"solid\"}, \"mode\": \"lines\", \"name\": \"Miami Dolphins\", \"orientation\": \"v\", \"showlegend\": true, \"type\": \"scatter\", \"x\": [\"12:16\", \"12:17\", \"12:18\", \"12:19\", \"12:20\", \"12:21\", \"12:22\", \"12:23\", \"12:24\", \"12:25\", \"12:26\", \"12:27\", \"12:28\", \"12:29\", \"12:30\", \"12:31\", \"12:32\", \"12:33\", \"12:34\", \"12:35\", \"12:36\", \"12:37\"], \"xaxis\": \"x\", \"y\": [1.51, 1.505, 1.505, 1.505, 1.505, 1.505, 1.52, 1.52, 1.55, 1.5550000000000002, 1.5550000000000002, 1.5550000000000002, 1.5550000000000002, 1.5550000000000002, 1.5550000000000002, 1.5550000000000002, 1.5550000000000002, 1.5550000000000002, 1.5550000000000002, 1.5550000000000002, 1.5550000000000002, 1.5550000000000002], \"yaxis\": \"y\"}, {\"hovertemplate\": \"team=Minnesota Vikings<br>time=%{x}<br>value=%{y}<extra></extra>\", \"legendgroup\": \"Minnesota Vikings\", \"line\": {\"color\": \"#636efa\", \"dash\": \"solid\"}, \"mode\": \"lines\", \"name\": \"Minnesota Vikings\", \"orientation\": \"v\", \"showlegend\": true, \"type\": \"scatter\", \"x\": [\"12:16\", \"12:17\", \"12:18\", \"12:19\", \"12:20\", \"12:21\", \"12:22\", \"12:23\", \"12:24\", \"12:25\", \"12:26\", \"12:27\", \"12:28\", \"12:29\", \"12:30\", \"12:31\", \"12:32\", \"12:33\", \"12:34\", \"12:35\", \"12:36\", \"12:37\"], \"xaxis\": \"x\", \"y\": [1.6, 1.6, 1.6, 1.6, 1.6, 1.6, 1.6, 1.6, 1.6, 1.6, 1.6, 1.6, 1.6, 1.6, 1.6, 1.6, 1.6, 1.6, 1.6, 1.6, 1.6, 1.6], \"yaxis\": \"y\"}, {\"hovertemplate\": \"team=New England Patriots<br>time=%{x}<br>value=%{y}<extra></extra>\", \"legendgroup\": \"New England Patriots\", \"line\": {\"color\": \"#EF553B\", \"dash\": \"solid\"}, \"mode\": \"lines\", \"name\": \"New England Patriots\", \"orientation\": \"v\", \"showlegend\": true, \"type\": \"scatter\", \"x\": [\"12:16\", \"12:17\", \"12:18\", \"12:19\", \"12:20\", \"12:21\", \"12:22\", \"12:23\", \"12:24\", \"12:25\", \"12:26\", \"12:27\", \"12:28\", \"12:29\", \"12:30\", \"12:31\", \"12:32\", \"12:33\", \"12:34\", \"12:35\", \"12:36\", \"12:37\"], \"xaxis\": \"x\", \"y\": [1.6749999999999998, 1.6749999999999998, 1.6749999999999998, 1.6749999999999998, 1.6749999999999998, 1.6549999999999998, 1.6549999999999998, 1.6549999999999998, 1.6549999999999998, 1.6549999999999998, 1.6549999999999998, 1.6549999999999998, 1.6549999999999998, 1.6549999999999998, 1.6549999999999998, 1.6549999999999998, 1.6549999999999998, 1.6549999999999998, 1.635, 1.635, 1.635, 1.635], \"yaxis\": \"y\"}, {\"hovertemplate\": \"team=New Orleans Saints<br>time=%{x}<br>value=%{y}<extra></extra>\", \"legendgroup\": \"New Orleans Saints\", \"line\": {\"color\": \"#00cc96\", \"dash\": \"solid\"}, \"mode\": \"lines\", \"name\": \"New Orleans Saints\", \"orientation\": \"v\", \"showlegend\": true, \"type\": \"scatter\", \"x\": [\"12:16\", \"12:17\", \"12:18\", \"12:19\", \"12:20\", \"12:21\", \"12:22\", \"12:23\", \"12:24\", \"12:25\", \"12:26\", \"12:27\", \"12:28\", \"12:29\", \"12:30\", \"12:31\", \"12:32\", \"12:33\", \"12:34\", \"12:35\", \"12:36\", \"12:37\"], \"xaxis\": \"x\", \"y\": [1.4, 1.4, 1.4, 1.4, 1.4, 1.4, 1.4, 1.4, 1.4, 1.4, 1.4, 1.4, 1.4, 1.4, 1.4, 1.4, 1.4, 1.4, 1.4, 1.4, 1.4, 1.4], \"yaxis\": \"y\"}, {\"hovertemplate\": \"team=New York Giants<br>time=%{x}<br>value=%{y}<extra></extra>\", \"legendgroup\": \"New York Giants\", \"line\": {\"color\": \"#ab63fa\", \"dash\": \"solid\"}, \"mode\": \"lines\", \"name\": \"New York Giants\", \"orientation\": \"v\", \"showlegend\": true, \"type\": \"scatter\", \"x\": [\"12:16\", \"12:17\", \"12:18\", \"12:19\", \"12:20\", \"12:21\", \"12:22\", \"12:23\", \"12:24\", \"12:25\", \"12:26\", \"12:27\", \"12:28\", \"12:29\", \"12:30\", \"12:31\", \"12:32\", \"12:33\", \"12:34\", \"12:35\", \"12:36\", \"12:37\"], \"xaxis\": \"x\", \"y\": [2.12, 2.12, 2.12, 2.12, 2.12, 2.12, 2.12, 2.12, 2.12, 2.12, 2.12, 2.12, 2.12, 2.12, 2.12, 2.12, 2.12, 2.12, 2.12, 2.12, 2.12, 2.12], \"yaxis\": \"y\"}, {\"hovertemplate\": \"team=New York Jets<br>time=%{x}<br>value=%{y}<extra></extra>\", \"legendgroup\": \"New York Jets\", \"line\": {\"color\": \"#FFA15A\", \"dash\": \"solid\"}, \"mode\": \"lines\", \"name\": \"New York Jets\", \"orientation\": \"v\", \"showlegend\": true, \"type\": \"scatter\", \"x\": [\"12:16\", \"12:17\", \"12:18\", \"12:19\", \"12:20\", \"12:21\", \"12:22\", \"12:23\", \"12:24\", \"12:25\", \"12:26\", \"12:27\", \"12:28\", \"12:29\", \"12:30\", \"12:31\", \"12:32\", \"12:33\", \"12:34\", \"12:35\", \"12:36\", \"12:37\"], \"xaxis\": \"x\", \"y\": [2.27, 2.27, 2.27, 2.27, 2.27, 2.3099999999999996, 2.3099999999999996, 2.3099999999999996, 2.3099999999999996, 2.3099999999999996, 2.3099999999999996, 2.3099999999999996, 2.3099999999999996, 2.3099999999999996, 2.3099999999999996, 2.3099999999999996, 2.3099999999999996, 2.3099999999999996, 2.3499999999999996, 2.3499999999999996, 2.3499999999999996, 2.3499999999999996], \"yaxis\": \"y\"}, {\"hovertemplate\": \"team=Philadelphia Eagles<br>time=%{x}<br>value=%{y}<extra></extra>\", \"legendgroup\": \"Philadelphia Eagles\", \"line\": {\"color\": \"#19d3f3\", \"dash\": \"solid\"}, \"mode\": \"lines\", \"name\": \"Philadelphia Eagles\", \"orientation\": \"v\", \"showlegend\": true, \"type\": \"scatter\", \"x\": [\"12:16\", \"12:17\", \"12:18\", \"12:19\", \"12:20\", \"12:21\", \"12:22\", \"12:23\", \"12:24\", \"12:25\", \"12:26\", \"12:27\", \"12:28\", \"12:29\", \"12:30\", \"12:31\", \"12:32\", \"12:33\", \"12:34\", \"12:35\", \"12:36\", \"12:37\"], \"xaxis\": \"x\", \"y\": [3.2, 3.2, 3.2, 3.2, 3.2, 3.2, 3.2, 3.2, 3.2, 3.2, 3.2, 3.2, 3.2, 3.2, 3.2, 3.325, 3.325, 3.325, 3.325, 3.325, 3.325, 3.325], \"yaxis\": \"y\"}, {\"hovertemplate\": \"team=Pittsburgh Steelers<br>time=%{x}<br>value=%{y}<extra></extra>\", \"legendgroup\": \"Pittsburgh Steelers\", \"line\": {\"color\": \"#FF6692\", \"dash\": \"solid\"}, \"mode\": \"lines\", \"name\": \"Pittsburgh Steelers\", \"orientation\": \"v\", \"showlegend\": true, \"type\": \"scatter\", \"x\": [\"12:16\", \"12:17\", \"12:18\", \"12:19\", \"12:20\", \"12:21\", \"12:22\", \"12:23\", \"12:24\", \"12:25\", \"12:26\", \"12:27\", \"12:28\", \"12:29\", \"12:30\", \"12:31\", \"12:32\", \"12:33\", \"12:34\", \"12:35\", \"12:36\", \"12:37\"], \"xaxis\": \"x\", \"y\": [4.824999999999999, 4.824999999999999, 4.824999999999999, 4.824999999999999, 4.824999999999999, 4.824999999999999, 4.824999999999999, 4.824999999999999, 4.824999999999999, 4.824999999999999, 4.824999999999999, 4.824999999999999, 4.824999999999999, 4.824999999999999, 4.824999999999999, 4.824999999999999, 4.824999999999999, 4.824999999999999, 4.824999999999999, 4.824999999999999, 4.824999999999999, 4.824999999999999], \"yaxis\": \"y\"}, {\"hovertemplate\": \"team=San Francisco 49ers<br>time=%{x}<br>value=%{y}<extra></extra>\", \"legendgroup\": \"San Francisco 49ers\", \"line\": {\"color\": \"#B6E880\", \"dash\": \"solid\"}, \"mode\": \"lines\", \"name\": \"San Francisco 49ers\", \"orientation\": \"v\", \"showlegend\": true, \"type\": \"scatter\", \"x\": [\"12:16\", \"12:17\", \"12:18\", \"12:19\", \"12:20\", \"12:21\", \"12:22\", \"12:23\", \"12:24\", \"12:25\", \"12:26\", \"12:27\", \"12:28\", \"12:29\", \"12:30\", \"12:31\", \"12:32\", \"12:33\", \"12:34\", \"12:35\", \"12:36\", \"12:37\"], \"xaxis\": \"x\", \"y\": [3.7750000000000004, 3.7750000000000004, 3.7750000000000004, 3.7750000000000004, 3.7750000000000004, 3.7750000000000004, 3.7750000000000004, 3.7750000000000004, 3.7750000000000004, 3.7750000000000004, 3.7750000000000004, 3.7750000000000004, 3.7750000000000004, 3.7750000000000004, 3.7750000000000004, 3.7750000000000004, 3.7750000000000004, 3.7750000000000004, 3.7750000000000004, 3.7750000000000004, 3.7750000000000004, 3.7750000000000004], \"yaxis\": \"y\"}, {\"hovertemplate\": \"team=Seattle Seahawks<br>time=%{x}<br>value=%{y}<extra></extra>\", \"legendgroup\": \"Seattle Seahawks\", \"line\": {\"color\": \"#FF97FF\", \"dash\": \"solid\"}, \"mode\": \"lines\", \"name\": \"Seattle Seahawks\", \"orientation\": \"v\", \"showlegend\": true, \"type\": \"scatter\", \"x\": [\"12:16\", \"12:17\", \"12:18\", \"12:19\", \"12:20\", \"12:21\", \"12:22\", \"12:23\", \"12:24\", \"12:25\", \"12:26\", \"12:27\", \"12:28\", \"12:29\", \"12:30\", \"12:31\", \"12:32\", \"12:33\", \"12:34\", \"12:35\", \"12:36\", \"12:37\"], \"xaxis\": \"x\", \"y\": [1.29, 1.29, 1.29, 1.29, 1.29, 1.29, 1.29, 1.29, 1.29, 1.29, 1.29, 1.29, 1.29, 1.29, 1.29, 1.29, 1.29, 1.29, 1.29, 1.29, 1.29, 1.29], \"yaxis\": \"y\"}, {\"hovertemplate\": \"team=Tampa Bay Buccaneers<br>time=%{x}<br>value=%{y}<extra></extra>\", \"legendgroup\": \"Tampa Bay Buccaneers\", \"line\": {\"color\": \"#FECB52\", \"dash\": \"solid\"}, \"mode\": \"lines\", \"name\": \"Tampa Bay Buccaneers\", \"orientation\": \"v\", \"showlegend\": true, \"type\": \"scatter\", \"x\": [\"12:16\", \"12:17\", \"12:18\", \"12:19\", \"12:20\", \"12:21\", \"12:22\", \"12:23\", \"12:24\", \"12:25\", \"12:26\", \"12:27\", \"12:28\", \"12:29\", \"12:30\", \"12:31\", \"12:32\", \"12:33\", \"12:34\", \"12:35\", \"12:36\", \"12:37\"], \"xaxis\": \"x\", \"y\": [1.3050000000000002, 1.3050000000000002, 1.3050000000000002, 1.3050000000000002, 1.3050000000000002, 1.3050000000000002, 1.3050000000000002, 1.3050000000000002, 1.3050000000000002, 1.3050000000000002, 1.3050000000000002, 1.3050000000000002, 1.3050000000000002, 1.3050000000000002, 1.3050000000000002, 1.3050000000000002, 1.3050000000000002, 1.3050000000000002, 1.3050000000000002, 1.3050000000000002, 1.3050000000000002, 1.3050000000000002], \"yaxis\": \"y\"}, {\"hovertemplate\": \"team=Tennessee Titans<br>time=%{x}<br>value=%{y}<extra></extra>\", \"legendgroup\": \"Tennessee Titans\", \"line\": {\"color\": \"#636efa\", \"dash\": \"solid\"}, \"mode\": \"lines\", \"name\": \"Tennessee Titans\", \"orientation\": \"v\", \"showlegend\": true, \"type\": \"scatter\", \"x\": [\"12:16\", \"12:17\", \"12:18\", \"12:19\", \"12:20\", \"12:21\", \"12:22\", \"12:23\", \"12:24\", \"12:25\", \"12:26\", \"12:27\", \"12:28\", \"12:29\", \"12:30\", \"12:31\", \"12:32\", \"12:33\", \"12:34\", \"12:35\", \"12:36\", \"12:37\"], \"xaxis\": \"x\", \"y\": [1.3050000000000002, 1.3050000000000002, 1.3050000000000002, 1.3050000000000002, 1.3050000000000002, 1.3050000000000002, 1.3050000000000002, 1.31, 1.31, 1.31, 1.31, 1.31, 1.31, 1.31, 1.31, 1.31, 1.31, 1.31, 1.31, 1.31, 1.31, 1.31], \"yaxis\": \"y\"}, {\"hovertemplate\": \"team=Washington Football Team<br>time=%{x}<br>value=%{y}<extra></extra>\", \"legendgroup\": \"Washington Football Team\", \"line\": {\"color\": \"#EF553B\", \"dash\": \"solid\"}, \"mode\": \"lines\", \"name\": \"Washington Football Team\", \"orientation\": \"v\", \"showlegend\": true, \"type\": \"scatter\", \"x\": [\"12:16\", \"12:17\", \"12:18\", \"12:19\", \"12:20\", \"12:21\", \"12:22\", \"12:23\", \"12:24\", \"12:25\", \"12:26\", \"12:27\", \"12:28\", \"12:29\", \"12:30\", \"12:31\", \"12:32\", \"12:33\", \"12:34\", \"12:35\", \"12:36\", \"12:37\"], \"xaxis\": \"x\", \"y\": [1.38, 1.38, 1.38, 1.38, 1.38, 1.38, 1.38, 1.38, 1.38, 1.38, 1.38, 1.38, 1.38, 1.38, 1.38, 1.355, 1.355, 1.355, 1.355, 1.355, 1.355, 1.355], \"yaxis\": \"y\"}],                        {\"legend\": {\"title\": {\"text\": \"team\"}, \"tracegroupgap\": 0}, \"margin\": {\"t\": 60}, \"template\": {\"data\": {\"bar\": [{\"error_x\": {\"color\": \"#2a3f5f\"}, \"error_y\": {\"color\": \"#2a3f5f\"}, \"marker\": {\"line\": {\"color\": \"#E5ECF6\", \"width\": 0.5}}, \"type\": \"bar\"}], \"barpolar\": [{\"marker\": {\"line\": {\"color\": \"#E5ECF6\", \"width\": 0.5}}, \"type\": \"barpolar\"}], \"carpet\": [{\"aaxis\": {\"endlinecolor\": \"#2a3f5f\", \"gridcolor\": \"white\", \"linecolor\": \"white\", \"minorgridcolor\": \"white\", \"startlinecolor\": \"#2a3f5f\"}, \"baxis\": {\"endlinecolor\": \"#2a3f5f\", \"gridcolor\": \"white\", \"linecolor\": \"white\", \"minorgridcolor\": \"white\", \"startlinecolor\": \"#2a3f5f\"}, \"type\": \"carpet\"}], \"choropleth\": [{\"colorbar\": {\"outlinewidth\": 0, \"ticks\": \"\"}, \"type\": \"choropleth\"}], \"contour\": [{\"colorbar\": {\"outlinewidth\": 0, \"ticks\": \"\"}, \"colorscale\": [[0.0, \"#0d0887\"], [0.1111111111111111, \"#46039f\"], [0.2222222222222222, \"#7201a8\"], [0.3333333333333333, \"#9c179e\"], [0.4444444444444444, \"#bd3786\"], [0.5555555555555556, \"#d8576b\"], [0.6666666666666666, \"#ed7953\"], [0.7777777777777778, \"#fb9f3a\"], [0.8888888888888888, \"#fdca26\"], [1.0, \"#f0f921\"]], \"type\": \"contour\"}], \"contourcarpet\": [{\"colorbar\": {\"outlinewidth\": 0, \"ticks\": \"\"}, \"type\": \"contourcarpet\"}], \"heatmap\": [{\"colorbar\": {\"outlinewidth\": 0, \"ticks\": \"\"}, \"colorscale\": [[0.0, \"#0d0887\"], [0.1111111111111111, \"#46039f\"], [0.2222222222222222, \"#7201a8\"], [0.3333333333333333, \"#9c179e\"], [0.4444444444444444, \"#bd3786\"], [0.5555555555555556, \"#d8576b\"], [0.6666666666666666, \"#ed7953\"], [0.7777777777777778, \"#fb9f3a\"], [0.8888888888888888, \"#fdca26\"], [1.0, \"#f0f921\"]], \"type\": \"heatmap\"}], \"heatmapgl\": [{\"colorbar\": {\"outlinewidth\": 0, \"ticks\": \"\"}, \"colorscale\": [[0.0, \"#0d0887\"], [0.1111111111111111, \"#46039f\"], [0.2222222222222222, \"#7201a8\"], [0.3333333333333333, \"#9c179e\"], [0.4444444444444444, \"#bd3786\"], [0.5555555555555556, \"#d8576b\"], [0.6666666666666666, \"#ed7953\"], [0.7777777777777778, \"#fb9f3a\"], [0.8888888888888888, \"#fdca26\"], [1.0, \"#f0f921\"]], \"type\": \"heatmapgl\"}], \"histogram\": [{\"marker\": {\"colorbar\": {\"outlinewidth\": 0, \"ticks\": \"\"}}, \"type\": \"histogram\"}], \"histogram2d\": [{\"colorbar\": {\"outlinewidth\": 0, \"ticks\": \"\"}, \"colorscale\": [[0.0, \"#0d0887\"], [0.1111111111111111, \"#46039f\"], [0.2222222222222222, \"#7201a8\"], [0.3333333333333333, \"#9c179e\"], [0.4444444444444444, \"#bd3786\"], [0.5555555555555556, \"#d8576b\"], [0.6666666666666666, \"#ed7953\"], [0.7777777777777778, \"#fb9f3a\"], [0.8888888888888888, \"#fdca26\"], [1.0, \"#f0f921\"]], \"type\": \"histogram2d\"}], \"histogram2dcontour\": [{\"colorbar\": {\"outlinewidth\": 0, \"ticks\": \"\"}, \"colorscale\": [[0.0, \"#0d0887\"], [0.1111111111111111, \"#46039f\"], [0.2222222222222222, \"#7201a8\"], [0.3333333333333333, \"#9c179e\"], [0.4444444444444444, \"#bd3786\"], [0.5555555555555556, \"#d8576b\"], [0.6666666666666666, \"#ed7953\"], [0.7777777777777778, \"#fb9f3a\"], [0.8888888888888888, \"#fdca26\"], [1.0, \"#f0f921\"]], \"type\": \"histogram2dcontour\"}], \"mesh3d\": [{\"colorbar\": {\"outlinewidth\": 0, \"ticks\": \"\"}, \"type\": \"mesh3d\"}], \"parcoords\": [{\"line\": {\"colorbar\": {\"outlinewidth\": 0, \"ticks\": \"\"}}, \"type\": \"parcoords\"}], \"pie\": [{\"automargin\": true, \"type\": \"pie\"}], \"scatter\": [{\"marker\": {\"colorbar\": {\"outlinewidth\": 0, \"ticks\": \"\"}}, \"type\": \"scatter\"}], \"scatter3d\": [{\"line\": {\"colorbar\": {\"outlinewidth\": 0, \"ticks\": \"\"}}, \"marker\": {\"colorbar\": {\"outlinewidth\": 0, \"ticks\": \"\"}}, \"type\": \"scatter3d\"}], \"scattercarpet\": [{\"marker\": {\"colorbar\": {\"outlinewidth\": 0, \"ticks\": \"\"}}, \"type\": \"scattercarpet\"}], \"scattergeo\": [{\"marker\": {\"colorbar\": {\"outlinewidth\": 0, \"ticks\": \"\"}}, \"type\": \"scattergeo\"}], \"scattergl\": [{\"marker\": {\"colorbar\": {\"outlinewidth\": 0, \"ticks\": \"\"}}, \"type\": \"scattergl\"}], \"scattermapbox\": [{\"marker\": {\"colorbar\": {\"outlinewidth\": 0, \"ticks\": \"\"}}, \"type\": \"scattermapbox\"}], \"scatterpolar\": [{\"marker\": {\"colorbar\": {\"outlinewidth\": 0, \"ticks\": \"\"}}, \"type\": \"scatterpolar\"}], \"scatterpolargl\": [{\"marker\": {\"colorbar\": {\"outlinewidth\": 0, \"ticks\": \"\"}}, \"type\": \"scatterpolargl\"}], \"scatterternary\": [{\"marker\": {\"colorbar\": {\"outlinewidth\": 0, \"ticks\": \"\"}}, \"type\": \"scatterternary\"}], \"surface\": [{\"colorbar\": {\"outlinewidth\": 0, \"ticks\": \"\"}, \"colorscale\": [[0.0, \"#0d0887\"], [0.1111111111111111, \"#46039f\"], [0.2222222222222222, \"#7201a8\"], [0.3333333333333333, \"#9c179e\"], [0.4444444444444444, \"#bd3786\"], [0.5555555555555556, \"#d8576b\"], [0.6666666666666666, \"#ed7953\"], [0.7777777777777778, \"#fb9f3a\"], [0.8888888888888888, \"#fdca26\"], [1.0, \"#f0f921\"]], \"type\": \"surface\"}], \"table\": [{\"cells\": {\"fill\": {\"color\": \"#EBF0F8\"}, \"line\": {\"color\": \"white\"}}, \"header\": {\"fill\": {\"color\": \"#C8D4E3\"}, \"line\": {\"color\": \"white\"}}, \"type\": \"table\"}]}, \"layout\": {\"annotationdefaults\": {\"arrowcolor\": \"#2a3f5f\", \"arrowhead\": 0, \"arrowwidth\": 1}, \"autotypenumbers\": \"strict\", \"coloraxis\": {\"colorbar\": {\"outlinewidth\": 0, \"ticks\": \"\"}}, \"colorscale\": {\"diverging\": [[0, \"#8e0152\"], [0.1, \"#c51b7d\"], [0.2, \"#de77ae\"], [0.3, \"#f1b6da\"], [0.4, \"#fde0ef\"], [0.5, \"#f7f7f7\"], [0.6, \"#e6f5d0\"], [0.7, \"#b8e186\"], [0.8, \"#7fbc41\"], [0.9, \"#4d9221\"], [1, \"#276419\"]], \"sequential\": [[0.0, \"#0d0887\"], [0.1111111111111111, \"#46039f\"], [0.2222222222222222, \"#7201a8\"], [0.3333333333333333, \"#9c179e\"], [0.4444444444444444, \"#bd3786\"], [0.5555555555555556, \"#d8576b\"], [0.6666666666666666, \"#ed7953\"], [0.7777777777777778, \"#fb9f3a\"], [0.8888888888888888, \"#fdca26\"], [1.0, \"#f0f921\"]], \"sequentialminus\": [[0.0, \"#0d0887\"], [0.1111111111111111, \"#46039f\"], [0.2222222222222222, \"#7201a8\"], [0.3333333333333333, \"#9c179e\"], [0.4444444444444444, \"#bd3786\"], [0.5555555555555556, \"#d8576b\"], [0.6666666666666666, \"#ed7953\"], [0.7777777777777778, \"#fb9f3a\"], [0.8888888888888888, \"#fdca26\"], [1.0, \"#f0f921\"]]}, \"colorway\": [\"#636efa\", \"#EF553B\", \"#00cc96\", \"#ab63fa\", \"#FFA15A\", \"#19d3f3\", \"#FF6692\", \"#B6E880\", \"#FF97FF\", \"#FECB52\"], \"font\": {\"color\": \"#2a3f5f\"}, \"geo\": {\"bgcolor\": \"white\", \"lakecolor\": \"white\", \"landcolor\": \"#E5ECF6\", \"showlakes\": true, \"showland\": true, \"subunitcolor\": \"white\"}, \"hoverlabel\": {\"align\": \"left\"}, \"hovermode\": \"closest\", \"mapbox\": {\"style\": \"light\"}, \"paper_bgcolor\": \"white\", \"plot_bgcolor\": \"#E5ECF6\", \"polar\": {\"angularaxis\": {\"gridcolor\": \"white\", \"linecolor\": \"white\", \"ticks\": \"\"}, \"bgcolor\": \"#E5ECF6\", \"radialaxis\": {\"gridcolor\": \"white\", \"linecolor\": \"white\", \"ticks\": \"\"}}, \"scene\": {\"xaxis\": {\"backgroundcolor\": \"#E5ECF6\", \"gridcolor\": \"white\", \"gridwidth\": 2, \"linecolor\": \"white\", \"showbackground\": true, \"ticks\": \"\", \"zerolinecolor\": \"white\"}, \"yaxis\": {\"backgroundcolor\": \"#E5ECF6\", \"gridcolor\": \"white\", \"gridwidth\": 2, \"linecolor\": \"white\", \"showbackground\": true, \"ticks\": \"\", \"zerolinecolor\": \"white\"}, \"zaxis\": {\"backgroundcolor\": \"#E5ECF6\", \"gridcolor\": \"white\", \"gridwidth\": 2, \"linecolor\": \"white\", \"showbackground\": true, \"ticks\": \"\", \"zerolinecolor\": \"white\"}}, \"shapedefaults\": {\"line\": {\"color\": \"#2a3f5f\"}}, \"ternary\": {\"aaxis\": {\"gridcolor\": \"white\", \"linecolor\": \"white\", \"ticks\": \"\"}, \"baxis\": {\"gridcolor\": \"white\", \"linecolor\": \"white\", \"ticks\": \"\"}, \"bgcolor\": \"#E5ECF6\", \"caxis\": {\"gridcolor\": \"white\", \"linecolor\": \"white\", \"ticks\": \"\"}}, \"title\": {\"x\": 0.05}, \"xaxis\": {\"automargin\": true, \"gridcolor\": \"white\", \"linecolor\": \"white\", \"ticks\": \"\", \"title\": {\"standoff\": 15}, \"zerolinecolor\": \"white\", \"zerolinewidth\": 2}, \"yaxis\": {\"automargin\": true, \"gridcolor\": \"white\", \"linecolor\": \"white\", \"ticks\": \"\", \"title\": {\"standoff\": 15}, \"zerolinecolor\": \"white\", \"zerolinewidth\": 2}}}, \"xaxis\": {\"anchor\": \"y\", \"domain\": [0.0, 1.0], \"title\": {\"text\": \"time\"}}, \"yaxis\": {\"anchor\": \"x\", \"domain\": [0.0, 1.0], \"title\": {\"text\": \"value\"}}},                        {\"responsive\": true}                    ).then(function(){\n",
       "                            \n",
       "var gd = document.getElementById('9688004a-30a5-4038-9e66-3ffaa8ab2b13');\n",
       "var x = new MutationObserver(function (mutations, observer) {{\n",
       "        var display = window.getComputedStyle(gd).display;\n",
       "        if (!display || display === 'none') {{\n",
       "            console.log([gd, 'removed!']);\n",
       "            Plotly.purge(gd);\n",
       "            observer.disconnect();\n",
       "        }}\n",
       "}});\n",
       "\n",
       "// Listen for the removal of the full notebook cells\n",
       "var notebookContainer = gd.closest('#notebook-container');\n",
       "if (notebookContainer) {{\n",
       "    x.observe(notebookContainer, {childList: true});\n",
       "}}\n",
       "\n",
       "// Listen for the clearing of the current output cell\n",
       "var outputEl = gd.closest('.output');\n",
       "if (outputEl) {{\n",
       "    x.observe(outputEl, {childList: true});\n",
       "}}\n",
       "\n",
       "                        })                };                });            </script>        </div>"
      ]
     },
     "metadata": {},
     "output_type": "display_data"
    }
   ],
   "source": [
    "px.line(info)"
   ]
  },
  {
   "cell_type": "code",
   "execution_count": null,
   "metadata": {},
   "outputs": [],
   "source": []
  },
  {
   "cell_type": "code",
   "execution_count": null,
   "metadata": {},
   "outputs": [],
   "source": []
  }
 ],
 "metadata": {
  "kernelspec": {
   "display_name": "Python 3",
   "language": "python",
   "name": "python3"
  },
  "language_info": {
   "codemirror_mode": {
    "name": "ipython",
    "version": 3
   },
   "file_extension": ".py",
   "mimetype": "text/x-python",
   "name": "python",
   "nbconvert_exporter": "python",
   "pygments_lexer": "ipython3",
   "version": "3.7.3"
  }
 },
 "nbformat": 4,
 "nbformat_minor": 2
}
